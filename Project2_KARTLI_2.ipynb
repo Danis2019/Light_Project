{
 "cells": [
  {
   "cell_type": "markdown",
   "metadata": {},
   "source": [
    "# Подключение библиотек"
   ]
  },
  {
   "cell_type": "code",
   "execution_count": 2,
   "metadata": {},
   "outputs": [],
   "source": [
    "from datetime import datetime, timedelta\n",
    "import matplotlib.pyplot as plt\n",
    "import pandas as pd\n",
    "import numpy as np\n",
    "from pandas.plotting import register_matplotlib_converters\n",
    "register_matplotlib_converters()\n",
    "import MetaTrader5 as mt5\n",
    "import time\n",
    "import struct\n",
    "import os"
   ]
  },
  {
   "cell_type": "markdown",
   "metadata": {},
   "source": [
    "# Подключимся к MetaTrader 5"
   ]
  },
  {
   "cell_type": "code",
   "execution_count": 3,
   "metadata": {},
   "outputs": [],
   "source": [
    "if not mt5.initialize():\n",
    "    print(\"initialize() failed\")\n",
    "    quit()"
   ]
  },
  {
   "cell_type": "code",
   "execution_count": 4,
   "metadata": {},
   "outputs": [],
   "source": [
    "def take_rates(): \n",
    "    eurusd_rates = mt5.copy_rates_from_pos(\"EURUSD\", mt5.TIMEFRAME_M1, 0, 15)\n",
    "    gbpusd_rates = mt5.copy_rates_from_pos(\"AUDUSD\", mt5.TIMEFRAME_M1, 0, 15)\n",
    "    return eurusd_rates, gbpusd_rates"
   ]
  },
  {
   "cell_type": "code",
   "execution_count": 18,
   "metadata": {},
   "outputs": [],
   "source": [
    "def calculation(rate1, rate2, lotaud):\n",
    "    spread = rate1 - rate2 * lotaud * 10 # Вычисляем спред\n",
    "    spread = np.array(spread)\n",
    "    median = np.median(spread)\n",
    "    Open_up = list()\n",
    "    Open_down = list()\n",
    "    Open_UP =0\n",
    "    Open_DOWN = 0\n",
    "    #Вычисляем верхнюю и нижнюю границу\n",
    "    for i in range(0,len(spread)):\n",
    "        if spread[i] > median:\n",
    "            Open_up.append(spread[i])\n",
    "        if spread[i] < median:\n",
    "            Open_down.append(spread[i])\n",
    "    Open_UP =np.median(Open_up)\n",
    "    Open_DOWN = np.median(Open_down)\n",
    "    return Open_UP, Open_DOWN, median"
   ]
  },
  {
   "cell_type": "markdown",
   "metadata": {},
   "source": [
    "# Подготавливаем все запросы\n",
    "## Нам нужно 8 запросов: 4 для открытия позиции, 4 для закрытия позиции."
   ]
  },
  {
   "cell_type": "code",
   "execution_count": 6,
   "metadata": {},
   "outputs": [],
   "source": [
    "symbol_Euro = \"EURUSD\"\n",
    "symbol_aud = \"AUDUSD\"\n",
    "symbol_Euro_info =mt5.symbol_info(symbol_Euro)\n",
    "symbol_Aud_info =mt5.symbol_info(symbol_aud)\n",
    "loteuro = 0.1\n",
    "lotaud = round(loteuro * symbol_Euro_info.session_close / symbol_Aud_info.session_close, 2)\n",
    "point_euro = mt5.symbol_info(symbol_Euro).point\n",
    "point_Aud = mt5.symbol_info(symbol_aud).point\n",
    "deviation = 1\n",
    "\n",
    "# #Краткое описание каждого аргумента\n",
    "\n",
    "# \"action\": mt5.TRADE_ACTION_DEAL,      # Совершить сделку прямо сейчас\n",
    "\n",
    "# \"symbol\": symbol_Euro,                # Валюта сделки\n",
    "\n",
    "# \"volume\": lot,                        # Объем который мы покупаем: У нас равен 1\n",
    "\n",
    "# \"type\": mt5.ORDER_TYPE_SELL,          # Покупаем или продаём\n",
    "\n",
    "# \"deviation\": deviation,               # Максимальное отклонение от заданной цены\n",
    "\n",
    "# \"magic\": 123456,                      # Идентификатор эксперта. \n",
    "#                                       #Позволяет организовать аналитическую обработку торговых ордеров.    \n",
    "\n",
    "# \"comment\": \"Какой либо комментарий\",  # Комменатрий к запросу\n",
    "\n",
    "# \"type_time\": mt5.ORDER_TIME_GTC,      # Тип ордера по истечению: У нас Ордер будет находиться \n",
    "#                                       # в очереди до тех пор, пока не будет снят\n",
    "\n",
    "# \"type_filling\": mt5.ORDER_FILLING_FOK,# Не будет продажи, если нет необходимого обьема \n",
    "    \n",
    "    \n",
    "request_euro_sell_open = {\n",
    "\"action\": mt5.TRADE_ACTION_DEAL,\n",
    "\"symbol\": symbol_Euro,\n",
    "\"volume\": loteuro, \n",
    "\"type\": mt5.ORDER_TYPE_SELL,\n",
    "\"deviation\": deviation,\n",
    "\"magic\": 123456,\n",
    "\"comment\": \"Открыли позицию, купили евро\",\n",
    "\"type_time\": mt5.ORDER_TIME_GTC,\n",
    "\"type_filling\": mt5.ORDER_FILLING_FOK,\n",
    "    \n",
    "\n",
    "}\n",
    "request_aud_buy_open = {\n",
    "\"action\": mt5.TRADE_ACTION_DEAL,\n",
    "\"symbol\": symbol_aud,\n",
    "\"volume\": lotaud,\n",
    "\"type\": mt5.ORDER_TYPE_BUY,\n",
    "\"deviation\": deviation,\n",
    "\"magic\": 123456,\n",
    "\"comment\": \"Открыли позицию, продали фунт\",\n",
    "\"type_time\": mt5.ORDER_TIME_GTC,\n",
    "\"type_filling\": mt5.ORDER_FILLING_FOK,      \n",
    "}\n",
    "\n",
    "request_euro_buy_open = {\n",
    "\"action\": mt5.TRADE_ACTION_DEAL,\n",
    "\"symbol\": symbol_Euro,\n",
    "\"volume\": loteuro,\n",
    "\"type\": mt5.ORDER_TYPE_BUY, \n",
    "\"deviation\": deviation,\n",
    "\"magic\": 123456,\n",
    "\"comment\": \"Открыли позицию, купили евро\",\n",
    "\"type_time\": mt5.ORDER_TIME_GTC,\n",
    "\"type_filling\": mt5.ORDER_FILLING_FOK,  \n",
    "}\n",
    "\n",
    "request_aud_sell_open = {\n",
    "\"action\": mt5.TRADE_ACTION_DEAL,\n",
    "\"symbol\": symbol_aud,\n",
    "\"volume\": lotaud,\n",
    "\"type\": mt5.ORDER_TYPE_SELL, \n",
    "\"deviation\": deviation,\n",
    "\"magic\": 123456,\n",
    "\"comment\": \"Открыли позицию, продали фунт\",\n",
    "\"type_time\": mt5.ORDER_TIME_GTC,\n",
    "\"type_filling\": mt5.ORDER_FILLING_FOK,      \n",
    "}\n",
    "\n",
    "# В запросах для закрытия позиции есть ещё один аргумент\n",
    "\n",
    "#\"position\": order_euro_sell.order,                     # Указывает какую позицию мы закрывем\n",
    "\n",
    "\n",
    "# Чтобы запросы закрытия позции знали, что закрыват откроем предыдущие позции\n",
    "# !!!!!!!!!!!!!!!!!!!!!!!!!!!!!!!!!!!!!!!!!!!!!!!!!!!!!!!!!!!!!!!!!\n",
    "order_euro_buy_open = mt5.order_send(request_euro_buy_open)\n",
    "order_euro_sell_open = mt5.order_send(request_euro_sell_open)\n",
    "order_aud_buy_open = mt5.order_send(request_aud_buy_open)\n",
    "order_aud_sell_open = mt5.order_send(request_aud_sell_open)\n",
    "# !!!!!!!!!!!!!!!!!!!!!!!!!!!!!!!!!!!!!!!!!!!!!!!!!!!!!!!!!!!!!!!!!\n",
    "\n",
    "request_euro_buy_close = { \n",
    "\"action\": mt5.TRADE_ACTION_DEAL, \n",
    "\"symbol\": symbol_Euro, \n",
    "\"volume\": loteuro, \n",
    "\"type\": mt5.ORDER_TYPE_BUY,\n",
    "\"position\": order_euro_sell_open.order,\n",
    "\"deviation\": deviation, \n",
    "\"magic\": 123456, \n",
    "\"comment\": \"купили евро\", \n",
    "\"type_time\": mt5.ORDER_TIME_GTC, \n",
    "\"type_filling\": mt5.ORDER_FILLING_FOK, \n",
    "}\n",
    "request_aud_sell_close = {\n",
    "\"action\": mt5.TRADE_ACTION_DEAL,\n",
    "\"symbol\": symbol_aud,\n",
    "\"volume\": lotaud,\n",
    "\"type\": mt5.ORDER_TYPE_SELL,\n",
    "\"position\": order_aud_buy_open.order,\n",
    "\"deviation\": deviation,\n",
    "\"magic\": 123456,\n",
    "\"comment\": \"продажа фунта\",\n",
    "\"type_time\": mt5.ORDER_TIME_GTC,\n",
    "\"type_filling\": mt5.ORDER_FILLING_FOK,   \n",
    "}\n",
    "request_euro_sell_close = { \n",
    "\"action\": mt5.TRADE_ACTION_DEAL, \n",
    "\"symbol\": symbol_Euro, \n",
    "\"volume\": loteuro, \n",
    "\"type\": mt5.ORDER_TYPE_SELL,\n",
    "\"position\": order_euro_buy_open.order,\n",
    "\"deviation\": deviation, \n",
    "\"magic\": 123456, \n",
    "\"comment\": \"купили евро\", \n",
    "\"type_time\": mt5.ORDER_TIME_GTC, \n",
    "\"type_filling\": mt5.ORDER_FILLING_FOK, \n",
    "}\n",
    "request_aud_buy_close = {\n",
    "\"action\": mt5.TRADE_ACTION_DEAL,\n",
    "\"symbol\": symbol_aud,\n",
    "\"volume\": lotaud,\n",
    "\"type\": mt5.ORDER_TYPE_BUY,\n",
    "\"position\": order_aud_sell_open.order,\n",
    "\"deviation\": deviation,\n",
    "\"magic\": 123456,\n",
    "\"comment\": \"продажа фунта\",\n",
    "\"type_time\": mt5.ORDER_TIME_GTC,\n",
    "\"type_filling\": mt5.ORDER_FILLING_FOK,   \n",
    "}"
   ]
  },
  {
   "cell_type": "markdown",
   "metadata": {},
   "source": [
    "# Функции для открытия и закрытия позиции"
   ]
  },
  {
   "cell_type": "code",
   "execution_count": 7,
   "metadata": {},
   "outputs": [],
   "source": [
    "def request_open_up_pos(): \n",
    "    result = mt5.order_send(request_euro_sell_open) \n",
    "    result2 = mt5.order_send(request_aud_buy_open)\n",
    "    print('Открыл сверху')"
   ]
  },
  {
   "cell_type": "code",
   "execution_count": 8,
   "metadata": {},
   "outputs": [],
   "source": [
    "def request_open_down_pos(): \n",
    "    result =mt5.order_send(request_euro_buy_open) \n",
    "    result2 = mt5.order_send(request_aud_sell_open)\n",
    "    print('Открыл снизу')"
   ]
  },
  {
   "cell_type": "code",
   "execution_count": 9,
   "metadata": {},
   "outputs": [],
   "source": [
    "def request_close_up_pos():\n",
    "    result = mt5.order_send(request_euro_buy_close) \n",
    "    result2 = mt5.order_send(request_aud_sell_close)\n",
    "    print('Закрыл сверху')"
   ]
  },
  {
   "cell_type": "code",
   "execution_count": 10,
   "metadata": {},
   "outputs": [],
   "source": [
    "def request_close_down_pos():\n",
    "    result = mt5.order_send(request_euro_sell_close) \n",
    "    result2 = mt5.order_send(request_aud_buy_close)\n",
    "    print('Закрыл снизу')"
   ]
  },
  {
   "cell_type": "markdown",
   "metadata": {},
   "source": [
    "# Бесконечный цикл 1:\n",
    "## Отрывает позицию в большом объеме и закрывает её как достигнет условие(Условие: тики раз в 10 мин за последний год)"
   ]
  },
  {
   "cell_type": "code",
   "execution_count": 25,
   "metadata": {},
   "outputs": [
    {
     "name": "stdout",
     "output_type": "stream",
     "text": [
      "0.02729500000000029 0.02694500000000022 0.027140000000000164\n",
      "Открыл сверху\n",
      "Закрыл сверху\n",
      "0.027695000000000025 0.02719999999999989 0.027349999999999985\n",
      "0.027730000000000254 0.02751999999999999 0.027665000000000273\n",
      "Открыл снизу\n",
      "Закрыл снизу\n",
      "0.027410000000000156 0.027344999999999953 0.027370000000000116\n",
      "Открыл снизу\n",
      "Закрыл снизу\n",
      "Открыл сверху\n"
     ]
    },
    {
     "ename": "KeyboardInterrupt",
     "evalue": "",
     "output_type": "error",
     "traceback": [
      "\u001b[1;31m---------------------------------------------------------------------------\u001b[0m",
      "\u001b[1;31mKeyboardInterrupt\u001b[0m                         Traceback (most recent call last)",
      "\u001b[1;32m<ipython-input-25-0a82d0f42653>\u001b[0m in \u001b[0;36m<module>\u001b[1;34m\u001b[0m\n\u001b[0;32m     25\u001b[0m         \u001b[0mprint\u001b[0m\u001b[1;33m(\u001b[0m\u001b[0mOpen_Up\u001b[0m\u001b[1;33m,\u001b[0m \u001b[0mOpen_Down\u001b[0m\u001b[1;33m,\u001b[0m \u001b[0mClose\u001b[0m\u001b[1;33m)\u001b[0m\u001b[1;33m\u001b[0m\u001b[1;33m\u001b[0m\u001b[0m\n\u001b[0;32m     26\u001b[0m         \u001b[0mtime\u001b[0m\u001b[1;33m.\u001b[0m\u001b[0msleep\u001b[0m\u001b[1;33m(\u001b[0m\u001b[1;36m1\u001b[0m\u001b[1;33m)\u001b[0m\u001b[1;33m\u001b[0m\u001b[1;33m\u001b[0m\u001b[0m\n\u001b[1;32m---> 27\u001b[1;33m     \u001b[0mlast_tick_AUDUSD_ask\u001b[0m \u001b[1;33m=\u001b[0m \u001b[0mmt5\u001b[0m\u001b[1;33m.\u001b[0m\u001b[0msymbol_info_tick\u001b[0m\u001b[1;33m(\u001b[0m\u001b[1;34m\"AUDUSD\"\u001b[0m\u001b[1;33m)\u001b[0m\u001b[1;33m.\u001b[0m\u001b[0mask\u001b[0m\u001b[1;33m\u001b[0m\u001b[1;33m\u001b[0m\u001b[0m\n\u001b[0m\u001b[0;32m     28\u001b[0m     \u001b[0mlast_tick_EURUSD_ask\u001b[0m \u001b[1;33m=\u001b[0m \u001b[0mmt5\u001b[0m\u001b[1;33m.\u001b[0m\u001b[0msymbol_info_tick\u001b[0m\u001b[1;33m(\u001b[0m\u001b[1;34m\"EURUSD\"\u001b[0m\u001b[1;33m)\u001b[0m\u001b[1;33m.\u001b[0m\u001b[0mask\u001b[0m\u001b[1;33m\u001b[0m\u001b[1;33m\u001b[0m\u001b[0m\n\u001b[0;32m     29\u001b[0m     \u001b[0mlast_tick_AUDUSD_bid\u001b[0m \u001b[1;33m=\u001b[0m \u001b[0mmt5\u001b[0m\u001b[1;33m.\u001b[0m\u001b[0msymbol_info_tick\u001b[0m\u001b[1;33m(\u001b[0m\u001b[1;34m\"AUDUSD\"\u001b[0m\u001b[1;33m)\u001b[0m\u001b[1;33m.\u001b[0m\u001b[0mbid\u001b[0m\u001b[1;33m\u001b[0m\u001b[1;33m\u001b[0m\u001b[0m\n",
      "\u001b[1;31mKeyboardInterrupt\u001b[0m: "
     ]
    }
   ],
   "source": [
    "#Достаём значения для открытия и закрытия позиции\n",
    "values = calculation(take_rates()[0]['close'], take_rates()[1]['close'], lotaud)\n",
    "Open_Up = values[0]\n",
    "Open_Down = values[1]\n",
    "Close = values[2]\n",
    "print(Open_Up, Open_Down, Close)\n",
    "#Некоторые переменные для подсчитывания открытых позиции и прибыли\n",
    "Pos_Up = False\n",
    "Pos_Down = False\n",
    "quantity_open = 0\n",
    "quantity_close = 0\n",
    "balance_old = mt5.account_info().balance\n",
    "while(True):\n",
    "    if datetime.now().minute % 15 == 0 and datetime.now().second == 0:\n",
    "        if Pos_Up == True:\n",
    "            Pos_Up = False\n",
    "            request_close_up_pos()\n",
    "        if Pos_Down == True:\n",
    "            Pos_Down = False\n",
    "            request_close_down_pos()\n",
    "        values = calculation(take_rates()[0]['close'], take_rates()[1]['close'], lotaud)\n",
    "        Open_Up = values[0]\n",
    "        Open_Down = values[1]\n",
    "        Close = values[2]\n",
    "        print(Open_Up, Open_Down, Close)\n",
    "        time.sleep(1)\n",
    "    last_tick_AUDUSD_ask = mt5.symbol_info_tick(\"AUDUSD\").ask\n",
    "    last_tick_EURUSD_ask = mt5.symbol_info_tick(\"EURUSD\").ask\n",
    "    last_tick_AUDUSD_bid = mt5.symbol_info_tick(\"AUDUSD\").bid\n",
    "    last_tick_EURUSD_bid = mt5.symbol_info_tick(\"EURUSD\").bid\n",
    "    \n",
    "    if Pos_Up == False: #Купить дешевую продать дорогую\n",
    "        last_spread_up = last_tick_EURUSD_bid- last_tick_AUDUSD_ask * lotaud * 10\n",
    "        \n",
    "    if Pos_Down == False:#Купить дешевую продать дорогую\n",
    "        last_spread_down = last_tick_EURUSD_ask - last_tick_AUDUSD_bid * lotaud * 10\n",
    "        \n",
    "    if Pos_Up == True: #Купить дешевую продать дорогую\n",
    "        last_spread_up = last_tick_EURUSD_ask - last_tick_AUDUSD_bid * lotaud * 10\n",
    "        \n",
    "    if Pos_Down == True:#Купить дешевую продать дорогую\n",
    "        last_spread_down = last_tick_EURUSD_bid - last_tick_AUDUSD_ask * lotaud * 10\n",
    "\n",
    "    #print(last_spread_up)\n",
    "\n",
    "    if last_spread_up > Open_Up and Pos_Up == False:\n",
    "        Pos_Up = True\n",
    "        request_open_up_pos()    \n",
    "\n",
    "    if last_spread_down < Open_Down and Pos_Down == False:\n",
    "        Pos_Down = True\n",
    "        request_open_down_pos()\n",
    "        \n",
    "    if last_spread_up <= Close and Pos_Up == True:\n",
    "        Pos_Up = False\n",
    "        request_close_up_pos()\n",
    "        \n",
    "    if last_spread_down >= Close and Pos_Down == True:\n",
    "        Pos_Down = False\n",
    "        request_close_down_pos()"
   ]
  },
  {
   "cell_type": "code",
   "execution_count": 108,
   "metadata": {},
   "outputs": [
    {
     "data": {
      "text/plain": [
       "True"
      ]
     },
     "execution_count": 108,
     "metadata": {},
     "output_type": "execute_result"
    }
   ],
   "source": [
    "mt5.shutdown()"
   ]
  },
  {
   "cell_type": "markdown",
   "metadata": {},
   "source": [
    "#  Далее черновой код не использующийся в основной программе"
   ]
  }
 ],
 "metadata": {
  "kernelspec": {
   "display_name": "Python 3",
   "language": "python",
   "name": "python3"
  },
  "language_info": {
   "codemirror_mode": {
    "name": "ipython",
    "version": 3
   },
   "file_extension": ".py",
   "mimetype": "text/x-python",
   "name": "python",
   "nbconvert_exporter": "python",
   "pygments_lexer": "ipython3",
   "version": "3.8.3"
  }
 },
 "nbformat": 4,
 "nbformat_minor": 4
}
