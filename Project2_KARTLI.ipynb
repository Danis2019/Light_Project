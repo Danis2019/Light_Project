{
 "cells": [
  {
   "cell_type": "code",
   "execution_count": 41,
   "metadata": {},
   "outputs": [
    {
     "name": "stdout",
     "output_type": "stream",
     "text": [
      "Requirement already satisfied: MetaTrader5 in c:\\users\\acer\\anaconda3\\lib\\site-packages (5.0.33)\n",
      "Requirement already satisfied: numpy>=1.7 in c:\\users\\acer\\anaconda3\\lib\\site-packages (from MetaTrader5) (1.18.5)\n",
      "Note: you may need to restart the kernel to use updated packages.\n"
     ]
    }
   ],
   "source": [
    " pip install MetaTrader5"
   ]
  },
  {
   "cell_type": "code",
   "execution_count": 54,
   "metadata": {},
   "outputs": [],
   "source": [
    "from datetime import datetime, timedelta\n",
    "import matplotlib.pyplot as plt\n",
    "import pandas as pd\n",
    "import numpy as np\n",
    "from pandas.plotting import register_matplotlib_converters\n",
    "register_matplotlib_converters()\n",
    "import MetaTrader5 as mt5\n",
    "import time\n",
    "import struct\n",
    "# import trinket"
   ]
  },
  {
   "cell_type": "code",
   "execution_count": 55,
   "metadata": {},
   "outputs": [],
   "source": [
    "# подключимся к MetaTrader 5\n",
    "if not mt5.initialize():\n",
    "    print(\"initialize() failed\")\n",
    "    quit()"
   ]
  },
  {
   "cell_type": "code",
   "execution_count": 56,
   "metadata": {},
   "outputs": [],
   "source": [
    "#Получим тики EURRUB и USDRUB со вчерашнего дня по сегодняшний день\n",
    "def take_ticks():\n",
    "    eurrub_ticks = mt5.copy_ticks_range(\"GBPUSD\",\n",
    "                                         datetime.now() - timedelta(days=1),\n",
    "                                         datetime.now(),\n",
    "                                         mt5.COPY_TICKS_ALL)\n",
    "\n",
    "    usdrub_ticks = mt5.copy_ticks_range(\"EURUSD\", \n",
    "                                         datetime.now() - timedelta(days=1),\n",
    "                                         datetime.now(),\n",
    "                                         mt5.COPY_TICKS_ALL)\n",
    "    return eurrub_ticks, usdrub_ticks"
   ]
  },
  {
   "cell_type": "code",
   "execution_count": 57,
   "metadata": {},
   "outputs": [],
   "source": [
    "# подготовка запроса\n",
    "symbol_dol = \"EURUSD\"\n",
    "symbol_euro = \"GBPUSD\"\n",
    "symbol_dol_info =mt5.symbol_info(symbol_dol)\n",
    "symbol_euro_info =mt5.symbol_info(symbol_euro)\n",
    "lot = 0.01 \n",
    "point_dol = mt5.symbol_info(symbol_dol).point \n",
    "price_dol = mt5.symbol_info_tick(symbol_dol).ask\n",
    "price_euro = mt5.symbol_info_tick(symbol_euro).ask\n",
    "point_euro = mt5.symbol_info(symbol_euro).point\n",
    "# deviation = отклонение\n",
    "deviation = 20 \n",
    "# запросы\n",
    "\n",
    "#  struct MqlTradeRequest\n",
    "#   {\n",
    "#    ENUM_TRADE_REQUEST_ACTIONS    action;           // Тип выполняемого действия\n",
    "#    ulong                         magic;            // Штамп эксперта (идентификатор magic number)\n",
    "#    ulong                         order;            // Тикет ордера\n",
    "#    string                        symbol;           // Имя торгового инструмента\n",
    "#    double                        volume;           // Запрашиваемый объем сделки в лотах\n",
    "#    double                        price;            // Цена \n",
    "#    double                        stoplimit;        // Уровень StopLimit ордера\n",
    "#    double                        sl;               // Уровень Stop Loss ордера\n",
    "#    double                        tp;               // Уровень Take Profit ордера\n",
    "#    ulong                         deviation;        // Максимально приемлемое отклонение от запрашиваемой цены\n",
    "#    ENUM_ORDER_TYPE               type;             // Тип ордера\n",
    "#    ENUM_ORDER_TYPE_FILLING       type_filling;     // Тип ордера по исполнению\n",
    "#    ENUM_ORDER_TYPE_TIME          type_time;        // Тип ордера по времени действия\n",
    "#    datetime                      expiration;       // Срок истечения ордера (для ордеров типа ORDER_TIME_SPECIFIED)\n",
    "#    string                        comment;          // Комментарий к ордеру\n",
    "#    ulong                         position;         // Тикет позиции\n",
    "#    ulong                         position_by;      // Тикет встречной позиции\n",
    "#   };\n",
    "   \n",
    "\n",
    "# покупка доллара\n",
    "request = { \n",
    "\"action\": mt5.TRADE_ACTION_DEAL, \n",
    "\"symbol\": symbol_dol, \n",
    "\"volume\": lot, \n",
    "\"type\": mt5.ORDER_TYPE_BUY, \n",
    "\"price\": price_dol, \n",
    "\"stoplimit\": price_dol*1.25,\n",
    "\"deviation\": deviation, \n",
    "\"magic\": 123456, \n",
    "\"comment\": \"купили доллар\", \n",
    "\"type_time\": mt5.ORDER_TIME_GTC, \n",
    "\"type_filling\": mt5.ORDER_FILLING_FOK, \n",
    "}\n",
    "\n",
    "# продажа доллара\n",
    "request_2 = {\n",
    "\"action\": mt5.TRADE_ACTION_DEAL,# Совершить сделку прямо сейчас\n",
    "\"symbol\": symbol_dol, # Сделка USDRUB\n",
    "\"volume\": lot, # Объем который мы покупаем\n",
    "\"type\": mt5.ORDER_TYPE_SELL, # Покупаем или продаём\n",
    "#\"price\": price, # Для .TRADE_ACTION_DEAL не требуется\n",
    "\"deviation\": deviation, # Максимальное отклонение от заданной цены\n",
    "\"magic\": 123456, #Идентификатор эксперта. Позволяет организовать аналитическую обработку торговых ордеров.\n",
    "\"comment\": \"продали доллар\",\n",
    "\"type_time\": mt5.ORDER_TIME_GTC,\n",
    "\"type_filling\": mt5.ORDER_FILLING_FOK,   #не будет продажи если нет необходимого обьема \n",
    "    \n",
    "                                            #Означает согласие совершить сделку \n",
    "                                            #по максимально доступному на рынке \n",
    "                                            #объему в пределах указанного в ордере. \n",
    "                                            #В случае невозможности полного исполнения ордер \n",
    "                                            #будет исполнен на доступный объем, а неисполненный объем ордера будет отменен.\n",
    "}\n",
    "\n",
    "request2 = {\n",
    "\"action\": mt5.TRADE_ACTION_DEAL,\n",
    "\"symbol\": symbol_euro, # Сделка EURRUB\n",
    "\"volume\": lot, # Объем который мы покупаем\n",
    "\"type\": mt5.ORDER_TYPE_SELL,\n",
    "\"price\": price_euro,\n",
    "\"deviation\": deviation,\n",
    "\"magic\": 123456, #Идентификатор эксперта. Позволяет организовать аналитическую обработку торговых ордеров.\n",
    "\"comment\": \"продажа евро\",\n",
    "\"type_time\": mt5.ORDER_TIME_GTC,        # Ордер будет находиться в очереди до тех пор, пока не будет снят\n",
    "\"type_filling\": mt5.ORDER_FILLING_FOK,   #Означает согласие совершить сделку \n",
    "                                            #по максимально доступному на рынке \n",
    "                                            #объему в пределах указанного в ордере. \n",
    "                                            #В случае невозможности полного исполнения ордер \n",
    "                                            #будет исполнен на доступный объем, а неисполненный объем ордера будет отменен.\n",
    "}\n",
    "request2_2= {\n",
    "\"action\": mt5.TRADE_ACTION_DEAL,\n",
    "\"symbol\": symbol_euro, # Сделка EURRUB\n",
    "#\"volume\": 1.0, # Объем который мы покупаем\n",
    "\"type\": mt5.ORDER_TYPE_BUY,\n",
    "#\"price\": price,\n",
    "\"deviation\": deviation,\n",
    "\"magic\": 123456, #Идентификатор эксперта. Позволяет организовать аналитическую обработку торговых ордеров.\n",
    "\"comment\": \"python script open\",\n",
    "\"type_time\": mt5.ORDER_TIME_GTC,        # Ордер будет находиться в очереди до тех пор, пока не будет снят\n",
    "\"type_filling\": mt5.ORDER_FILLING_FOK,      #Означает согласие совершить сделку \n",
    "                                            #по максимально доступному на рынке \n",
    "                                            #объему в пределах указанного в ордере. \n",
    "                                            #В случае невозможности полного исполнения ордер \n",
    "                                            #будет исполнен на доступный объем, а неисполненный объем ордера будет отменен.\n",
    "}\n",
    "# request-ПОКУПКА ДОЛЛАРА\n",
    "# request_2-ПРОДАЖА ДОЛЛАРА\n",
    "# request2-ПРОДАЖА ЕВРО\n",
    "# request2_2-ПОКУПКА ЕВРО\n",
    "\n",
    "request_3 = {\n",
    "\"action\": mt5.TRADE_ACTION_DEAL,# Совершить сделку прямо сейчас\n",
    "\"symbol\": symbol_dol, # Сделка USDRUB\n",
    "\"volume\": lot, # Объем который мы покупаем\n",
    "\"type\": mt5.ORDER_TYPE_SELL, # Покупаем или продаём\n",
    "#\"price\": price, # Для .TRADE_ACTION_DEAL не требуется\n",
    "\"deviation\": deviation, # Максимальное отклонение от заданной цены\n",
    "\"magic\": 123456, #Идентификатор эксперта. Позволяет организовать аналитическую обработку торговых ордеров.\n",
    "\"comment\": \"продали доллар\",\n",
    "\"type_time\": mt5.ORDER_TIME_GTC,\n",
    "\"type_filling\": mt5.ORDER_FILLING_IOC,   #не будет продажи если нет необходимого обьема \n",
    "    \n",
    "                                            #Означает согласие совершить сделку \n",
    "                                            #по максимально доступному на рынке \n",
    "                                            #объему в пределах указанного в ордере. \n",
    "                                            #В случае невозможности полного исполнения ордер \n",
    "                                            #будет исполнен на доступный объем, а неисполненный объем ордера будет отменен.\n",
    "}\n",
    "request3_3= {\n",
    "\"action\": mt5.TRADE_ACTION_DEAL,\n",
    "\"symbol\": symbol_euro, # Сделка EURRUB\n",
    "#\"volume\": 1.0, # Объем который мы покупаем\n",
    "\"type\": mt5.ORDER_TYPE_BUY,\n",
    "#\"price\": price,\n",
    "\"deviation\": deviation,\n",
    "\"magic\": 123456, #Идентификатор эксперта. Позволяет организовать аналитическую обработку торговых ордеров.\n",
    "\"comment\": \"python script open\",\n",
    "\"type_time\": mt5.ORDER_TIME_GTC,        # Ордер будет находиться в очереди до тех пор, пока не будет снят\n",
    "\"type_filling\": mt5.ORDER_FILLING_IOC,      #Означает согласие совершить сделку \n",
    "                                            #по максимально доступному на рынке \n",
    "                                            #объему в пределах указанного в ордере. \n",
    "                                            #В случае невозможности полного исполнения ордер \n",
    "                                            #будет исполнен на доступный объем, а неисполненный объем ордера будет отменен.\n",
    "}"
   ]
  },
  {
   "cell_type": "code",
   "execution_count": 58,
   "metadata": {},
   "outputs": [],
   "source": [
    "# Завершим подключение - // завершать подключение будем в самом конце а если программа \n",
    "# будет использоваться все время то и откл не будем\n"
   ]
  },
  {
   "cell_type": "code",
   "execution_count": 59,
   "metadata": {},
   "outputs": [],
   "source": [
    "def ticks_to_df(eurrub_ticks,usdrub_ticks):\n",
    "    #Переведем имеющиеся у нас данные в DataFrame\n",
    "    eurrub_ticks_frame = pd.DataFrame(eurrub_ticks)\n",
    "    usdrub_ticks_frame = pd.DataFrame(usdrub_ticks)\n",
    "    #Время в MetaTrader 5 хранится в UTC таймзоне, поэтому переведем в привычный нам вид\n",
    "    eurrub_ticks_frame['time']=pd.to_datetime(eurrub_ticks_frame['time'], unit='s')\n",
    "    usdrub_ticks_frame['time']=pd.to_datetime(usdrub_ticks_frame['time'], unit='s')\n",
    "\n",
    "    #Удалим ненужные столбцы\n",
    "    eurrub_ticks_frame.drop('ask', axis = 1, inplace = True)\n",
    "    eurrub_ticks_frame.drop('flags', axis = 1, inplace = True)\n",
    "    eurrub_ticks_frame.drop('volume_real', axis = 1, inplace = True)\n",
    "    eurrub_ticks_frame.drop('last', axis = 1, inplace = True)\n",
    "    eurrub_ticks_frame.drop('volume', axis = 1, inplace = True)\n",
    "\n",
    "    usdrub_ticks_frame.drop('bid', axis = 1, inplace = True)\n",
    "    usdrub_ticks_frame.drop('flags', axis = 1, inplace = True)\n",
    "    usdrub_ticks_frame.drop('volume_real', axis = 1, inplace = True)\n",
    "    usdrub_ticks_frame.drop('last', axis = 1, inplace = True)\n",
    "    usdrub_ticks_frame.drop('volume', axis = 1, inplace = True)\n",
    "    return eurrub_ticks_frame, usdrub_ticks_frame\n",
    "    #eurrub_ticks_frame['time_msc']=pd.to_datetime(eurrub_ticks_frame['time_msc'], unit='ms')\n",
    "    #usdrub_ticks_frame['time_msc']=pd.to_datetime(usdrub_ticks_frame['time_msc'], unit='ms')"
   ]
  },
  {
   "cell_type": "code",
   "execution_count": 60,
   "metadata": {},
   "outputs": [],
   "source": [
    "def change_ticks_df(eurrub_ticks_frame,usdrub_ticks_frame):\n",
    "    position_euro = 0\n",
    "    position_usd = 0\n",
    "    old_euro = eurrub_ticks_frame['bid'][0]\n",
    "    old_usd = usdrub_ticks_frame['ask'][0]\n",
    "    current_usd = old_usd\n",
    "    current_euro = old_euro\n",
    "\n",
    "    spread = []\n",
    "\n",
    "    while(position_euro <= len(eurrub_ticks_frame['time'])):\n",
    "\n",
    "        if(eurrub_ticks_frame['time_msc'][position_euro] >= usdrub_ticks_frame['time_msc'][position_usd]):\n",
    "\n",
    "            current_usd = usdrub_ticks_frame['ask'][position_usd]\n",
    "            spread.append(current_euro - current_usd)\n",
    "            old_usd = usdrub_ticks_frame['ask'][position_usd]\n",
    "            if position_usd >= len(usdrub_ticks_frame['time']) - 1:\n",
    "                break\n",
    "            position_usd += 1\n",
    "        else:\n",
    "\n",
    "            current_euro = eurrub_ticks_frame['bid'][position_euro]\n",
    "            spread.append(current_euro - old_usd)\n",
    "            if position_euro >= len(eurrub_ticks_frame['time']) - 1:\n",
    "                break\n",
    "            position_euro += 1\n",
    "\n",
    "    return spread"
   ]
  },
  {
   "cell_type": "code",
   "execution_count": 61,
   "metadata": {
    "scrolled": true
   },
   "outputs": [],
   "source": [
    "def open_close(spread):\n",
    "    #максимальное и минимальное значение\n",
    "    max_spread = max(spread)\n",
    "    min_spread = min(spread)\n",
    "    #Найдём медиану\n",
    "    spread = np.array(spread)\n",
    "    median = np.median(spread)\n",
    "    print('median:     ',median,\n",
    "          '\\nmax spread: ', max_spread,\n",
    "          '\\nmin_spread: ',min_spread)\n",
    "    Open = median + (max_spread - median) * 0.7\n",
    "    print(Open)\n",
    "    Close = median + (min_spread - median) * 0.7\n",
    "    print(Close)\n",
    "    return Open, Close"
   ]
  },
  {
   "cell_type": "code",
   "execution_count": 62,
   "metadata": {},
   "outputs": [],
   "source": [
    "def request_open_pos(): \n",
    "    result =mt5.order_send(request) \n",
    "    result2 = mt5.order_send(request2)\n",
    "    print('Открыл')\n",
    "    #print(result)\n",
    "    #print(result2)"
   ]
  },
  {
   "cell_type": "code",
   "execution_count": 63,
   "metadata": {},
   "outputs": [],
   "source": [
    "def request_close_pos():\n",
    "    result = mt5.order_send(request_2) \n",
    "    result2 = mt5.order_send(request2_2)\n",
    "    print('Закрыл')\n",
    "    #print(result)\n",
    "    #print(result2)"
   ]
  },
  {
   "cell_type": "code",
   "execution_count": 66,
   "metadata": {},
   "outputs": [],
   "source": [
    "def request_close_pos_all():\n",
    "    result = mt5.order_send(request_3) \n",
    "    result3 = mt5.order_send(request3_3)\n",
    "    print('Закрыли все позиции')\n",
    "    #print(result)\n",
    "    #print(result2)"
   ]
  },
  {
   "cell_type": "code",
   "execution_count": 65,
   "metadata": {},
   "outputs": [
    {
     "ename": "KeyboardInterrupt",
     "evalue": "",
     "output_type": "error",
     "traceback": [
      "\u001b[1;31m---------------------------------------------------------------------------\u001b[0m",
      "\u001b[1;31mKeyboardInterrupt\u001b[0m                         Traceback (most recent call last)",
      "\u001b[1;32m<ipython-input-65-e9279d550821>\u001b[0m in \u001b[0;36m<module>\u001b[1;34m\u001b[0m\n\u001b[1;32m----> 1\u001b[1;33m \u001b[0mtake_ticks\u001b[0m\u001b[1;33m(\u001b[0m\u001b[1;33m)\u001b[0m\u001b[1;33m\u001b[0m\u001b[1;33m\u001b[0m\u001b[0m\n\u001b[0m\u001b[0;32m      2\u001b[0m \u001b[0ma\u001b[0m \u001b[1;33m=\u001b[0m \u001b[0mticks_to_df\u001b[0m\u001b[1;33m(\u001b[0m\u001b[0mtake_ticks\u001b[0m\u001b[1;33m(\u001b[0m\u001b[1;33m)\u001b[0m\u001b[1;33m[\u001b[0m\u001b[1;36m0\u001b[0m\u001b[1;33m]\u001b[0m\u001b[1;33m,\u001b[0m\u001b[0mtake_ticks\u001b[0m\u001b[1;33m(\u001b[0m\u001b[1;33m)\u001b[0m\u001b[1;33m[\u001b[0m\u001b[1;36m1\u001b[0m\u001b[1;33m]\u001b[0m\u001b[1;33m)\u001b[0m\u001b[1;33m\u001b[0m\u001b[1;33m\u001b[0m\u001b[0m\n\u001b[0;32m      3\u001b[0m \u001b[0mb\u001b[0m \u001b[1;33m=\u001b[0m \u001b[0mchange_ticks_df\u001b[0m\u001b[1;33m(\u001b[0m\u001b[0ma\u001b[0m\u001b[1;33m[\u001b[0m\u001b[1;36m0\u001b[0m\u001b[1;33m]\u001b[0m\u001b[1;33m,\u001b[0m \u001b[0ma\u001b[0m\u001b[1;33m[\u001b[0m\u001b[1;36m1\u001b[0m\u001b[1;33m]\u001b[0m\u001b[1;33m)\u001b[0m\u001b[1;33m\u001b[0m\u001b[1;33m\u001b[0m\u001b[0m\n\u001b[0;32m      4\u001b[0m \u001b[0mOpen\u001b[0m\u001b[1;33m,\u001b[0m\u001b[0mClose\u001b[0m \u001b[1;33m=\u001b[0m \u001b[0mopen_close\u001b[0m\u001b[1;33m(\u001b[0m\u001b[0mb\u001b[0m\u001b[1;33m)\u001b[0m\u001b[1;33m\u001b[0m\u001b[1;33m\u001b[0m\u001b[0m\n",
      "\u001b[1;32m<ipython-input-56-1002243bbc1f>\u001b[0m in \u001b[0;36mtake_ticks\u001b[1;34m()\u001b[0m\n\u001b[0;32m     10\u001b[0m                                          \u001b[0mdatetime\u001b[0m\u001b[1;33m.\u001b[0m\u001b[0mnow\u001b[0m\u001b[1;33m(\u001b[0m\u001b[1;33m)\u001b[0m\u001b[1;33m,\u001b[0m\u001b[1;33m\u001b[0m\u001b[1;33m\u001b[0m\u001b[0m\n\u001b[0;32m     11\u001b[0m                                          mt5.COPY_TICKS_ALL)\n\u001b[1;32m---> 12\u001b[1;33m     \u001b[1;32mreturn\u001b[0m \u001b[0meurrub_ticks\u001b[0m\u001b[1;33m,\u001b[0m \u001b[0musdrub_ticks\u001b[0m\u001b[1;33m\u001b[0m\u001b[1;33m\u001b[0m\u001b[0m\n\u001b[0m",
      "\u001b[1;31mKeyboardInterrupt\u001b[0m: "
     ]
    }
   ],
   "source": [
    "take_ticks()\n",
    "a = ticks_to_df(take_ticks()[0],take_ticks()[1])\n",
    "b = change_ticks_df(a[0], a[1])\n",
    "Open,Close = open_close(b)\n"
   ]
  },
  {
   "cell_type": "code",
   "execution_count": 68,
   "metadata": {},
   "outputs": [
    {
     "name": "stdout",
     "output_type": "stream",
     "text": [
      "Закрыли все позиции\n",
      "median:      0.16948000000000008 \n",
      "max spread:  0.17279 \n",
      "min_spread:  0.1674\n",
      "0.17179700000000003\n",
      "0.168024\n",
      "Закрыли все позиции\n",
      "median:      0.16948000000000008 \n",
      "max spread:  0.17279 \n",
      "min_spread:  0.1674\n",
      "0.17179700000000003\n",
      "0.168024\n",
      "Закрыли все позиции\n",
      "median:      0.16948999999999992 \n",
      "max spread:  0.17279 \n",
      "min_spread:  0.1674\n",
      "0.17179999999999998\n",
      "0.16802699999999998\n",
      "Закрыли все позиции\n",
      "median:      0.16948999999999992 \n",
      "max spread:  0.17279 \n",
      "min_spread:  0.1674\n",
      "0.17179999999999998\n",
      "0.16802699999999998\n"
     ]
    },
    {
     "ename": "KeyboardInterrupt",
     "evalue": "",
     "output_type": "error",
     "traceback": [
      "\u001b[1;31m---------------------------------------------------------------------------\u001b[0m",
      "\u001b[1;31mKeyboardInterrupt\u001b[0m                         Traceback (most recent call last)",
      "\u001b[1;32m<ipython-input-68-939a5dd449ef>\u001b[0m in \u001b[0;36m<module>\u001b[1;34m\u001b[0m\n\u001b[0;32m      6\u001b[0m         \u001b[0mb\u001b[0m \u001b[1;33m=\u001b[0m \u001b[0mchange_ticks_df\u001b[0m\u001b[1;33m(\u001b[0m\u001b[0ma\u001b[0m\u001b[1;33m[\u001b[0m\u001b[1;36m0\u001b[0m\u001b[1;33m]\u001b[0m\u001b[1;33m,\u001b[0m \u001b[0ma\u001b[0m\u001b[1;33m[\u001b[0m\u001b[1;36m1\u001b[0m\u001b[1;33m]\u001b[0m\u001b[1;33m)\u001b[0m\u001b[1;33m\u001b[0m\u001b[1;33m\u001b[0m\u001b[0m\n\u001b[0;32m      7\u001b[0m         \u001b[0mOpen\u001b[0m\u001b[1;33m,\u001b[0m\u001b[0mClose\u001b[0m \u001b[1;33m=\u001b[0m \u001b[0mopen_close\u001b[0m\u001b[1;33m(\u001b[0m\u001b[0mb\u001b[0m\u001b[1;33m)\u001b[0m\u001b[1;33m\u001b[0m\u001b[1;33m\u001b[0m\u001b[0m\n\u001b[1;32m----> 8\u001b[1;33m     \u001b[0mlast_tick_usdrub\u001b[0m \u001b[1;33m=\u001b[0m \u001b[0mmt5\u001b[0m\u001b[1;33m.\u001b[0m\u001b[0msymbol_info_tick\u001b[0m\u001b[1;33m(\u001b[0m\u001b[1;34m\"EURUSD\"\u001b[0m\u001b[1;33m)\u001b[0m\u001b[1;33m.\u001b[0m\u001b[0mbid\u001b[0m\u001b[1;33m\u001b[0m\u001b[1;33m\u001b[0m\u001b[0m\n\u001b[0m\u001b[0;32m      9\u001b[0m     \u001b[0mlast_tick_GPBUSD\u001b[0m \u001b[1;33m=\u001b[0m \u001b[0mmt5\u001b[0m\u001b[1;33m.\u001b[0m\u001b[0msymbol_info_tick\u001b[0m\u001b[1;33m(\u001b[0m\u001b[1;34m\"GBPUSD\"\u001b[0m\u001b[1;33m)\u001b[0m\u001b[1;33m.\u001b[0m\u001b[0mask\u001b[0m\u001b[1;33m\u001b[0m\u001b[1;33m\u001b[0m\u001b[0m\n\u001b[0;32m     10\u001b[0m     \u001b[0mlast_spread\u001b[0m \u001b[1;33m=\u001b[0m \u001b[0mlast_tick_GPBUSD\u001b[0m \u001b[1;33m-\u001b[0m \u001b[0mlast_tick_usdrub\u001b[0m\u001b[1;33m\u001b[0m\u001b[1;33m\u001b[0m\u001b[0m\n",
      "\u001b[1;31mKeyboardInterrupt\u001b[0m: "
     ]
    }
   ],
   "source": [
    "while(True):\n",
    "    if datetime.now().second % 29 == 0:\n",
    "        request_close_pos_all()\n",
    "        take_ticks()\n",
    "        a = ticks_to_df(take_ticks()[0],take_ticks()[1])\n",
    "        b = change_ticks_df(a[0], a[1])\n",
    "        Open,Close = open_close(b)\n",
    "    last_tick_usdrub = mt5.symbol_info_tick(\"EURUSD\").bid\n",
    "    last_tick_GPBUSD = mt5.symbol_info_tick(\"GBPUSD\").ask\n",
    "    last_spread = last_tick_GPBUSD - last_tick_usdrub\n",
    "    if last_spread > Open:\n",
    "        request_open_pos() # Написать Функции\n",
    "    elif last_spread < Close:\n",
    "        print('\\n')\n",
    "        request_close_pos() # Написать Функции"
   ]
  },
  {
   "cell_type": "code",
   "execution_count": 52,
   "metadata": {},
   "outputs": [
    {
     "name": "stdout",
     "output_type": "stream",
     "text": [
      "Total positions = 2\n"
     ]
    }
   ],
   "source": [
    "positions_total=mt5.positions_total()\n",
    "if positions_total>0:\n",
    "    print(\"Total positions =\",positions_total)\n",
    "else:\n",
    "    print(\"Positions not found\")"
   ]
  },
  {
   "cell_type": "code",
   "execution_count": 51,
   "metadata": {},
   "outputs": [
    {
     "name": "stdout",
     "output_type": "stream",
     "text": [
      "Total history orders= 143\n"
     ]
    }
   ],
   "source": [
    "from_date=datetime.now() - timedelta(days=1)\n",
    "to_date=datetime.now()\n",
    "history_orders=mt5.history_orders_total(from_date, datetime.now())\n",
    "if history_orders>0:\n",
    "    print(\"Total history orders=\",history_orders)\n",
    "else:\n",
    "    print(\"Orders not found in history\")"
   ]
  },
  {
   "cell_type": "code",
   "execution_count": 50,
   "metadata": {},
   "outputs": [
    {
     "data": {
      "text/plain": [
       "0.17210999999999999"
      ]
     },
     "execution_count": 50,
     "metadata": {},
     "output_type": "execute_result"
    }
   ],
   "source": [
    "last_spread"
   ]
  },
  {
   "cell_type": "code",
   "execution_count": 22,
   "metadata": {},
   "outputs": [
    {
     "data": {
      "text/plain": [
       "27"
      ]
     },
     "execution_count": 22,
     "metadata": {},
     "output_type": "execute_result"
    }
   ],
   "source": [
    "datetime.now().minute"
   ]
  },
  {
   "cell_type": "code",
   "execution_count": 22,
   "metadata": {},
   "outputs": [
    {
     "data": {
      "text/plain": [
       "0.15677937000000006"
      ]
     },
     "execution_count": 22,
     "metadata": {},
     "output_type": "execute_result"
    }
   ],
   "source": [
    "Close * 0.99"
   ]
  },
  {
   "cell_type": "code",
   "execution_count": 21,
   "metadata": {},
   "outputs": [
    {
     "data": {
      "text/plain": [
       "0.16346600000000006"
      ]
     },
     "execution_count": 21,
     "metadata": {},
     "output_type": "execute_result"
    }
   ],
   "source": [
    "Open"
   ]
  },
  {
   "cell_type": "code",
   "execution_count": 63,
   "metadata": {},
   "outputs": [
    {
     "data": {
      "text/plain": [
       "True"
      ]
     },
     "execution_count": 63,
     "metadata": {},
     "output_type": "execute_result"
    }
   ],
   "source": [
    "mt5.shutdown()"
   ]
  },
  {
   "cell_type": "markdown",
   "metadata": {},
   "source": [
    "###  Далее черновой код не использующийся в основной программе"
   ]
  },
  {
   "cell_type": "code",
   "execution_count": 24,
   "metadata": {},
   "outputs": [
    {
     "data": {
      "text/plain": [
       "1.36712"
      ]
     },
     "execution_count": 24,
     "metadata": {},
     "output_type": "execute_result"
    }
   ],
   "source": [
    "\n",
    "lasttick=mt5.symbol_info_tick(\"GBPUSD\")\n",
    "\n",
    "lasttick.bid"
   ]
  },
  {
   "cell_type": "code",
   "execution_count": 8,
   "metadata": {},
   "outputs": [
    {
     "ename": "SyntaxError",
     "evalue": "invalid syntax (<ipython-input-8-7a7daa745a3e>, line 1)",
     "output_type": "error",
     "traceback": [
      "\u001b[1;36m  File \u001b[1;32m\"<ipython-input-8-7a7daa745a3e>\"\u001b[1;36m, line \u001b[1;32m1\u001b[0m\n\u001b[1;33m    define EXPERT_MAGIC 123456   // MagicNumber эксперта\u001b[0m\n\u001b[1;37m           ^\u001b[0m\n\u001b[1;31mSyntaxError\u001b[0m\u001b[1;31m:\u001b[0m invalid syntax\n"
     ]
    }
   ],
   "source": [
    "define EXPERT_MAGIC 123456   // MagicNumber эксперта\n",
    "def OnStart():\n",
    "   MqlTradeRequest request={0};\n",
    "   MqlTradeResult  result={0};\n",
    "\n",
    "   request.action   =TRADE_ACTION_DEAL;                     # тип торговой операции\n",
    "   request.symbol   =\"GBPUSD\";                              # символ\n",
    "   request.volume   =0.1;                                   # объем в 0.1 лот\n",
    "   request.type     =ORDER_TYPE_BUY;                        # тип ордера\n",
    "   request.price    =SymbolInfoDouble(Symbol(),SYMBOL_ASK); # цена для открытия\n",
    "   request.deviation=5;                                     # допустимое отклонение от цены\n",
    "   request.magic    =EXPERT_MAGIC;                         # MagicNumber ордера\n",
    "\n",
    "   if(!OrderSend(request,result))\n",
    "      PrintFormat(\"OrderSend error %d\",GetLastError());     # если отправить запрос не удалось, вывести код ошибки\n",
    "   PrintFormat(\"retcode=%u  deal=%I64u  order=%I64u\",result.retcode,result.deal,result.order);"
   ]
  },
  {
   "cell_type": "code",
   "execution_count": null,
   "metadata": {},
   "outputs": [],
   "source": [
    "PrintFormat(\"retcode=%u  deal=%I64u  order=%I64u\",result.retcode,result.deal,result.order);"
   ]
  },
  {
   "cell_type": "code",
   "execution_count": null,
   "metadata": {},
   "outputs": [],
   "source": [
    "def user_login():\n",
    "    try:\n",
    "    login(\n",
    "    login,                    // номер счета\n",
    "    password=\"PASSWORD\",      // пароль\n",
    "    server=\"SERVER\",          // имя сервера, как оно задано в терминале\n",
    "    timeout=TIMEOUT           // таймаут\n",
    "    )\n",
    "    except  TimeoutErrore\n",
    "\n",
    "# account=25115284\n",
    "# authorized=mt5.login(account, password=\"gqrtz0lbdm\")\n",
    "# user_login()\n",
    "\n",
    "def errors():\n",
    "     print(\"initialize() failed, error code =\",mt5.last_error())\n",
    "#   "
   ]
  },
  {
   "cell_type": "code",
   "execution_count": null,
   "metadata": {},
   "outputs": [],
   "source": [
    "Class Money:\n",
    "    name = \"RUB\"\n",
    "    price\n",
    "# \n",
    "Class Dollar(Money):\n",
    "    price\n",
    "# \n",
    "\n",
    "Class Euro(Money):\n",
    "    price\n",
    "    def __init__(self,price):\n",
    "        self.price = price\n",
    "    def __del__():\n",
    "        print(seld.price,\"удален\")\n",
    "# \n",
    "euro = Euro()\n"
   ]
  }
 ],
 "metadata": {
  "kernelspec": {
   "display_name": "Python 3",
   "language": "python",
   "name": "python3"
  },
  "language_info": {
   "codemirror_mode": {
    "name": "ipython",
    "version": 3
   },
   "file_extension": ".py",
   "mimetype": "text/x-python",
   "name": "python",
   "nbconvert_exporter": "python",
   "pygments_lexer": "ipython3",
   "version": "3.8.3"
  }
 },
 "nbformat": 4,
 "nbformat_minor": 4
}
