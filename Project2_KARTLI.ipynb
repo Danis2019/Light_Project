{
 "cells": [
  {
   "cell_type": "code",
   "execution_count": 41,
   "metadata": {},
   "outputs": [
    {
     "name": "stdout",
     "output_type": "stream",
     "text": [
      "Requirement already satisfied: MetaTrader5 in c:\\users\\acer\\anaconda3\\lib\\site-packages (5.0.33)\n",
      "Requirement already satisfied: numpy>=1.7 in c:\\users\\acer\\anaconda3\\lib\\site-packages (from MetaTrader5) (1.18.5)\n",
      "Note: you may need to restart the kernel to use updated packages.\n"
     ]
    }
   ],
   "source": [
    " pip install MetaTrader5"
   ]
  },
  {
   "cell_type": "code",
   "execution_count": 1,
   "metadata": {},
   "outputs": [],
   "source": [
    "from datetime import datetime, timedelta\n",
    "import matplotlib.pyplot as plt\n",
    "import pandas as pd\n",
    "import numpy as np\n",
    "from pandas.plotting import register_matplotlib_converters\n",
    "register_matplotlib_converters()\n",
    "import MetaTrader5 as mt5\n",
    "import time\n",
    "# import trinket "
   ]
  },
  {
   "cell_type": "code",
   "execution_count": 2,
   "metadata": {},
   "outputs": [],
   "source": [
    "# подключимся к MetaTrader 5\n",
    "if not mt5.initialize():\n",
    "    print(\"initialize() failed\")\n",
    "    quit()"
   ]
  },
  {
   "cell_type": "code",
   "execution_count": 7,
   "metadata": {},
   "outputs": [],
   "source": [
    "#Получим тики EURRUB и USDRUB со вчерашнего дня по сегодняшний день\n",
    "eurrub_ticks = mt5.copy_ticks_range(\"EURUSD\", \n",
    "                                     datetime(2020,1,9,13), \n",
    "                                     datetime(2020,1,10,13), \n",
    "                                     mt5.COPY_TICKS_ALL)\n",
    "\n",
    "usdrub_ticks = mt5.copy_ticks_range(\"GBPUSD\", \n",
    "                                     datetime(2020,1,9,13), \n",
    "                                     datetime(2020,1,10,13),\n",
    "                                     mt5.COPY_TICKS_ALL)"
   ]
  },
  {
   "cell_type": "code",
   "execution_count": 8,
   "metadata": {},
   "outputs": [
    {
     "data": {
      "text/plain": [
       "array([(1578556800, 1.11146, 1.11159, 1.11147, 1, 1578556800220,   2, 1.),\n",
       "       (1578556800, 1.11146, 1.11159, 1.11146, 1, 1578556800275, 280, 1.),\n",
       "       (1578556800, 1.11148, 1.11161, 1.11146, 1, 1578556800597,   6, 1.),\n",
       "       ...,\n",
       "       (1578643197, 1.11064, 1.11077, 1.11064, 1, 1578643197699, 280, 1.),\n",
       "       (1578643198, 1.11065, 1.11077, 1.11064, 1, 1578643198362,   2, 1.),\n",
       "       (1578643198, 1.11065, 1.11077, 1.11065, 1, 1578643198362, 280, 1.)],\n",
       "      dtype=[('time', '<i8'), ('bid', '<f8'), ('ask', '<f8'), ('last', '<f8'), ('volume', '<u8'), ('time_msc', '<i8'), ('flags', '<u4'), ('volume_real', '<f8')])"
      ]
     },
     "execution_count": 8,
     "metadata": {},
     "output_type": "execute_result"
    }
   ],
   "source": [
    "eurrub_ticks"
   ]
  },
  {
   "cell_type": "code",
   "execution_count": 9,
   "metadata": {},
   "outputs": [],
   "source": [
    "# подготовка запроса\n",
    "symbol_dol = \"GBPUSD\"\n",
    "symbol_euro = \"EURUSD\"\n",
    "symbol_dol_info =mt5.symbol_info(symbol_dol)\n",
    "symbol_euro_info =mt5.symbol_info(symbol_euro)\n",
    "# lot = 1.0\n",
    "lot = 0.01 \n",
    "point_dol = mt5.symbol_info(symbol_dol).point \n",
    "price_dol = mt5.symbol_info_tick(symbol_dol).ask\n",
    "price_euro = mt5.symbol_info_tick(symbol_euro).ask\n",
    "point_euro = mt5.symbol_info(symbol_euro).point\n",
    "# deviation = отклонение\n",
    "deviation = 20 \n",
    "# запросы\n",
    "\n",
    "# покупка доллара\n",
    "request = { \n",
    "\"action\": mt5.TRADE_ACTION_DEAL, \n",
    "\"symbol\": symbol_dol, \n",
    "\"volume\": lot, \n",
    "\"type\": mt5.ORDER_TYPE_BUY, \n",
    "\"price\": price_dol, \n",
    "\"stoplimit\": price_dol*1.25,\n",
    "#\"sl\": price_dol - 100 * point_dol, \n",
    "#\"tp\": price_dol + 100 * point_dol, \n",
    "\"deviation\": deviation, \n",
    "\"magic\": 123456, \n",
    "\"comment\": \"купили доллар\", \n",
    "\"type_time\": mt5.ORDER_TIME_GTC, \n",
    "\"type_filling\": mt5.ORDER_FILLING_FOK, \n",
    "}\n",
    "\n",
    "# продажа доллара\n",
    "request_2 = {\n",
    "\"action\": mt5.TRADE_ACTION_DEAL, # Совершить сделку прямо сейчас\n",
    "\"symbol\": symbol_dol, # Сделка USDRUB\n",
    "\"volume\": lot, # Объем который мы покупаем\n",
    "\"type\": mt5.ORDER_TYPE_SELL, # Покупаем или продаём\n",
    "#\"price\": price, # Для .TRADE_ACTION_DEAL не требуется\n",
    "#\"sl\": price - 100 * point,\n",
    "#\"tp\": price + 100 * point,\n",
    "\"deviation\": deviation, # Максимальное отклонение от заданной цены\n",
    "\"magic\": 123456,\n",
    "\"comment\": \"продали доллар\",\n",
    "\"type_time\": mt5.ORDER_TIME_GTC,\n",
    "# \"type_filling\": mt5.ORDER_FILLING_IOC,\n",
    "\"type_filling\": mt5.ORDER_FILLING_FOK,   #не будет продажи если нет необходимого обьема \n",
    "    \n",
    "                                            #Означает согласие совершить сделку \n",
    "                                            #по максимально доступному на рынке \n",
    "                                            #объему в пределах указанного в ордере. \n",
    "                                            #В случае невозможности полного исполнения ордер \n",
    "                                            #будет исполнен на доступный объем, а неисполненный объем ордера будет отменен.\n",
    "}\n",
    "#  struct MqlTradeRequest\n",
    "#   {\n",
    "#    ENUM_TRADE_REQUEST_ACTIONS    action;           // Тип выполняемого действия\n",
    "#    ulong                         magic;            // Штамп эксперта (идентификатор magic number)\n",
    "#    ulong                         order;            // Тикет ордера\n",
    "#    string                        symbol;           // Имя торгового инструмента\n",
    "#    double                        volume;           // Запрашиваемый объем сделки в лотах\n",
    "#    double                        price;            // Цена \n",
    "#    double                        stoplimit;        // Уровень StopLimit ордера\n",
    "#    double                        sl;               // Уровень Stop Loss ордера\n",
    "#    double                        tp;               // Уровень Take Profit ордера\n",
    "#    ulong                         deviation;        // Максимально приемлемое отклонение от запрашиваемой цены\n",
    "#    ENUM_ORDER_TYPE               type;             // Тип ордера\n",
    "#    ENUM_ORDER_TYPE_FILLING       type_filling;     // Тип ордера по исполнению\n",
    "#    ENUM_ORDER_TYPE_TIME          type_time;        // Тип ордера по времени действия\n",
    "#    datetime                      expiration;       // Срок истечения ордера (для ордеров типа ORDER_TIME_SPECIFIED)\n",
    "#    string                        comment;          // Комментарий к ордеру\n",
    "#    ulong                         position;         // Тикет позиции\n",
    "#    ulong                         position_by;      // Тикет встречной позиции\n",
    "#   };\n",
    "   \n",
    "request2 = {\n",
    "\"action\": mt5.TRADE_ACTION_DEAL,\n",
    "\"symbol\": symbol_euro, # Сделка EURRUB\n",
    "\"volume\": lot, # Объем который мы покупаем\n",
    "\"type\": mt5.ORDER_TYPE_SELL,\n",
    "\"price\": price_euro,\n",
    "#sl\": 100000,\n",
    "#tp\": 100000,\n",
    "\"deviation\": deviation,\n",
    "\"magic\": 123456, #Идентификатор эксперта. Позволяет организовать аналитическую обработку торговых ордеров.\n",
    "\"comment\": \"продажа евро\",\n",
    "\"type_time\": mt5.ORDER_TIME_GTC,        # Ордер будет находиться в очереди до тех пор, пока не будет снят\n",
    "\"type_filling\": mt5.ORDER_FILLING_FOK,   #Означает согласие совершить сделку \n",
    "                                            #по максимально доступному на рынке \n",
    "                                            #объему в пределах указанного в ордере. \n",
    "                                            #В случае невозможности полного исполнения ордер \n",
    "                                            #будет исполнен на доступный объем, а неисполненный объем ордера будет отменен.\n",
    "}\n",
    "request2_2= {\n",
    "\"action\": mt5.TRADE_ACTION_DEAL,\n",
    "\"symbol\": \"EURRUB\", # Сделка EURRUB\n",
    "#\"volume\": 1.0, # Объем который мы покупаем\n",
    "\"type\": mt5.ORDER_TYPE_BUY,\n",
    "#\"price\": price,\n",
    "#sl\": 100000,\n",
    "#tp\": 100000,\n",
    "\"deviation\": deviation,\n",
    "\"magic\": 123456, #Идентификатор эксперта. Позволяет организовать аналитическую обработку торговых ордеров.\n",
    "\"comment\": \"python script open\",\n",
    "\"type_time\": mt5.ORDER_TIME_GTC,        # Ордер будет находиться в очереди до тех пор, пока не будет снят\n",
    "\"type_filling\": mt5.ORDER_FILLING_FOK,      #Означает согласие совершить сделку \n",
    "                                            #по максимально доступному на рынке \n",
    "                                            #объему в пределах указанного в ордере. \n",
    "                                            #В случае невозможности полного исполнения ордер \n",
    "                                            #будет исполнен на доступный объем, а неисполненный объем ордера будет отменен.\n",
    "}\n",
    "# request-ПОКУПКА ДОЛЛАРА\n",
    "# request_2-ПРОДАЖА ДОЛЛАРА\n",
    "# request2-ПРОДАЖА ЕВРО\n",
    "# request2_2-ПОКУПКА ЕВРО\n"
   ]
  },
  {
   "cell_type": "code",
   "execution_count": null,
   "metadata": {},
   "outputs": [],
   "source": [
    "test_request = {\n",
    "            \"action\": mt5.TRADE_ACTION_DEAL,\n",
    "            \"symbol\": symbol,\n",
    "            \"volume\": OnLot(),\n",
    "            \"type\": mt5.ORDER_TYPE_BUY,\n",
    "            \"price\": price,\n",
    "            \"sl\": price - SL * point,\n",
    "            \"tp\": price + TP * point,\n",
    "            \"deviation\": deviation,\n",
    "            \"magic\": magic,\n",
    "            \"comment\": \"python script open\",\n",
    "            \"type_time\": mt5.ORDER_TIME_GTC,\n",
    "            \"type_filling\": mt5.ORDER_FILLING_FOK,\n",
    "}"
   ]
  },
  {
   "cell_type": "code",
   "execution_count": 26,
   "metadata": {},
   "outputs": [],
   "source": [
    "# Завершим подключение - // завершать подключение будем в самом конце а если программа \n",
    "# будет использоваться все время то и откл не будем\n"
   ]
  },
  {
   "cell_type": "code",
   "execution_count": 10,
   "metadata": {},
   "outputs": [],
   "source": [
    "#Переведем имеющиеся у нас данные в DataFrame\n",
    "eurrub_ticks_frame = pd.DataFrame(eurrub_ticks)\n",
    "usdrub_ticks_frame = pd.DataFrame(usdrub_ticks)\n",
    "#Время в MetaTrader 5 хранится в UTC таймзоне, поэтому переведем в привычный нам вид\n",
    "eurrub_ticks_frame['time']=pd.to_datetime(eurrub_ticks_frame['time'], unit='s')\n",
    "usdrub_ticks_frame['time']=pd.to_datetime(usdrub_ticks_frame['time'], unit='s')\n",
    "\n",
    "#Удалим ненужные столбцы\n",
    "eurrub_ticks_frame.drop('ask', axis = 1, inplace = True)\n",
    "eurrub_ticks_frame.drop('flags', axis = 1, inplace = True)\n",
    "eurrub_ticks_frame.drop('volume_real', axis = 1, inplace = True)\n",
    "eurrub_ticks_frame.drop('last', axis = 1, inplace = True)\n",
    "eurrub_ticks_frame.drop('volume', axis = 1, inplace = True)\n",
    "\n",
    "usdrub_ticks_frame.drop('bid', axis = 1, inplace = True)\n",
    "usdrub_ticks_frame.drop('flags', axis = 1, inplace = True)\n",
    "usdrub_ticks_frame.drop('volume_real', axis = 1, inplace = True)\n",
    "usdrub_ticks_frame.drop('last', axis = 1, inplace = True)\n",
    "usdrub_ticks_frame.drop('volume', axis = 1, inplace = True)\n",
    "#eurrub_ticks_frame['time_msc']=pd.to_datetime(eurrub_ticks_frame['time_msc'], unit='ms')\n",
    "#usdrub_ticks_frame['time_msc']=pd.to_datetime(usdrub_ticks_frame['time_msc'], unit='ms')"
   ]
  },
  {
   "cell_type": "code",
   "execution_count": 11,
   "metadata": {},
   "outputs": [],
   "source": [
    "position_euro = 0\n",
    "position_usd = 0\n",
    "old_euro = eurrub_ticks_frame['bid'][0]\n",
    "old_usd = usdrub_ticks_frame['ask'][0]\n",
    "current_usd = old_usd\n",
    "current_euro = old_euro\n",
    "\n",
    "spread = []\n",
    "\n",
    "while(position_euro <= len(eurrub_ticks_frame['time'])):\n",
    "    \n",
    "    if(eurrub_ticks_frame['time_msc'][position_euro] >= usdrub_ticks_frame['time_msc'][position_usd]):\n",
    "        \n",
    "        current_usd = usdrub_ticks_frame['ask'][position_usd]\n",
    "        spread.append(current_euro - current_usd)\n",
    "        old_usd = usdrub_ticks_frame['ask'][position_usd]\n",
    "        if position_usd >= len(usdrub_ticks_frame['time']) - 1:\n",
    "            break\n",
    "        position_usd += 1\n",
    "    else:\n",
    "        \n",
    "        current_euro = eurrub_ticks_frame['bid'][position_euro]\n",
    "        spread.append(current_euro - old_usd)\n",
    "        if position_euro >= len(eurrub_ticks_frame['time']) - 1:\n",
    "            break\n",
    "        position_euro += 1\n",
    "    \n",
    "        "
   ]
  },
  {
   "cell_type": "code",
   "execution_count": 12,
   "metadata": {
    "scrolled": true
   },
   "outputs": [
    {
     "data": {
      "text/plain": [
       "225212"
      ]
     },
     "execution_count": 12,
     "metadata": {},
     "output_type": "execute_result"
    }
   ],
   "source": [
    "len(spread)"
   ]
  },
  {
   "cell_type": "code",
   "execution_count": 13,
   "metadata": {},
   "outputs": [],
   "source": [
    "#максимальное и минимальное значение\n",
    "max_spread = max(spread)\n",
    "min_spread = min(spread)"
   ]
  },
  {
   "cell_type": "code",
   "execution_count": 14,
   "metadata": {},
   "outputs": [
    {
     "data": {
      "text/plain": [
       "-0.19523000000000001"
      ]
     },
     "execution_count": 14,
     "metadata": {},
     "output_type": "execute_result"
    }
   ],
   "source": [
    "#Найдём медиану\n",
    "spread = np.array(spread)\n",
    "type(spread)\n",
    "median = np.median(spread)\n",
    "median"
   ]
  },
  {
   "cell_type": "code",
   "execution_count": 15,
   "metadata": {
    "scrolled": true
   },
   "outputs": [
    {
     "data": {
      "text/plain": [
       "-0.19106"
      ]
     },
     "execution_count": 15,
     "metadata": {},
     "output_type": "execute_result"
    }
   ],
   "source": [
    "max_spread"
   ]
  },
  {
   "cell_type": "code",
   "execution_count": 16,
   "metadata": {},
   "outputs": [
    {
     "data": {
      "text/plain": [
       "-0.20001999999999986"
      ]
     },
     "execution_count": 16,
     "metadata": {},
     "output_type": "execute_result"
    }
   ],
   "source": [
    "min_spread"
   ]
  },
  {
   "cell_type": "code",
   "execution_count": 17,
   "metadata": {
    "scrolled": true
   },
   "outputs": [
    {
     "name": "stdout",
     "output_type": "stream",
     "text": [
      "-0.191894\n",
      "-0.1990619999999999\n"
     ]
    }
   ],
   "source": [
    "Open = median + (max_spread - median) * 0.8\n",
    "print(Open)\n",
    "Close = median + (min_spread - median) * 0.8\n",
    "print(Close)\n"
   ]
  },
  {
   "cell_type": "code",
   "execution_count": 18,
   "metadata": {},
   "outputs": [],
   "source": [
    "def request_open_pos(): \n",
    "    result =mt5.order_send(request) \n",
    "    result2 = mt5.order_send(request2) \n",
    "    print(result)\n",
    "    print(result2)"
   ]
  },
  {
   "cell_type": "code",
   "execution_count": 19,
   "metadata": {},
   "outputs": [],
   "source": [
    "def request_close_pos():\n",
    "    result = mt5.order_send(request_2) \n",
    "    result2 = mt5.order_send(request2_2) \n",
    "    print(result)\n",
    "    print(result2)"
   ]
  },
  {
   "cell_type": "code",
   "execution_count": 20,
   "metadata": {},
   "outputs": [
    {
     "ename": "AttributeError",
     "evalue": "'NoneType' object has no attribute 'bid'",
     "output_type": "error",
     "traceback": [
      "\u001b[1;31m---------------------------------------------------------------------------\u001b[0m",
      "\u001b[1;31mAttributeError\u001b[0m                            Traceback (most recent call last)",
      "\u001b[1;32m<ipython-input-20-63af22335299>\u001b[0m in \u001b[0;36m<module>\u001b[1;34m\u001b[0m\n\u001b[0;32m     10\u001b[0m     \u001b[0mlast_tick_eurrub\u001b[0m \u001b[1;33m=\u001b[0m \u001b[0mmt5\u001b[0m\u001b[1;33m.\u001b[0m\u001b[0msymbol_info_tick\u001b[0m\u001b[1;33m(\u001b[0m\u001b[1;34m\"EURRUB\"\u001b[0m\u001b[1;33m)\u001b[0m\u001b[1;33m\u001b[0m\u001b[1;33m\u001b[0m\u001b[0m\n\u001b[0;32m     11\u001b[0m     \u001b[0mlast_tick_usd\u001b[0m \u001b[1;33m=\u001b[0m \u001b[0mmt5\u001b[0m\u001b[1;33m.\u001b[0m\u001b[0msymbol_info_tick\u001b[0m\u001b[1;33m(\u001b[0m\u001b[1;34m\"USDRUB\"\u001b[0m\u001b[1;33m)\u001b[0m\u001b[1;33m\u001b[0m\u001b[1;33m\u001b[0m\u001b[0m\n\u001b[1;32m---> 12\u001b[1;33m     \u001b[0mlast_spread\u001b[0m \u001b[1;33m=\u001b[0m \u001b[0mlast_tick_eurrub\u001b[0m\u001b[1;33m.\u001b[0m\u001b[0mbid\u001b[0m  \u001b[1;33m-\u001b[0m \u001b[0mlast_tick_usd\u001b[0m\u001b[1;33m.\u001b[0m\u001b[0mask\u001b[0m\u001b[1;33m\u001b[0m\u001b[1;33m\u001b[0m\u001b[0m\n\u001b[0m\u001b[0;32m     13\u001b[0m     \u001b[0mresult\u001b[0m \u001b[1;33m=\u001b[0m \u001b[0mmt5\u001b[0m\u001b[1;33m.\u001b[0m\u001b[0morder_send\u001b[0m\u001b[1;33m(\u001b[0m\u001b[0mrequest\u001b[0m\u001b[1;33m)\u001b[0m\u001b[1;33m\u001b[0m\u001b[1;33m\u001b[0m\u001b[0m\n\u001b[0;32m     14\u001b[0m     \u001b[0mprint\u001b[0m\u001b[1;33m(\u001b[0m\u001b[0mresult\u001b[0m\u001b[1;33m)\u001b[0m\u001b[1;33m\u001b[0m\u001b[1;33m\u001b[0m\u001b[0m\n",
      "\u001b[1;31mAttributeError\u001b[0m: 'NoneType' object has no attribute 'bid'"
     ]
    }
   ],
   "source": [
    "# while(True):\n",
    "#     last_tick_usdrub = mt5.symbol_info_tick(\"EURRUB\")\n",
    "#     last_tick_GPBUSD = mt5.symbol_info_tick(\"USDRUB\")\n",
    "#     last_spread = last_tick_GPBUSD - last_tick_usdrub\n",
    "#     if last_spread > Open:\n",
    "#         open_pos() # Написать Функции\n",
    "#     elif last_spread < Close*1.01:\n",
    "#         close_pos() # Написать Функции\n",
    "while(True):\n",
    "    last_tick_eurrub = mt5.symbol_info_tick(\"EURRUB\")\n",
    "    last_tick_usd = mt5.symbol_info_tick(\"USDRUB\")\n",
    "    last_spread = last_tick_eurrub.bid  - last_tick_usd.ask\n",
    "    result = mt5.order_send(request)\n",
    "    print(result)\n",
    "    #request_open_pos()\n",
    "    time.sleep(1)\n",
    "    #request_close_pos()\n",
    "    time.sleep(1)\n",
    "    #Комиссию учитывать"
   ]
  },
  {
   "cell_type": "code",
   "execution_count": 6,
   "metadata": {},
   "outputs": [
    {
     "data": {
      "text/plain": [
       "True"
      ]
     },
     "execution_count": 6,
     "metadata": {},
     "output_type": "execute_result"
    }
   ],
   "source": [
    "mt5.shutdown()"
   ]
  },
  {
   "cell_type": "code",
   "execution_count": 59,
   "metadata": {},
   "outputs": [],
   "source": [
    "last_tick_usdrub = mt5.symbol_info_tick(\"USDRUB\") "
   ]
  },
  {
   "cell_type": "code",
   "execution_count": 60,
   "metadata": {},
   "outputs": [],
   "source": [
    "last_tick_usdrub"
   ]
  },
  {
   "cell_type": "code",
   "execution_count": null,
   "metadata": {},
   "outputs": [],
   "source": [
    "###  Далее черновой код не использующийся в основной программе"
   ]
  },
  {
   "cell_type": "code",
   "execution_count": null,
   "metadata": {},
   "outputs": [],
   "source": [
    "\n",
    "lasttick=mt5.symbol_info_tick(\"GBPUSD\")\n"
   ]
  },
  {
   "cell_type": "code",
   "execution_count": 8,
   "metadata": {},
   "outputs": [
    {
     "ename": "SyntaxError",
     "evalue": "invalid syntax (<ipython-input-8-7a7daa745a3e>, line 1)",
     "output_type": "error",
     "traceback": [
      "\u001b[1;36m  File \u001b[1;32m\"<ipython-input-8-7a7daa745a3e>\"\u001b[1;36m, line \u001b[1;32m1\u001b[0m\n\u001b[1;33m    define EXPERT_MAGIC 123456   // MagicNumber эксперта\u001b[0m\n\u001b[1;37m           ^\u001b[0m\n\u001b[1;31mSyntaxError\u001b[0m\u001b[1;31m:\u001b[0m invalid syntax\n"
     ]
    }
   ],
   "source": [
    "define EXPERT_MAGIC 123456   // MagicNumber эксперта\n",
    "def OnStart():\n",
    "   MqlTradeRequest request={0};\n",
    "   MqlTradeResult  result={0};\n",
    "\n",
    "   request.action   =TRADE_ACTION_DEAL;                     # тип торговой операции\n",
    "   request.symbol   =\"GBPUSD\";                              # символ\n",
    "   request.volume   =0.1;                                   # объем в 0.1 лот\n",
    "   request.type     =ORDER_TYPE_BUY;                        # тип ордера\n",
    "   request.price    =SymbolInfoDouble(Symbol(),SYMBOL_ASK); # цена для открытия\n",
    "   request.deviation=5;                                     # допустимое отклонение от цены\n",
    "   request.magic    =EXPERT_MAGIC;                         # MagicNumber ордера\n",
    "\n",
    "   if(!OrderSend(request,result))\n",
    "      PrintFormat(\"OrderSend error %d\",GetLastError());     # если отправить запрос не удалось, вывести код ошибки\n",
    "   PrintFormat(\"retcode=%u  deal=%I64u  order=%I64u\",result.retcode,result.deal,result.order);"
   ]
  },
  {
   "cell_type": "code",
   "execution_count": null,
   "metadata": {},
   "outputs": [],
   "source": [
    "PrintFormat(\"retcode=%u  deal=%I64u  order=%I64u\",result.retcode,result.deal,result.order);"
   ]
  },
  {
   "cell_type": "code",
   "execution_count": null,
   "metadata": {},
   "outputs": [],
   "source": [
    "def user_login():\n",
    "    try:\n",
    "    login(\n",
    "    login,                    // номер счета\n",
    "    password=\"PASSWORD\",      // пароль\n",
    "    server=\"SERVER\",          // имя сервера, как оно задано в терминале\n",
    "    timeout=TIMEOUT           // таймаут\n",
    "    )\n",
    "    except  TimeoutErrore\n",
    "\n",
    "# account=25115284\n",
    "# authorized=mt5.login(account, password=\"gqrtz0lbdm\")\n",
    "# user_login()\n",
    "\n",
    "def errors():\n",
    "     print(\"initialize() failed, error code =\",mt5.last_error())\n",
    "#   "
   ]
  },
  {
   "cell_type": "code",
   "execution_count": null,
   "metadata": {},
   "outputs": [],
   "source": [
    "Class Money:\n",
    "    name = \"RUB\"\n",
    "    price\n",
    "# \n",
    "Class Dollar(Money):\n",
    "    price\n",
    "# \n",
    "\n",
    "Class Euro(Money):\n",
    "    price\n",
    "    def __init__(self,price):\n",
    "        self.price = price\n",
    "    def __del__():\n",
    "        print(seld.price,\"удален\")\n",
    "# \n",
    "euro = Euro()\n"
   ]
  }
 ],
 "metadata": {
  "kernelspec": {
   "display_name": "Python 3",
   "language": "python",
   "name": "python3"
  },
  "language_info": {
   "codemirror_mode": {
    "name": "ipython",
    "version": 3
   },
   "file_extension": ".py",
   "mimetype": "text/x-python",
   "name": "python",
   "nbconvert_exporter": "python",
   "pygments_lexer": "ipython3",
   "version": "3.8.3"
  }
 },
 "nbformat": 4,
 "nbformat_minor": 4
}
