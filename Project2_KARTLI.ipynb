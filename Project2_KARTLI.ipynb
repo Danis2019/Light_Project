{
 "cells": [
  {
   "cell_type": "code",
   "execution_count": 2,
   "metadata": {},
   "outputs": [
    {
     "name": "stdout",
     "output_type": "stream",
     "text": [
      "Collecting MetaTrader5Note: you may need to restart the kernel to use updated packages.\n",
      "  Downloading MetaTrader5-5.0.33-cp38-cp38-win_amd64.whl (122 kB)\n",
      "Requirement already satisfied: numpy>=1.7 in c:\\users\\acer\\anaconda3\\lib\\site-packages (from MetaTrader5) (1.18.5)\n",
      "Installing collected packages: MetaTrader5\n",
      "Successfully installed MetaTrader5-5.0.33\n",
      "\n"
     ]
    }
   ],
   "source": [
    " pip install MetaTrader5"
   ]
  },
  {
   "cell_type": "code",
   "execution_count": 1,
   "metadata": {},
   "outputs": [],
   "source": [
    "from datetime import datetime, timedelta\n",
    "import matplotlib.pyplot as plt\n",
    "import pandas as pd\n",
    "import numpy as np\n",
    "from pandas.plotting import register_matplotlib_converters\n",
    "register_matplotlib_converters()\n",
    "import MetaTrader5 as mt5\n",
    "import time"
   ]
  },
  {
   "cell_type": "code",
   "execution_count": 2,
   "metadata": {},
   "outputs": [],
   "source": [
    "# подключимся к MetaTrader 5\n",
    "if not mt5.initialize():\n",
    "    print(\"initialize() failed\")\n",
    "    mt5.shutdown()"
   ]
  },
  {
   "cell_type": "code",
   "execution_count": 3,
   "metadata": {},
   "outputs": [],
   "source": [
    "#Получим тики EURRUB и USDRUB со вчерашнего дня по сегодняшний день\n",
    "eurrub_ticks = mt5.copy_ticks_range(\"EURRUB\", \n",
    "                                     datetime.now() - timedelta(days=1), \n",
    "                                     datetime.now(), \n",
    "                                     mt5.COPY_TICKS_ALL)\n",
    "\n",
    "usdrub_ticks = mt5.copy_ticks_range(\"USDRUB\", \n",
    "                                     datetime.now() - timedelta(days=1), \n",
    "                                     datetime.now(), \n",
    "                                     mt5.COPY_TICKS_ALL)"
   ]
  },
  {
   "cell_type": "code",
   "execution_count": 4,
   "metadata": {},
   "outputs": [
    {
     "data": {
      "text/plain": [
       "True"
      ]
     },
     "execution_count": 4,
     "metadata": {},
     "output_type": "execute_result"
    }
   ],
   "source": [
    "# Завершим подключение\n",
    "mt5.shutdown()"
   ]
  },
  {
   "cell_type": "code",
   "execution_count": 5,
   "metadata": {},
   "outputs": [],
   "source": [
    "#Переведем имеющиеся у нас данные в DataFrame\n",
    "eurrub_ticks_frame = pd.DataFrame(eurrub_ticks)\n",
    "usdrub_ticks_frame = pd.DataFrame(usdrub_ticks)\n",
    "#Время в MetaTrader 5 хранится в UTC таймзоне, поэтому переведем в привычный нам вид\n",
    "eurrub_ticks_frame['time']=pd.to_datetime(eurrub_ticks_frame['time'], unit='s')\n",
    "usdrub_ticks_frame['time']=pd.to_datetime(usdrub_ticks_frame['time'], unit='s')\n",
    "\n",
    "#Удалим ненужные столбцы\n",
    "eurrub_ticks_frame.drop('ask', axis = 1, inplace = True)\n",
    "eurrub_ticks_frame.drop('flags', axis = 1, inplace = True)\n",
    "eurrub_ticks_frame.drop('volume_real', axis = 1, inplace = True)\n",
    "eurrub_ticks_frame.drop('last', axis = 1, inplace = True)\n",
    "eurrub_ticks_frame.drop('volume', axis = 1, inplace = True)\n",
    "\n",
    "usdrub_ticks_frame.drop('bid', axis = 1, inplace = True)\n",
    "usdrub_ticks_frame.drop('flags', axis = 1, inplace = True)\n",
    "usdrub_ticks_frame.drop('volume_real', axis = 1, inplace = True)\n",
    "usdrub_ticks_frame.drop('last', axis = 1, inplace = True)\n",
    "usdrub_ticks_frame.drop('volume', axis = 1, inplace = True)\n",
    "#eurrub_ticks_frame['time_msc']=pd.to_datetime(eurrub_ticks_frame['time_msc'], unit='ms')\n",
    "#usdrub_ticks_frame['time_msc']=pd.to_datetime(usdrub_ticks_frame['time_msc'], unit='ms')"
   ]
  },
  {
   "cell_type": "code",
   "execution_count": 6,
   "metadata": {
    "scrolled": true
   },
   "outputs": [
    {
     "data": {
      "text/html": [
       "<div>\n",
       "<style scoped>\n",
       "    .dataframe tbody tr th:only-of-type {\n",
       "        vertical-align: middle;\n",
       "    }\n",
       "\n",
       "    .dataframe tbody tr th {\n",
       "        vertical-align: top;\n",
       "    }\n",
       "\n",
       "    .dataframe thead th {\n",
       "        text-align: right;\n",
       "    }\n",
       "</style>\n",
       "<table border=\"1\" class=\"dataframe\">\n",
       "  <thead>\n",
       "    <tr style=\"text-align: right;\">\n",
       "      <th></th>\n",
       "      <th>time</th>\n",
       "      <th>bid</th>\n",
       "      <th>time_msc</th>\n",
       "    </tr>\n",
       "  </thead>\n",
       "  <tbody>\n",
       "    <tr>\n",
       "      <th>0</th>\n",
       "      <td>2020-12-08 12:00:16</td>\n",
       "      <td>88.6528</td>\n",
       "      <td>1607428816026</td>\n",
       "    </tr>\n",
       "    <tr>\n",
       "      <th>1</th>\n",
       "      <td>2020-12-08 12:00:16</td>\n",
       "      <td>88.6538</td>\n",
       "      <td>1607428816623</td>\n",
       "    </tr>\n",
       "    <tr>\n",
       "      <th>2</th>\n",
       "      <td>2020-12-08 12:00:16</td>\n",
       "      <td>88.6519</td>\n",
       "      <td>1607428816930</td>\n",
       "    </tr>\n",
       "    <tr>\n",
       "      <th>3</th>\n",
       "      <td>2020-12-08 12:00:17</td>\n",
       "      <td>88.6516</td>\n",
       "      <td>1607428817335</td>\n",
       "    </tr>\n",
       "    <tr>\n",
       "      <th>4</th>\n",
       "      <td>2020-12-08 12:00:18</td>\n",
       "      <td>88.6513</td>\n",
       "      <td>1607428818436</td>\n",
       "    </tr>\n",
       "    <tr>\n",
       "      <th>...</th>\n",
       "      <td>...</td>\n",
       "      <td>...</td>\n",
       "      <td>...</td>\n",
       "    </tr>\n",
       "    <tr>\n",
       "      <th>54080</th>\n",
       "      <td>2020-12-09 12:00:13</td>\n",
       "      <td>89.1463</td>\n",
       "      <td>1607515213134</td>\n",
       "    </tr>\n",
       "    <tr>\n",
       "      <th>54081</th>\n",
       "      <td>2020-12-09 12:00:14</td>\n",
       "      <td>89.1408</td>\n",
       "      <td>1607515214500</td>\n",
       "    </tr>\n",
       "    <tr>\n",
       "      <th>54082</th>\n",
       "      <td>2020-12-09 12:00:14</td>\n",
       "      <td>89.1378</td>\n",
       "      <td>1607515214811</td>\n",
       "    </tr>\n",
       "    <tr>\n",
       "      <th>54083</th>\n",
       "      <td>2020-12-09 12:00:15</td>\n",
       "      <td>89.1385</td>\n",
       "      <td>1607515215241</td>\n",
       "    </tr>\n",
       "    <tr>\n",
       "      <th>54084</th>\n",
       "      <td>2020-12-09 12:00:15</td>\n",
       "      <td>89.1378</td>\n",
       "      <td>1607515215583</td>\n",
       "    </tr>\n",
       "  </tbody>\n",
       "</table>\n",
       "<p>54085 rows × 3 columns</p>\n",
       "</div>"
      ],
      "text/plain": [
       "                     time      bid       time_msc\n",
       "0     2020-12-08 12:00:16  88.6528  1607428816026\n",
       "1     2020-12-08 12:00:16  88.6538  1607428816623\n",
       "2     2020-12-08 12:00:16  88.6519  1607428816930\n",
       "3     2020-12-08 12:00:17  88.6516  1607428817335\n",
       "4     2020-12-08 12:00:18  88.6513  1607428818436\n",
       "...                   ...      ...            ...\n",
       "54080 2020-12-09 12:00:13  89.1463  1607515213134\n",
       "54081 2020-12-09 12:00:14  89.1408  1607515214500\n",
       "54082 2020-12-09 12:00:14  89.1378  1607515214811\n",
       "54083 2020-12-09 12:00:15  89.1385  1607515215241\n",
       "54084 2020-12-09 12:00:15  89.1378  1607515215583\n",
       "\n",
       "[54085 rows x 3 columns]"
      ]
     },
     "execution_count": 6,
     "metadata": {},
     "output_type": "execute_result"
    }
   ],
   "source": [
    "eurrub_ticks_frame"
   ]
  },
  {
   "cell_type": "code",
   "execution_count": 7,
   "metadata": {
    "scrolled": true
   },
   "outputs": [
    {
     "data": {
      "text/html": [
       "<div>\n",
       "<style scoped>\n",
       "    .dataframe tbody tr th:only-of-type {\n",
       "        vertical-align: middle;\n",
       "    }\n",
       "\n",
       "    .dataframe tbody tr th {\n",
       "        vertical-align: top;\n",
       "    }\n",
       "\n",
       "    .dataframe thead th {\n",
       "        text-align: right;\n",
       "    }\n",
       "</style>\n",
       "<table border=\"1\" class=\"dataframe\">\n",
       "  <thead>\n",
       "    <tr style=\"text-align: right;\">\n",
       "      <th></th>\n",
       "      <th>time</th>\n",
       "      <th>ask</th>\n",
       "      <th>time_msc</th>\n",
       "    </tr>\n",
       "  </thead>\n",
       "  <tbody>\n",
       "    <tr>\n",
       "      <th>0</th>\n",
       "      <td>2020-12-08 12:00:17</td>\n",
       "      <td>73.3548</td>\n",
       "      <td>1607428817225</td>\n",
       "    </tr>\n",
       "    <tr>\n",
       "      <th>1</th>\n",
       "      <td>2020-12-08 12:00:17</td>\n",
       "      <td>73.3538</td>\n",
       "      <td>1607428817525</td>\n",
       "    </tr>\n",
       "    <tr>\n",
       "      <th>2</th>\n",
       "      <td>2020-12-08 12:00:18</td>\n",
       "      <td>73.3538</td>\n",
       "      <td>1607428818541</td>\n",
       "    </tr>\n",
       "    <tr>\n",
       "      <th>3</th>\n",
       "      <td>2020-12-08 12:00:18</td>\n",
       "      <td>73.3518</td>\n",
       "      <td>1607428818842</td>\n",
       "    </tr>\n",
       "    <tr>\n",
       "      <th>4</th>\n",
       "      <td>2020-12-08 12:00:19</td>\n",
       "      <td>73.3518</td>\n",
       "      <td>1607428819144</td>\n",
       "    </tr>\n",
       "    <tr>\n",
       "      <th>...</th>\n",
       "      <td>...</td>\n",
       "      <td>...</td>\n",
       "      <td>...</td>\n",
       "    </tr>\n",
       "    <tr>\n",
       "      <th>65325</th>\n",
       "      <td>2020-12-09 12:00:14</td>\n",
       "      <td>73.7318</td>\n",
       "      <td>1607515214603</td>\n",
       "    </tr>\n",
       "    <tr>\n",
       "      <th>65326</th>\n",
       "      <td>2020-12-09 12:00:14</td>\n",
       "      <td>73.7288</td>\n",
       "      <td>1607515214904</td>\n",
       "    </tr>\n",
       "    <tr>\n",
       "      <th>65327</th>\n",
       "      <td>2020-12-09 12:00:15</td>\n",
       "      <td>73.7288</td>\n",
       "      <td>1607515215205</td>\n",
       "    </tr>\n",
       "    <tr>\n",
       "      <th>65328</th>\n",
       "      <td>2020-12-09 12:00:16</td>\n",
       "      <td>73.7278</td>\n",
       "      <td>1607515216259</td>\n",
       "    </tr>\n",
       "    <tr>\n",
       "      <th>65329</th>\n",
       "      <td>2020-12-09 12:00:16</td>\n",
       "      <td>73.7298</td>\n",
       "      <td>1607515216963</td>\n",
       "    </tr>\n",
       "  </tbody>\n",
       "</table>\n",
       "<p>65330 rows × 3 columns</p>\n",
       "</div>"
      ],
      "text/plain": [
       "                     time      ask       time_msc\n",
       "0     2020-12-08 12:00:17  73.3548  1607428817225\n",
       "1     2020-12-08 12:00:17  73.3538  1607428817525\n",
       "2     2020-12-08 12:00:18  73.3538  1607428818541\n",
       "3     2020-12-08 12:00:18  73.3518  1607428818842\n",
       "4     2020-12-08 12:00:19  73.3518  1607428819144\n",
       "...                   ...      ...            ...\n",
       "65325 2020-12-09 12:00:14  73.7318  1607515214603\n",
       "65326 2020-12-09 12:00:14  73.7288  1607515214904\n",
       "65327 2020-12-09 12:00:15  73.7288  1607515215205\n",
       "65328 2020-12-09 12:00:16  73.7278  1607515216259\n",
       "65329 2020-12-09 12:00:16  73.7298  1607515216963\n",
       "\n",
       "[65330 rows x 3 columns]"
      ]
     },
     "execution_count": 7,
     "metadata": {},
     "output_type": "execute_result"
    }
   ],
   "source": [
    "usdrub_ticks_frame"
   ]
  },
  {
   "cell_type": "code",
   "execution_count": 8,
   "metadata": {},
   "outputs": [],
   "source": [
    "position_euro = 0\n",
    "position_usd = 0\n",
    "old_euro = eurrub_ticks_frame['bid'][0]\n",
    "old_usd = usdrub_ticks_frame['ask'][0]\n",
    "current_usd = old_usd\n",
    "current_euro = old_euro\n",
    "\n",
    "spread = []\n",
    "\n",
    "while(position_euro <= len(eurrub_ticks_frame['time'])):\n",
    "    \n",
    "    if(eurrub_ticks_frame['time_msc'][position_euro] >= usdrub_ticks_frame['time_msc'][position_usd]):\n",
    "        \n",
    "        current_usd = usdrub_ticks_frame['ask'][position_usd]\n",
    "        spread.append(current_euro - current_usd)\n",
    "        old_usd = usdrub_ticks_frame['ask'][position_usd]\n",
    "        if position_usd >= len(usdrub_ticks_frame['time']) - 1:\n",
    "            break\n",
    "        position_usd += 1\n",
    "    else:\n",
    "        \n",
    "        current_euro = eurrub_ticks_frame['bid'][position_euro]\n",
    "        spread.append(current_euro - old_usd)\n",
    "        if position_euro >= len(eurrub_ticks_frame['time']) - 1:\n",
    "            break\n",
    "        position_euro += 1\n",
    "    \n",
    "        "
   ]
  },
  {
   "cell_type": "code",
   "execution_count": 9,
   "metadata": {
    "scrolled": true
   },
   "outputs": [
    {
     "data": {
      "text/plain": [
       "119413"
      ]
     },
     "execution_count": 9,
     "metadata": {},
     "output_type": "execute_result"
    }
   ],
   "source": [
    "len(spread)"
   ]
  },
  {
   "cell_type": "code",
   "execution_count": 10,
   "metadata": {},
   "outputs": [],
   "source": [
    "#максимальное и минимальное значение\n",
    "max_spread = max(spread)\n",
    "min_spread = min(spread)"
   ]
  },
  {
   "cell_type": "code",
   "execution_count": 11,
   "metadata": {},
   "outputs": [
    {
     "data": {
      "text/plain": [
       "15.3784"
      ]
     },
     "execution_count": 11,
     "metadata": {},
     "output_type": "execute_result"
    }
   ],
   "source": [
    "#Найдём медиану\n",
    "spread = np.array(spread)\n",
    "type(spread)\n",
    "median = np.median(spread)\n",
    "median"
   ]
  },
  {
   "cell_type": "code",
   "execution_count": 12,
   "metadata": {
    "scrolled": true
   },
   "outputs": [
    {
     "data": {
      "text/plain": [
       "15.599199999999996"
      ]
     },
     "execution_count": 12,
     "metadata": {},
     "output_type": "execute_result"
    }
   ],
   "source": [
    "max_spread"
   ]
  },
  {
   "cell_type": "code",
   "execution_count": 13,
   "metadata": {},
   "outputs": [
    {
     "data": {
      "text/plain": [
       "15.224899999999991"
      ]
     },
     "execution_count": 13,
     "metadata": {},
     "output_type": "execute_result"
    }
   ],
   "source": [
    "min_spread"
   ]
  },
  {
   "cell_type": "code",
   "execution_count": 15,
   "metadata": {
    "scrolled": true
   },
   "outputs": [
    {
     "name": "stdout",
     "output_type": "stream",
     "text": [
      "15.555039999999996\n",
      "15.255599999999992\n"
     ]
    }
   ],
   "source": [
    "Open = median + (max_spread - median) * 0.8\n",
    "print(Open)\n",
    "Close = median + (min_spread - median) * 0.8\n",
    "print(Close)"
   ]
  },
  {
   "cell_type": "code",
   "execution_count": null,
   "metadata": {},
   "outputs": [],
   "source": [
    "def open_pos():\n",
    "    request = {\n",
    "    \"action\": mt5.TRADE_ACTION_DEAL, # Совершить сделку прямо сейчас\n",
    "    \"symbol\": \"USDRUB\", # Сделка USDRUB\n",
    "    \"volume\": lot, # Объем который мы покупаем\n",
    "    \"type\": mt5.ORDER_TYPE_BUY, # Покупаем или продаём\n",
    "    \"price\": price, \n",
    "    \"sl\": price - 100 * point,\n",
    "    \"tp\": price + 100 * point,\n",
    "    \"deviation\": deviation,\n",
    "    \"magic\": 234000,\n",
    "    \"comment\": \"python script open\",\n",
    "    \"type_time\": mt5.ORDER_TIME_GTC,\n",
    "    \"type_filling\": mt5.ORDER_FILLING_IOC,\n",
    "    }\n",
    "    \n",
    "    request2 = {\n",
    "    \"action\": mt5.TRADE_ACTION_DEAL,\n",
    "    \"symbol\": \"EURRUB\",\n",
    "    \"volume\": lot,\n",
    "    \"type\": mt5.ORDER_TYPE_SELL,\n",
    "    \"price\": price,\n",
    "    \"sl\": 100000,\n",
    "    \"tp\": 100000,\n",
    "    \"deviation\": deviation,\n",
    "    \"magic\": 234000,\n",
    "    \"comment\": \"python script open\",\n",
    "    \"type_time\": mt5.ORDER_TIME_GTC,\n",
    "    \"type_filling\": mt5.ORDER_FILLING_IOC,\n",
    "    }\n",
    " "
   ]
  },
  {
   "cell_type": "code",
   "execution_count": null,
   "metadata": {},
   "outputs": [],
   "source": [
    "def close_pos():"
   ]
  },
  {
   "cell_type": "code",
   "execution_count": null,
   "metadata": {},
   "outputs": [],
   "source": [
    "while(True):\n",
    "    last_tick_usdrub = mt5.symbol_info_tick(\"USDRUB\")\n",
    "    last_tick_eurrub = mt5.symbol_info_tick(\"EURRUB\")\n",
    "    last_spread = last_tick_eurrub - last_tick_usdrub\n",
    "    if last_spread > Open:\n",
    "        open_pos() # Написать Функции\n",
    "    elif last_spread < Close:\n",
    "        close_pos() # Написать Функции\n",
    "    #time.sleep(1)\n",
    "    #Комиссию учитывать"
   ]
  },
  {
   "cell_type": "markdown",
   "metadata": {},
   "source": [
    "###  bid - продать, ask - купить"
   ]
  },
  {
   "cell_type": "code",
   "execution_count": 15,
   "metadata": {},
   "outputs": [
    {
     "data": {
      "image/png": "[encoded data removed]",
      "text/plain": [
       "<Figure size 432x288 with 1 Axes>"
      ]
     },
     "metadata": {
      "needs_background": "light"
     },
     "output_type": "display_data"
    }
   ],
   "source": [
    "#Посмотрим на графике наши значения\n",
    "plt.plot(spread, 'r-', label='Цена продажи евро в рублях')\n",
    "# выведем легенды \n",
    "plt.legend(loc='upper left')\n",
    " \n",
    "# добавим заголовок \n",
    "plt.title('spread')\n",
    " \n",
    "# покажем график\n",
    "plt.show()"
   ]
  },
  {
   "cell_type": "code",
   "execution_count": null,
   "metadata": {},
   "outputs": [],
   "source": [
    "\n",
    "lasttick=mt5.symbol_info_tick(\"GBPUSD\")\n"
   ]
  }
 ],
 "metadata": {
  "kernelspec": {
   "display_name": "Python 3",
   "language": "python",
   "name": "python3"
  },
  "language_info": {
   "codemirror_mode": {
    "name": "ipython",
    "version": 3
   },
   "file_extension": ".py",
   "mimetype": "text/x-python",
   "name": "python",
   "nbconvert_exporter": "python",
   "pygments_lexer": "ipython3",
   "version": "3.8.3"
  }
 },
 "nbformat": 4,
 "nbformat_minor": 4
}
