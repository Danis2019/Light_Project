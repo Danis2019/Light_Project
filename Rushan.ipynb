{
 "cells": [
  {
   "cell_type": "code",
   "execution_count": 1,
   "metadata": {},
   "outputs": [],
   "source": [
    "from datetime import datetime, timedelta\n",
    "import matplotlib.pyplot as plt\n",
    "import pandas as pd\n",
    "import numpy as np\n",
    "from pandas.plotting import register_matplotlib_converters\n",
    "register_matplotlib_converters()\n",
    "import MetaTrader5 as mt5\n",
    "import time\n",
    "import struct\n",
    "import os\n",
    "# import trinket\n",
    "# Модуль 1 подключение библиотек и зависимостей"
   ]
  },
  {
   "cell_type": "code",
   "execution_count": 2,
   "metadata": {},
   "outputs": [],
   "source": [
    "# подключимся к MetaTrader 5\n",
    "if not mt5.initialize():\n",
    "    print(\"initialize() failed\")\n",
    "    quit()"
   ]
  },
  {
   "cell_type": "code",
   "execution_count": 3,
   "metadata": {},
   "outputs": [],
   "source": [
    "def take_rates():\n",
    "    utc_from = datetime.now() - timedelta(minutes=15)\n",
    "    gbpusd_rates = mt5.copy_rates_from(\"GBPUSD\", mt5.TIMEFRAME_M15, utc_from, 15)\n",
    "    eurusd_rates = mt5.copy_rates_from(\"EURUSD\", mt5.TIMEFRAME_M15, utc_from, 15)\n",
    "    return gbpusd_rates, eurusd_rates"
   ]
  },
  {
   "cell_type": "code",
   "execution_count": 4,
   "metadata": {},
   "outputs": [],
   "source": [
    "def calculation(rate1, rate2):\n",
    "    spread = take_rates()[0]['close'] - take_rates()[1]['close'] * 1.2 # Вычисляем спред\n",
    "    spread = np.array(spread)\n",
    "    plt.plot(take_rates()[0]['close'])\n",
    "    median = np.median(spread)\n",
    "    Open_up = list()\n",
    "    Open_down = list()\n",
    "    Open_UP =0\n",
    "    Open_DOWN = 0\n",
    "    #Вычисляем верхнюю и нижнюю границу\n",
    "    for i in range(0,len(spread)):\n",
    "        if spread[i] > median:\n",
    "            Open_up.append(spread[i])\n",
    "        if spread[i] < median:\n",
    "            Open_down.append(spread[i])\n",
    "    Open_UP =np.median(Open_up)\n",
    "    Open_DOWN = np.median(Open_down)\n",
    "    return Open_UP, Open_DOWN, median"
   ]
  },
  {
   "cell_type": "code",
   "execution_count": 7,
   "metadata": {},
   "outputs": [
    {
     "data": {
      "text/plain": [
       "-0.04041799999999984"
      ]
     },
     "execution_count": 7,
     "metadata": {},
     "output_type": "execute_result"
    }
   ],
   "source": [
    "last_tick_EURUSD = mt5.copy_rates_from(\"EURUSD\", mt5.TIMEFRAME_M1, datetime.now() - timedelta(minutes=1), 1)['close'][0]\n",
    "last_tick_GPBUSD = mt5.copy_rates_from(\"GBPUSD\", mt5.TIMEFRAME_M1, datetime.now() - timedelta(minutes=1), 1)['close'][0]\n",
    "last_spread = last_tick_GPBUSD - last_tick_EURUSD * 1.2\n",
    "last_spread"
   ]
  },
  {
   "cell_type": "code",
   "execution_count": 8,
   "metadata": {},
   "outputs": [
    {
     "name": "stdout",
     "output_type": "stream",
     "text": [
      "-0.03739399999999993\n",
      "-0.03805800000000015\n",
      "-0.03774399999999978\n"
     ]
    },
    {
     "data": {
      "image/png": "[encoded data removed]",
      "text/plain": [
       "<Figure size 432x288 with 1 Axes>"
      ]
     },
     "metadata": {
      "needs_background": "light"
     },
     "output_type": "display_data"
    }
   ],
   "source": [
    "values = calculation(take_rates()[0]['close'], take_rates()[1]['close'])\n",
    "print(values[0])\n",
    "print(values[1])\n",
    "print(values[2])"
   ]
  },
  {
   "cell_type": "code",
   "execution_count": 157,
   "metadata": {},
   "outputs": [],
   "source": [
    "    \n",
    "    gbprub_ticks = mt5.copy_ticks_range(\"GBPUSD\",\n",
    "                                         datetime.now() - timedelta(minutes=15),\n",
    "                                         datetime.now(),\n",
    "                                         mt5.COPY_TICKS_ALL)\n",
    "# # пока на этом этапе верно 1 \n",
    "    usdrub_ticks = mt5.copy_ticks_range(\"EURUSD\", \n",
    "                                         datetime.now() - timedelta(minutes=15),\n",
    "                                         datetime.now(),\n",
    "                                         mt5.COPY_TICKS_ALL)"
   ]
  },
  {
   "cell_type": "code",
   "execution_count": 4,
   "metadata": {},
   "outputs": [],
   "source": [
    "gbprub_ticks = mt5.copy_ticks_range(\"GBPUSD\",\n",
    "                                         datetime.now() - timedelta(minutes=5),\n",
    "                                         datetime.now(),\n",
    "                                         mt5.COPY_TICKS_ALL)\n",
    "# # пока на этом этапе верно 1 \n",
    "eurrub_ticks = mt5.copy_ticks_range(\"EURUSD\", \n",
    "                                         datetime.now() - timedelta(minutes=5),\n",
    "                                         datetime.now(),\n",
    "                                         mt5.COPY_TICKS_ALL)\n",
    "gbprub_ticks_frame = pd.DataFrame(gbprub_ticks)\n",
    "eurrub_ticks_frame = pd.DataFrame(eurrub_ticks)\n",
    "gbprub_ticks_frame['time']=pd.to_datetime(gbprub_ticks_frame['time'], unit='s')\n",
    "eurrub_ticks_frame['time']=pd.to_datetime(eurrub_ticks_frame['time'], unit='s')\n",
    "a = gbprub_ticks_frame.head(1)\n",
    "b = eurrub_ticks_frame.head(1)\n",
    "advance_gpb = gbprub_ticks_frame['ask'][100] - gbprub_ticks_frame['ask'][0]\n",
    "advance_euro = eurrub_ticks_frame['ask'][100] - eurrub_ticks_frame['ask'][0]"
   ]
  },
  {
   "cell_type": "code",
   "execution_count": 6,
   "metadata": {},
   "outputs": [],
   "source": [
    "# подготовка запроса\n",
    "symbol_Euro = \"EURUSD\"\n",
    "symbol_Gbp = \"GBPUSD\"\n",
    "symbol_Euro_info =mt5.symbol_info(symbol_Euro)\n",
    "symbol_Gbp_info =mt5.symbol_info(symbol_Gbp)\n",
    "lot = 0.01\n",
    "point_euro = mt5.symbol_info(symbol_Euro).point \n",
    "point_gbp = mt5.symbol_info(symbol_Gbp).point\n",
    "deviation = 1 # deviation = отклонение\n",
    "# запросы\n",
    "#  struct MqlTradeRequest\n",
    "#   {\n",
    "#    ENUM_TRADE_REQUEST_ACTIONS    action;           // Тип выполняемого действия\n",
    "#    ulong                         magic;            // Штамп эксперта (идентификатор magic number)\n",
    "#    ulong                         order;            // Тикет ордера\n",
    "#    string                        symbol;           // Имя торгового инструмента\n",
    "#    double                        volume;           // Запрашиваемый объем сделки в лотах\n",
    "#    double                        price;            // Цена \n",
    "#    double                        stoplimit;        // Уровень StopLimit ордера\n",
    "#    double                        sl;               // Уровень Stop Loss ордера\n",
    "#    double                        tp;               // Уровень Take Profit ордера\n",
    "#    ulong                         deviation;        // Максимально приемлемое отклонение от запрашиваемой цены\n",
    "#    ENUM_ORDER_TYPE               type;             // Тип ордера\n",
    "#    ENUM_ORDER_TYPE_FILLING       type_filling;     // Тип ордера по исполнению\n",
    "#    ENUM_ORDER_TYPE_TIME          type_time;        // Тип ордера по времени действия\n",
    "#    datetime                      expiration;       // Срок истечения ордера (для ордеров типа ORDER_TIME_SPECIFIED)\n",
    "#    string                        comment;          // Комментарий к ордеру\n",
    "#    ulong                         position;         // Тикет позиции\n",
    "#    ulong                         position_by;      // Тикет встречной позиции\n",
    "#   };\n",
    "request_euro_sell = {\n",
    "\"action\": mt5.TRADE_ACTION_DEAL,# Совершить сделку прямо сейчас\n",
    "\"symbol\": symbol_Euro, # Сделка EURRUB\n",
    "\"volume\": lot, # Объем который мы покупаем\n",
    "\"type\": mt5.ORDER_TYPE_SELL, # Покупаем или продаём  \n",
    "#\"price\": price, # Для .TRADE_ACTION_DEAL не требуется\n",
    "\"deviation\": deviation, # Максимальное отклонение от заданной цены\n",
    "\"magic\": 123456, #Идентификатор эксперта. Позволяет организовать аналитическую обработку торговых ордеров.\n",
    "\"comment\": \"продали евро\",\n",
    "\"type_time\": mt5.ORDER_TIME_GTC,\n",
    "\"type_filling\": mt5.ORDER_FILLING_FOK,   #не будет продажи если нет необходимого обьема \n",
    "    \n",
    "                                            #Означает согласие совершить сделку \n",
    "                                            #по максимально доступному на рынке \n",
    "                                            #объему в пределах указанного в ордере. \n",
    "                                            #В случае невозможности полного исполнения ордер \n",
    "                                            #будет исполнен на доступный объем, а неисполненный объем ордера будет отменен.\n",
    "}\n",
    "request_gbp_buy= {\n",
    "\"action\": mt5.TRADE_ACTION_DEAL,\n",
    "\"symbol\": symbol_Gbp, # Сделка GBPRUB\n",
    "\"volume\": lot,\n",
    "\"type\": mt5.ORDER_TYPE_BUY, \n",
    "\"deviation\": deviation,\n",
    "\"magic\": 123456, #Идентификатор эксперта. Позволяет организовать аналитическую обработку торговых ордеров.\n",
    "\"comment\": \"купили евро\",\n",
    "\"type_time\": mt5.ORDER_TIME_GTC,        # Ордер будет находиться в очереди до тех пор, пока не будет снят\n",
    "\"type_filling\": mt5.ORDER_FILLING_FOK,      \n",
    "}\n",
    "\n",
    "# !!!!!!!!!!!!!!!!!!!!!!!!!!!!!!!!!!!!!!!!!!!!!!!!!!!!!!!!!!!!!!!!!!!!!\n",
    "order_euro_sell = mt5.order_send(request_euro_sell)\n",
    "order_gbp_buy = mt5.order_send(request_gbp_buy)\n",
    "# !!!!!!!!!!!!!!!!!!!!!!!!!!!!!!!!!!!!!!!!!!!!!!!!!!!!!!!!!!!!!!!!!\n",
    "request_euro_buy = { \n",
    "\"action\": mt5.TRADE_ACTION_DEAL, \n",
    "\"symbol\": symbol_Euro, \n",
    "\"volume\": lot, \n",
    "\"type\": mt5.ORDER_TYPE_BUY,\n",
    "\"position\": order_euro_sell.order,\n",
    "\"deviation\": deviation, \n",
    "\"magic\": 123456, \n",
    "\"comment\": \"купили евро\", \n",
    "\"type_time\": mt5.ORDER_TIME_GTC, \n",
    "\"type_filling\": mt5.ORDER_FILLING_FOK, \n",
    "}\n",
    "request_gbp_sell = {\n",
    "\"action\": mt5.TRADE_ACTION_DEAL,\n",
    "\"symbol\": symbol_Gbp, # Сделка GBPRUB\n",
    "\"volume\": lot, # Объем который мы покупаем\n",
    "\"type\": mt5.ORDER_TYPE_SELL,\n",
    "\"position\": order_gbp_buy.order,\n",
    "\"deviation\": deviation,\n",
    "\"magic\": 123456, #Идентификатор эксперта. Позволяет организовать аналитическую обработку торговых ордеров.\n",
    "\"comment\": \"продажа фунта\",\n",
    "\"type_time\": mt5.ORDER_TIME_GTC,        # Ордер будет находиться в очереди до тех пор, пока не будет снят\n",
    "\"type_filling\": mt5.ORDER_FILLING_FOK,   \n",
    "}\n",
    "request_euro_buy_all= {\n",
    "\"action\": mt5.TRADE_ACTION_DEAL,# Совершить сделку прямо сейчас\n",
    "\"symbol\": symbol_Euro, # Сделка EURRUB\n",
    "\"volume\": 10.0,\n",
    "\"type\": mt5.ORDER_TYPE_BUY, # Покупаем или продаём\n",
    "\"position\": order_euro_sell.order,\n",
    "\"deviation\": deviation, # Максимальное отклонение от заданной цены\n",
    "\"magic\": 123456, #Идентификатор эксперта. Позволяет организовать аналитическую обработку торговых ордеров.\n",
    "\"comment\": \"продали доллар\",\n",
    "\"type_time\": mt5.ORDER_TIME_GTC,\n",
    "\"type_filling\": mt5.ORDER_FILLING_IOC,\n",
    "}\n",
    "request_gbp_sell_all= {\n",
    "\"action\": mt5.TRADE_ACTION_DEAL,\n",
    "\"symbol\": symbol_Gbp, # Сделка GBPRUB\n",
    "\"volume\": 10.0,\n",
    "\"type\": mt5.ORDER_TYPE_SELL,\n",
    "\"position\": order_gbp_buy.order,\n",
    "\"deviation\": deviation,\n",
    "\"magic\": 123456, #Идентификатор эксперта. Позволяет организовать аналитическую обработку торговых ордеров.\n",
    "\"comment\": \"купили евро\",\n",
    "\"type_time\": mt5.ORDER_TIME_GTC,        # Ордер будет находиться в очереди до тех пор, пока не будет снят\n",
    "\"type_filling\": mt5.ORDER_FILLING_IOC,\n",
    "}"
   ]
  },
  {
   "cell_type": "code",
   "execution_count": 8,
   "metadata": {},
   "outputs": [
    {
     "name": "stdout",
     "output_type": "stream",
     "text": [
      "OrderSendResult(retcode=10009, deal=214173876, order=217232088, volume=0.01, price=1.2043, bid=0.0, ask=0.0, comment='Request executed', request_id=1, retcode_external=0, request=TradeRequest(action=1, magic=123456, order=0, symbol='EURUSD', volume=0.01, price=0.0, stoplimit=0.0, sl=0.0, tp=0.0, deviation=1, type=1, type_filling=0, type_time=0, expiration=0, comment='продали евро', position=0, position_by=0))\n"
     ]
    }
   ],
   "source": [
    "print(order_euro_sell)"
   ]
  },
  {
   "cell_type": "code",
   "execution_count": 6,
   "metadata": {},
   "outputs": [],
   "source": [
    "def ticks_to_df(gbprub_ticks,eurrub_ticks):\n",
    "    #Переведем имеющиеся у нас данные в DataFrame\n",
    "    gbprub_ticks_frame = pd.DataFrame(gbprub_ticks)\n",
    "    eurrub_ticks_frame = pd.DataFrame(eurrub_ticks)\n",
    "    #Время в MetaTrader 5 хранится в UTC таймзоне, поэтому переведем в привычный нам вид\n",
    "    gbprub_ticks_frame['time']=pd.to_datetime(gbprub_ticks_frame['time'], unit='s')\n",
    "    eurrub_ticks_frame['time']=pd.to_datetime(eurrub_ticks_frame['time'], unit='s')\n",
    "    \n",
    "    advance_gpb = gbprub_ticks_frame[0]['ask'] - gbprub_ticks_frame[-100]['ask']\n",
    "    advance_euro = eurrub_ticks_frame[0]['ask'] - eurrub_ticks_frame[-100]['ask']\n",
    "    \n",
    "    #Удалим ненужные столбцы\n",
    "    gbprub_ticks_frame.drop('ask', axis = 1, inplace = True)\n",
    "    gbprub_ticks_frame.drop('flags', axis = 1, inplace = True)\n",
    "    gbprub_ticks_frame.drop('volume_real', axis = 1, inplace = True)\n",
    "    gbprub_ticks_frame.drop('last', axis = 1, inplace = True)\n",
    "    gbprub_ticks_frame.drop('volume', axis = 1, inplace = True)\n",
    "\n",
    "    eurrub_ticks_frame.drop('bid', axis = 1, inplace = True)\n",
    "    eurrub_ticks_frame.drop('flags', axis = 1, inplace = True)\n",
    "    eurrub_ticks_frame.drop('volume_real', axis = 1, inplace = True)\n",
    "    eurrub_ticks_frame.drop('last', axis = 1, inplace = True)\n",
    "    eurrub_ticks_frame.drop('volume', axis = 1, inplace = True)\n",
    "    return eurrub_ticks_frame, gbprub_ticks_frame, advance_gpb,advance_gpb"
   ]
  },
  {
   "cell_type": "code",
   "execution_count": 7,
   "metadata": {},
   "outputs": [],
   "source": [
    "def change_ticks_df(eurorub_ticks_frame,gbprub_ticks_frame):\n",
    "    position_gbp = 0\n",
    "    position_euro = 0\n",
    "    old_gbp = gbprub_ticks_frame['bid'][0]\n",
    "    old_euro = eurorub_ticks_frame['ask'][0]\n",
    "    current_euro = old_euro\n",
    "    current_gbp = old_gbp\n",
    "    spread = []\n",
    "#     \n",
    "    while(position_gbp <= len(gbprub_ticks_frame['time'])):\n",
    "\n",
    "        if(gbprub_ticks_frame['time_msc'][position_gbp] >= eurorub_ticks_frame['time_msc'][position_euro]):\n",
    "\n",
    "            current_euro = eurorub_ticks_frame['ask'][position_euro]\n",
    "            spread.append(current_gbp - current_euro)\n",
    "            old_euro = eurorub_ticks_frame['ask'][position_euro]\n",
    "            if position_euro >= len(eurorub_ticks_frame['time']) - 1:\n",
    "                break\n",
    "            position_euro += 1\n",
    "        else:\n",
    "\n",
    "            current_gbp = gbprub_ticks_frame['bid'][position_gbp]\n",
    "            spread.append(current_gbp - old_euro)\n",
    "            if position_gbp >= len(gbprub_ticks_frame['time']) - 1:\n",
    "                break\n",
    "            position_gbp += 1\n",
    "    return spread"
   ]
  },
  {
   "cell_type": "code",
   "execution_count": 8,
   "metadata": {},
   "outputs": [],
   "source": [
    "def open_close(spread):\n",
    "    #максимальное и минимальное значение\n",
    "    max_spread = max(spread)\n",
    "    min_spread = min(spread)\n",
    "    #Найдём медиану\n",
    "    spread = np.array(spread)\n",
    "    median = np.median(spread)\n",
    "    print('median:     ',median,\n",
    "          '\\nmax spread: ', max_spread,\n",
    "          '\\nmin_spread: ',min_spread)\n",
    "    Open = median + (max_spread - median) * 0.1\n",
    "    print('Open:', Open)\n",
    "    Close = median #+ (min_spread - median) * 0.01\n",
    "    print('Close', Close)\n",
    "    return Open, Close"
   ]
  },
  {
   "cell_type": "code",
   "execution_count": 9,
   "metadata": {},
   "outputs": [],
   "source": [
    "def request_open_pos(): \n",
    "    result =mt5.order_send(request_gbp_buy) \n",
    "    result2 = mt5.order_send(request_euro_sell) #!!!!!!!!!!!!!!!!!!!!!!!!!!!!!!!!!!!!!\n",
    "    print('Открыл')\n",
    "#    print(result)\n",
    "#    print(result2)"
   ]
  },
  {
   "cell_type": "code",
   "execution_count": 10,
   "metadata": {},
   "outputs": [],
   "source": [
    "def request_close_pos():\n",
    "    result = mt5.order_send(request_gbp_sell) \n",
    "    result2 = mt5.order_send(request_euro_buy)\n",
    "    print('Закрыл')\n",
    "#    print(result)\n",
    "#    print(result2)"
   ]
  },
  {
   "cell_type": "code",
   "execution_count": 11,
   "metadata": {},
   "outputs": [],
   "source": [
    "def request_close_pos_all():\n",
    "    result = mt5.order_send(request_gbp_sell_all) \n",
    "    result2 = mt5.order_send(request_euro_buy_all) #!!!!!!!!!!!!!!!!!!!!!!!!!!!!!!!!!!!!!!!!!!!!!!!!!!!\n",
    "    #print('Закрыли все позиции')\n",
    "    print(result)\n",
    "    print(result2)"
   ]
  },
  {
   "cell_type": "code",
   "execution_count": 12,
   "metadata": {},
   "outputs": [
    {
     "ename": "KeyError",
     "evalue": "0",
     "output_type": "error",
     "traceback": [
      "\u001b[1;31m---------------------------------------------------------------------------\u001b[0m",
      "\u001b[1;31mKeyError\u001b[0m                                  Traceback (most recent call last)",
      "\u001b[1;32m~\\anaconda3\\lib\\site-packages\\pandas\\core\\indexes\\base.py\u001b[0m in \u001b[0;36mget_loc\u001b[1;34m(self, key, method, tolerance)\u001b[0m\n\u001b[0;32m   2645\u001b[0m             \u001b[1;32mtry\u001b[0m\u001b[1;33m:\u001b[0m\u001b[1;33m\u001b[0m\u001b[1;33m\u001b[0m\u001b[0m\n\u001b[1;32m-> 2646\u001b[1;33m                 \u001b[1;32mreturn\u001b[0m \u001b[0mself\u001b[0m\u001b[1;33m.\u001b[0m\u001b[0m_engine\u001b[0m\u001b[1;33m.\u001b[0m\u001b[0mget_loc\u001b[0m\u001b[1;33m(\u001b[0m\u001b[0mkey\u001b[0m\u001b[1;33m)\u001b[0m\u001b[1;33m\u001b[0m\u001b[1;33m\u001b[0m\u001b[0m\n\u001b[0m\u001b[0;32m   2647\u001b[0m             \u001b[1;32mexcept\u001b[0m \u001b[0mKeyError\u001b[0m\u001b[1;33m:\u001b[0m\u001b[1;33m\u001b[0m\u001b[1;33m\u001b[0m\u001b[0m\n",
      "\u001b[1;32mpandas\\_libs\\index.pyx\u001b[0m in \u001b[0;36mpandas._libs.index.IndexEngine.get_loc\u001b[1;34m()\u001b[0m\n",
      "\u001b[1;32mpandas\\_libs\\index.pyx\u001b[0m in \u001b[0;36mpandas._libs.index.IndexEngine.get_loc\u001b[1;34m()\u001b[0m\n",
      "\u001b[1;32mpandas\\_libs\\hashtable_class_helper.pxi\u001b[0m in \u001b[0;36mpandas._libs.hashtable.PyObjectHashTable.get_item\u001b[1;34m()\u001b[0m\n",
      "\u001b[1;32mpandas\\_libs\\hashtable_class_helper.pxi\u001b[0m in \u001b[0;36mpandas._libs.hashtable.PyObjectHashTable.get_item\u001b[1;34m()\u001b[0m\n",
      "\u001b[1;31mKeyError\u001b[0m: 0",
      "\nDuring handling of the above exception, another exception occurred:\n",
      "\u001b[1;31mKeyError\u001b[0m                                  Traceback (most recent call last)",
      "\u001b[1;32m<ipython-input-12-3c1b021709e3>\u001b[0m in \u001b[0;36m<module>\u001b[1;34m\u001b[0m\n\u001b[0;32m      1\u001b[0m \u001b[0mtake_ticks\u001b[0m\u001b[1;33m(\u001b[0m\u001b[1;33m)\u001b[0m\u001b[1;33m\u001b[0m\u001b[1;33m\u001b[0m\u001b[0m\n\u001b[1;32m----> 2\u001b[1;33m \u001b[0ma\u001b[0m \u001b[1;33m=\u001b[0m \u001b[0mticks_to_df\u001b[0m\u001b[1;33m(\u001b[0m\u001b[0mtake_ticks\u001b[0m\u001b[1;33m(\u001b[0m\u001b[1;33m)\u001b[0m\u001b[1;33m[\u001b[0m\u001b[1;36m0\u001b[0m\u001b[1;33m]\u001b[0m\u001b[1;33m,\u001b[0m\u001b[0mtake_ticks\u001b[0m\u001b[1;33m(\u001b[0m\u001b[1;33m)\u001b[0m\u001b[1;33m[\u001b[0m\u001b[1;36m1\u001b[0m\u001b[1;33m]\u001b[0m\u001b[1;33m)\u001b[0m\u001b[1;33m\u001b[0m\u001b[1;33m\u001b[0m\u001b[0m\n\u001b[0m",
      "\u001b[1;32m<ipython-input-6-5d1cd2b78f98>\u001b[0m in \u001b[0;36mticks_to_df\u001b[1;34m(gbprub_ticks, eurrub_ticks)\u001b[0m\n\u001b[0;32m      7\u001b[0m     \u001b[0meurrub_ticks_frame\u001b[0m\u001b[1;33m[\u001b[0m\u001b[1;34m'time'\u001b[0m\u001b[1;33m]\u001b[0m\u001b[1;33m=\u001b[0m\u001b[0mpd\u001b[0m\u001b[1;33m.\u001b[0m\u001b[0mto_datetime\u001b[0m\u001b[1;33m(\u001b[0m\u001b[0meurrub_ticks_frame\u001b[0m\u001b[1;33m[\u001b[0m\u001b[1;34m'time'\u001b[0m\u001b[1;33m]\u001b[0m\u001b[1;33m,\u001b[0m \u001b[0munit\u001b[0m\u001b[1;33m=\u001b[0m\u001b[1;34m's'\u001b[0m\u001b[1;33m)\u001b[0m\u001b[1;33m\u001b[0m\u001b[1;33m\u001b[0m\u001b[0m\n\u001b[0;32m      8\u001b[0m \u001b[1;33m\u001b[0m\u001b[0m\n\u001b[1;32m----> 9\u001b[1;33m     \u001b[0madvance_gpb\u001b[0m \u001b[1;33m=\u001b[0m \u001b[0mgbprub_ticks_frame\u001b[0m\u001b[1;33m[\u001b[0m\u001b[1;36m0\u001b[0m\u001b[1;33m]\u001b[0m\u001b[1;33m[\u001b[0m\u001b[1;34m'ask'\u001b[0m\u001b[1;33m]\u001b[0m \u001b[1;33m-\u001b[0m \u001b[0mgbprub_ticks_frame\u001b[0m\u001b[1;33m[\u001b[0m\u001b[1;33m-\u001b[0m\u001b[1;36m100\u001b[0m\u001b[1;33m]\u001b[0m\u001b[1;33m[\u001b[0m\u001b[1;34m'ask'\u001b[0m\u001b[1;33m]\u001b[0m\u001b[1;33m\u001b[0m\u001b[1;33m\u001b[0m\u001b[0m\n\u001b[0m\u001b[0;32m     10\u001b[0m     \u001b[0madvance_euro\u001b[0m \u001b[1;33m=\u001b[0m \u001b[0meurrub_ticks_frame\u001b[0m\u001b[1;33m[\u001b[0m\u001b[1;36m0\u001b[0m\u001b[1;33m]\u001b[0m\u001b[1;33m[\u001b[0m\u001b[1;34m'ask'\u001b[0m\u001b[1;33m]\u001b[0m \u001b[1;33m-\u001b[0m \u001b[0meurrub_ticks_frame\u001b[0m\u001b[1;33m[\u001b[0m\u001b[1;33m-\u001b[0m\u001b[1;36m100\u001b[0m\u001b[1;33m]\u001b[0m\u001b[1;33m[\u001b[0m\u001b[1;34m'ask'\u001b[0m\u001b[1;33m]\u001b[0m\u001b[1;33m\u001b[0m\u001b[1;33m\u001b[0m\u001b[0m\n\u001b[0;32m     11\u001b[0m \u001b[1;33m\u001b[0m\u001b[0m\n",
      "\u001b[1;32m~\\anaconda3\\lib\\site-packages\\pandas\\core\\frame.py\u001b[0m in \u001b[0;36m__getitem__\u001b[1;34m(self, key)\u001b[0m\n\u001b[0;32m   2798\u001b[0m             \u001b[1;32mif\u001b[0m \u001b[0mself\u001b[0m\u001b[1;33m.\u001b[0m\u001b[0mcolumns\u001b[0m\u001b[1;33m.\u001b[0m\u001b[0mnlevels\u001b[0m \u001b[1;33m>\u001b[0m \u001b[1;36m1\u001b[0m\u001b[1;33m:\u001b[0m\u001b[1;33m\u001b[0m\u001b[1;33m\u001b[0m\u001b[0m\n\u001b[0;32m   2799\u001b[0m                 \u001b[1;32mreturn\u001b[0m \u001b[0mself\u001b[0m\u001b[1;33m.\u001b[0m\u001b[0m_getitem_multilevel\u001b[0m\u001b[1;33m(\u001b[0m\u001b[0mkey\u001b[0m\u001b[1;33m)\u001b[0m\u001b[1;33m\u001b[0m\u001b[1;33m\u001b[0m\u001b[0m\n\u001b[1;32m-> 2800\u001b[1;33m             \u001b[0mindexer\u001b[0m \u001b[1;33m=\u001b[0m \u001b[0mself\u001b[0m\u001b[1;33m.\u001b[0m\u001b[0mcolumns\u001b[0m\u001b[1;33m.\u001b[0m\u001b[0mget_loc\u001b[0m\u001b[1;33m(\u001b[0m\u001b[0mkey\u001b[0m\u001b[1;33m)\u001b[0m\u001b[1;33m\u001b[0m\u001b[1;33m\u001b[0m\u001b[0m\n\u001b[0m\u001b[0;32m   2801\u001b[0m             \u001b[1;32mif\u001b[0m \u001b[0mis_integer\u001b[0m\u001b[1;33m(\u001b[0m\u001b[0mindexer\u001b[0m\u001b[1;33m)\u001b[0m\u001b[1;33m:\u001b[0m\u001b[1;33m\u001b[0m\u001b[1;33m\u001b[0m\u001b[0m\n\u001b[0;32m   2802\u001b[0m                 \u001b[0mindexer\u001b[0m \u001b[1;33m=\u001b[0m \u001b[1;33m[\u001b[0m\u001b[0mindexer\u001b[0m\u001b[1;33m]\u001b[0m\u001b[1;33m\u001b[0m\u001b[1;33m\u001b[0m\u001b[0m\n",
      "\u001b[1;32m~\\anaconda3\\lib\\site-packages\\pandas\\core\\indexes\\base.py\u001b[0m in \u001b[0;36mget_loc\u001b[1;34m(self, key, method, tolerance)\u001b[0m\n\u001b[0;32m   2646\u001b[0m                 \u001b[1;32mreturn\u001b[0m \u001b[0mself\u001b[0m\u001b[1;33m.\u001b[0m\u001b[0m_engine\u001b[0m\u001b[1;33m.\u001b[0m\u001b[0mget_loc\u001b[0m\u001b[1;33m(\u001b[0m\u001b[0mkey\u001b[0m\u001b[1;33m)\u001b[0m\u001b[1;33m\u001b[0m\u001b[1;33m\u001b[0m\u001b[0m\n\u001b[0;32m   2647\u001b[0m             \u001b[1;32mexcept\u001b[0m \u001b[0mKeyError\u001b[0m\u001b[1;33m:\u001b[0m\u001b[1;33m\u001b[0m\u001b[1;33m\u001b[0m\u001b[0m\n\u001b[1;32m-> 2648\u001b[1;33m                 \u001b[1;32mreturn\u001b[0m \u001b[0mself\u001b[0m\u001b[1;33m.\u001b[0m\u001b[0m_engine\u001b[0m\u001b[1;33m.\u001b[0m\u001b[0mget_loc\u001b[0m\u001b[1;33m(\u001b[0m\u001b[0mself\u001b[0m\u001b[1;33m.\u001b[0m\u001b[0m_maybe_cast_indexer\u001b[0m\u001b[1;33m(\u001b[0m\u001b[0mkey\u001b[0m\u001b[1;33m)\u001b[0m\u001b[1;33m)\u001b[0m\u001b[1;33m\u001b[0m\u001b[1;33m\u001b[0m\u001b[0m\n\u001b[0m\u001b[0;32m   2649\u001b[0m         \u001b[0mindexer\u001b[0m \u001b[1;33m=\u001b[0m \u001b[0mself\u001b[0m\u001b[1;33m.\u001b[0m\u001b[0mget_indexer\u001b[0m\u001b[1;33m(\u001b[0m\u001b[1;33m[\u001b[0m\u001b[0mkey\u001b[0m\u001b[1;33m]\u001b[0m\u001b[1;33m,\u001b[0m \u001b[0mmethod\u001b[0m\u001b[1;33m=\u001b[0m\u001b[0mmethod\u001b[0m\u001b[1;33m,\u001b[0m \u001b[0mtolerance\u001b[0m\u001b[1;33m=\u001b[0m\u001b[0mtolerance\u001b[0m\u001b[1;33m)\u001b[0m\u001b[1;33m\u001b[0m\u001b[1;33m\u001b[0m\u001b[0m\n\u001b[0;32m   2650\u001b[0m         \u001b[1;32mif\u001b[0m \u001b[0mindexer\u001b[0m\u001b[1;33m.\u001b[0m\u001b[0mndim\u001b[0m \u001b[1;33m>\u001b[0m \u001b[1;36m1\u001b[0m \u001b[1;32mor\u001b[0m \u001b[0mindexer\u001b[0m\u001b[1;33m.\u001b[0m\u001b[0msize\u001b[0m \u001b[1;33m>\u001b[0m \u001b[1;36m1\u001b[0m\u001b[1;33m:\u001b[0m\u001b[1;33m\u001b[0m\u001b[1;33m\u001b[0m\u001b[0m\n",
      "\u001b[1;32mpandas\\_libs\\index.pyx\u001b[0m in \u001b[0;36mpandas._libs.index.IndexEngine.get_loc\u001b[1;34m()\u001b[0m\n",
      "\u001b[1;32mpandas\\_libs\\index.pyx\u001b[0m in \u001b[0;36mpandas._libs.index.IndexEngine.get_loc\u001b[1;34m()\u001b[0m\n",
      "\u001b[1;32mpandas\\_libs\\hashtable_class_helper.pxi\u001b[0m in \u001b[0;36mpandas._libs.hashtable.PyObjectHashTable.get_item\u001b[1;34m()\u001b[0m\n",
      "\u001b[1;32mpandas\\_libs\\hashtable_class_helper.pxi\u001b[0m in \u001b[0;36mpandas._libs.hashtable.PyObjectHashTable.get_item\u001b[1;34m()\u001b[0m\n",
      "\u001b[1;31mKeyError\u001b[0m: 0"
     ]
    }
   ],
   "source": [
    "take_ticks()\n",
    "a = ticks_to_df(take_ticks()[0],take_ticks()[1])"
   ]
  },
  {
   "cell_type": "code",
   "execution_count": 13,
   "metadata": {},
   "outputs": [
    {
     "ename": "KeyError",
     "evalue": "0",
     "output_type": "error",
     "traceback": [
      "\u001b[1;31m---------------------------------------------------------------------------\u001b[0m",
      "\u001b[1;31mKeyError\u001b[0m                                  Traceback (most recent call last)",
      "\u001b[1;32m~\\anaconda3\\lib\\site-packages\\pandas\\core\\indexes\\base.py\u001b[0m in \u001b[0;36mget_loc\u001b[1;34m(self, key, method, tolerance)\u001b[0m\n\u001b[0;32m   2645\u001b[0m             \u001b[1;32mtry\u001b[0m\u001b[1;33m:\u001b[0m\u001b[1;33m\u001b[0m\u001b[1;33m\u001b[0m\u001b[0m\n\u001b[1;32m-> 2646\u001b[1;33m                 \u001b[1;32mreturn\u001b[0m \u001b[0mself\u001b[0m\u001b[1;33m.\u001b[0m\u001b[0m_engine\u001b[0m\u001b[1;33m.\u001b[0m\u001b[0mget_loc\u001b[0m\u001b[1;33m(\u001b[0m\u001b[0mkey\u001b[0m\u001b[1;33m)\u001b[0m\u001b[1;33m\u001b[0m\u001b[1;33m\u001b[0m\u001b[0m\n\u001b[0m\u001b[0;32m   2647\u001b[0m             \u001b[1;32mexcept\u001b[0m \u001b[0mKeyError\u001b[0m\u001b[1;33m:\u001b[0m\u001b[1;33m\u001b[0m\u001b[1;33m\u001b[0m\u001b[0m\n",
      "\u001b[1;32mpandas\\_libs\\index.pyx\u001b[0m in \u001b[0;36mpandas._libs.index.IndexEngine.get_loc\u001b[1;34m()\u001b[0m\n",
      "\u001b[1;32mpandas\\_libs\\index.pyx\u001b[0m in \u001b[0;36mpandas._libs.index.IndexEngine.get_loc\u001b[1;34m()\u001b[0m\n",
      "\u001b[1;32mpandas\\_libs\\hashtable_class_helper.pxi\u001b[0m in \u001b[0;36mpandas._libs.hashtable.PyObjectHashTable.get_item\u001b[1;34m()\u001b[0m\n",
      "\u001b[1;32mpandas\\_libs\\hashtable_class_helper.pxi\u001b[0m in \u001b[0;36mpandas._libs.hashtable.PyObjectHashTable.get_item\u001b[1;34m()\u001b[0m\n",
      "\u001b[1;31mKeyError\u001b[0m: 0",
      "\nDuring handling of the above exception, another exception occurred:\n",
      "\u001b[1;31mKeyError\u001b[0m                                  Traceback (most recent call last)",
      "\u001b[1;32m<ipython-input-13-d55cadd4cfac>\u001b[0m in \u001b[0;36m<module>\u001b[1;34m\u001b[0m\n\u001b[1;32m----> 1\u001b[1;33m \u001b[0mb\u001b[0m \u001b[1;33m=\u001b[0m \u001b[0mchange_ticks_df\u001b[0m\u001b[1;33m(\u001b[0m\u001b[0ma\u001b[0m\u001b[1;33m[\u001b[0m\u001b[1;36m0\u001b[0m\u001b[1;33m]\u001b[0m\u001b[1;33m,\u001b[0m \u001b[0ma\u001b[0m\u001b[1;33m[\u001b[0m\u001b[1;36m1\u001b[0m\u001b[1;33m]\u001b[0m\u001b[1;33m)\u001b[0m\u001b[1;33m\u001b[0m\u001b[1;33m\u001b[0m\u001b[0m\n\u001b[0m",
      "\u001b[1;32m~\\anaconda3\\lib\\site-packages\\pandas\\core\\frame.py\u001b[0m in \u001b[0;36m__getitem__\u001b[1;34m(self, key)\u001b[0m\n\u001b[0;32m   2798\u001b[0m             \u001b[1;32mif\u001b[0m \u001b[0mself\u001b[0m\u001b[1;33m.\u001b[0m\u001b[0mcolumns\u001b[0m\u001b[1;33m.\u001b[0m\u001b[0mnlevels\u001b[0m \u001b[1;33m>\u001b[0m \u001b[1;36m1\u001b[0m\u001b[1;33m:\u001b[0m\u001b[1;33m\u001b[0m\u001b[1;33m\u001b[0m\u001b[0m\n\u001b[0;32m   2799\u001b[0m                 \u001b[1;32mreturn\u001b[0m \u001b[0mself\u001b[0m\u001b[1;33m.\u001b[0m\u001b[0m_getitem_multilevel\u001b[0m\u001b[1;33m(\u001b[0m\u001b[0mkey\u001b[0m\u001b[1;33m)\u001b[0m\u001b[1;33m\u001b[0m\u001b[1;33m\u001b[0m\u001b[0m\n\u001b[1;32m-> 2800\u001b[1;33m             \u001b[0mindexer\u001b[0m \u001b[1;33m=\u001b[0m \u001b[0mself\u001b[0m\u001b[1;33m.\u001b[0m\u001b[0mcolumns\u001b[0m\u001b[1;33m.\u001b[0m\u001b[0mget_loc\u001b[0m\u001b[1;33m(\u001b[0m\u001b[0mkey\u001b[0m\u001b[1;33m)\u001b[0m\u001b[1;33m\u001b[0m\u001b[1;33m\u001b[0m\u001b[0m\n\u001b[0m\u001b[0;32m   2801\u001b[0m             \u001b[1;32mif\u001b[0m \u001b[0mis_integer\u001b[0m\u001b[1;33m(\u001b[0m\u001b[0mindexer\u001b[0m\u001b[1;33m)\u001b[0m\u001b[1;33m:\u001b[0m\u001b[1;33m\u001b[0m\u001b[1;33m\u001b[0m\u001b[0m\n\u001b[0;32m   2802\u001b[0m                 \u001b[0mindexer\u001b[0m \u001b[1;33m=\u001b[0m \u001b[1;33m[\u001b[0m\u001b[0mindexer\u001b[0m\u001b[1;33m]\u001b[0m\u001b[1;33m\u001b[0m\u001b[1;33m\u001b[0m\u001b[0m\n",
      "\u001b[1;32m~\\anaconda3\\lib\\site-packages\\pandas\\core\\indexes\\base.py\u001b[0m in \u001b[0;36mget_loc\u001b[1;34m(self, key, method, tolerance)\u001b[0m\n\u001b[0;32m   2646\u001b[0m                 \u001b[1;32mreturn\u001b[0m \u001b[0mself\u001b[0m\u001b[1;33m.\u001b[0m\u001b[0m_engine\u001b[0m\u001b[1;33m.\u001b[0m\u001b[0mget_loc\u001b[0m\u001b[1;33m(\u001b[0m\u001b[0mkey\u001b[0m\u001b[1;33m)\u001b[0m\u001b[1;33m\u001b[0m\u001b[1;33m\u001b[0m\u001b[0m\n\u001b[0;32m   2647\u001b[0m             \u001b[1;32mexcept\u001b[0m \u001b[0mKeyError\u001b[0m\u001b[1;33m:\u001b[0m\u001b[1;33m\u001b[0m\u001b[1;33m\u001b[0m\u001b[0m\n\u001b[1;32m-> 2648\u001b[1;33m                 \u001b[1;32mreturn\u001b[0m \u001b[0mself\u001b[0m\u001b[1;33m.\u001b[0m\u001b[0m_engine\u001b[0m\u001b[1;33m.\u001b[0m\u001b[0mget_loc\u001b[0m\u001b[1;33m(\u001b[0m\u001b[0mself\u001b[0m\u001b[1;33m.\u001b[0m\u001b[0m_maybe_cast_indexer\u001b[0m\u001b[1;33m(\u001b[0m\u001b[0mkey\u001b[0m\u001b[1;33m)\u001b[0m\u001b[1;33m)\u001b[0m\u001b[1;33m\u001b[0m\u001b[1;33m\u001b[0m\u001b[0m\n\u001b[0m\u001b[0;32m   2649\u001b[0m         \u001b[0mindexer\u001b[0m \u001b[1;33m=\u001b[0m \u001b[0mself\u001b[0m\u001b[1;33m.\u001b[0m\u001b[0mget_indexer\u001b[0m\u001b[1;33m(\u001b[0m\u001b[1;33m[\u001b[0m\u001b[0mkey\u001b[0m\u001b[1;33m]\u001b[0m\u001b[1;33m,\u001b[0m \u001b[0mmethod\u001b[0m\u001b[1;33m=\u001b[0m\u001b[0mmethod\u001b[0m\u001b[1;33m,\u001b[0m \u001b[0mtolerance\u001b[0m\u001b[1;33m=\u001b[0m\u001b[0mtolerance\u001b[0m\u001b[1;33m)\u001b[0m\u001b[1;33m\u001b[0m\u001b[1;33m\u001b[0m\u001b[0m\n\u001b[0;32m   2650\u001b[0m         \u001b[1;32mif\u001b[0m \u001b[0mindexer\u001b[0m\u001b[1;33m.\u001b[0m\u001b[0mndim\u001b[0m \u001b[1;33m>\u001b[0m \u001b[1;36m1\u001b[0m \u001b[1;32mor\u001b[0m \u001b[0mindexer\u001b[0m\u001b[1;33m.\u001b[0m\u001b[0msize\u001b[0m \u001b[1;33m>\u001b[0m \u001b[1;36m1\u001b[0m\u001b[1;33m:\u001b[0m\u001b[1;33m\u001b[0m\u001b[1;33m\u001b[0m\u001b[0m\n",
      "\u001b[1;32mpandas\\_libs\\index.pyx\u001b[0m in \u001b[0;36mpandas._libs.index.IndexEngine.get_loc\u001b[1;34m()\u001b[0m\n",
      "\u001b[1;32mpandas\\_libs\\index.pyx\u001b[0m in \u001b[0;36mpandas._libs.index.IndexEngine.get_loc\u001b[1;34m()\u001b[0m\n",
      "\u001b[1;32mpandas\\_libs\\hashtable_class_helper.pxi\u001b[0m in \u001b[0;36mpandas._libs.hashtable.PyObjectHashTable.get_item\u001b[1;34m()\u001b[0m\n",
      "\u001b[1;32mpandas\\_libs\\hashtable_class_helper.pxi\u001b[0m in \u001b[0;36mpandas._libs.hashtable.PyObjectHashTable.get_item\u001b[1;34m()\u001b[0m\n",
      "\u001b[1;31mKeyError\u001b[0m: 0"
     ]
    }
   ],
   "source": [
    "b = change_ticks_df(a[0], a[1])"
   ]
  },
  {
   "cell_type": "code",
   "execution_count": 14,
   "metadata": {},
   "outputs": [
    {
     "ename": "TypeError",
     "evalue": "'<' not supported between instances of 'float' and 'Timestamp'",
     "output_type": "error",
     "traceback": [
      "\u001b[1;31m---------------------------------------------------------------------------\u001b[0m",
      "\u001b[1;31mTypeError\u001b[0m                                 Traceback (most recent call last)",
      "\u001b[1;32m<ipython-input-14-aba524a65651>\u001b[0m in \u001b[0;36m<module>\u001b[1;34m\u001b[0m\n\u001b[1;32m----> 1\u001b[1;33m \u001b[0mOpen\u001b[0m\u001b[1;33m,\u001b[0m\u001b[0mClose\u001b[0m \u001b[1;33m=\u001b[0m \u001b[0mopen_close\u001b[0m\u001b[1;33m(\u001b[0m\u001b[0mb\u001b[0m\u001b[1;33m)\u001b[0m\u001b[1;33m\u001b[0m\u001b[1;33m\u001b[0m\u001b[0m\n\u001b[0m",
      "\u001b[1;32m<ipython-input-8-2001907f4b66>\u001b[0m in \u001b[0;36mopen_close\u001b[1;34m(spread)\u001b[0m\n\u001b[0;32m      5\u001b[0m     \u001b[1;31m#Найдём медиану\u001b[0m\u001b[1;33m\u001b[0m\u001b[1;33m\u001b[0m\u001b[1;33m\u001b[0m\u001b[0m\n\u001b[0;32m      6\u001b[0m     \u001b[0mspread\u001b[0m \u001b[1;33m=\u001b[0m \u001b[0mnp\u001b[0m\u001b[1;33m.\u001b[0m\u001b[0marray\u001b[0m\u001b[1;33m(\u001b[0m\u001b[0mspread\u001b[0m\u001b[1;33m)\u001b[0m\u001b[1;33m\u001b[0m\u001b[1;33m\u001b[0m\u001b[0m\n\u001b[1;32m----> 7\u001b[1;33m     \u001b[0mmedian\u001b[0m \u001b[1;33m=\u001b[0m \u001b[0mnp\u001b[0m\u001b[1;33m.\u001b[0m\u001b[0mmedian\u001b[0m\u001b[1;33m(\u001b[0m\u001b[0mspread\u001b[0m\u001b[1;33m)\u001b[0m\u001b[1;33m\u001b[0m\u001b[1;33m\u001b[0m\u001b[0m\n\u001b[0m\u001b[0;32m      8\u001b[0m     print('median:     ',median,\n\u001b[0;32m      9\u001b[0m           \u001b[1;34m'\\nmax spread: '\u001b[0m\u001b[1;33m,\u001b[0m \u001b[0mmax_spread\u001b[0m\u001b[1;33m,\u001b[0m\u001b[1;33m\u001b[0m\u001b[1;33m\u001b[0m\u001b[0m\n",
      "\u001b[1;32m<__array_function__ internals>\u001b[0m in \u001b[0;36mmedian\u001b[1;34m(*args, **kwargs)\u001b[0m\n",
      "\u001b[1;32m~\\anaconda3\\lib\\site-packages\\numpy\\lib\\function_base.py\u001b[0m in \u001b[0;36mmedian\u001b[1;34m(a, axis, out, overwrite_input, keepdims)\u001b[0m\n\u001b[0;32m   3492\u001b[0m \u001b[1;33m\u001b[0m\u001b[0m\n\u001b[0;32m   3493\u001b[0m     \"\"\"\n\u001b[1;32m-> 3494\u001b[1;33m     r, k = _ureduce(a, func=_median, axis=axis, out=out,\n\u001b[0m\u001b[0;32m   3495\u001b[0m                     overwrite_input=overwrite_input)\n\u001b[0;32m   3496\u001b[0m     \u001b[1;32mif\u001b[0m \u001b[0mkeepdims\u001b[0m\u001b[1;33m:\u001b[0m\u001b[1;33m\u001b[0m\u001b[1;33m\u001b[0m\u001b[0m\n",
      "\u001b[1;32m~\\anaconda3\\lib\\site-packages\\numpy\\lib\\function_base.py\u001b[0m in \u001b[0;36m_ureduce\u001b[1;34m(a, func, **kwargs)\u001b[0m\n\u001b[0;32m   3401\u001b[0m         \u001b[0mkeepdim\u001b[0m \u001b[1;33m=\u001b[0m \u001b[1;33m(\u001b[0m\u001b[1;36m1\u001b[0m\u001b[1;33m,\u001b[0m\u001b[1;33m)\u001b[0m \u001b[1;33m*\u001b[0m \u001b[0ma\u001b[0m\u001b[1;33m.\u001b[0m\u001b[0mndim\u001b[0m\u001b[1;33m\u001b[0m\u001b[1;33m\u001b[0m\u001b[0m\n\u001b[0;32m   3402\u001b[0m \u001b[1;33m\u001b[0m\u001b[0m\n\u001b[1;32m-> 3403\u001b[1;33m     \u001b[0mr\u001b[0m \u001b[1;33m=\u001b[0m \u001b[0mfunc\u001b[0m\u001b[1;33m(\u001b[0m\u001b[0ma\u001b[0m\u001b[1;33m,\u001b[0m \u001b[1;33m**\u001b[0m\u001b[0mkwargs\u001b[0m\u001b[1;33m)\u001b[0m\u001b[1;33m\u001b[0m\u001b[1;33m\u001b[0m\u001b[0m\n\u001b[0m\u001b[0;32m   3404\u001b[0m     \u001b[1;32mreturn\u001b[0m \u001b[0mr\u001b[0m\u001b[1;33m,\u001b[0m \u001b[0mkeepdim\u001b[0m\u001b[1;33m\u001b[0m\u001b[1;33m\u001b[0m\u001b[0m\n\u001b[0;32m   3405\u001b[0m \u001b[1;33m\u001b[0m\u001b[0m\n",
      "\u001b[1;32m~\\anaconda3\\lib\\site-packages\\numpy\\lib\\function_base.py\u001b[0m in \u001b[0;36m_median\u001b[1;34m(a, axis, out, overwrite_input)\u001b[0m\n\u001b[0;32m   3526\u001b[0m             \u001b[0mpart\u001b[0m \u001b[1;33m=\u001b[0m \u001b[0ma\u001b[0m\u001b[1;33m\u001b[0m\u001b[1;33m\u001b[0m\u001b[0m\n\u001b[0;32m   3527\u001b[0m     \u001b[1;32melse\u001b[0m\u001b[1;33m:\u001b[0m\u001b[1;33m\u001b[0m\u001b[1;33m\u001b[0m\u001b[0m\n\u001b[1;32m-> 3528\u001b[1;33m         \u001b[0mpart\u001b[0m \u001b[1;33m=\u001b[0m \u001b[0mpartition\u001b[0m\u001b[1;33m(\u001b[0m\u001b[0ma\u001b[0m\u001b[1;33m,\u001b[0m \u001b[0mkth\u001b[0m\u001b[1;33m,\u001b[0m \u001b[0maxis\u001b[0m\u001b[1;33m=\u001b[0m\u001b[0maxis\u001b[0m\u001b[1;33m)\u001b[0m\u001b[1;33m\u001b[0m\u001b[1;33m\u001b[0m\u001b[0m\n\u001b[0m\u001b[0;32m   3529\u001b[0m \u001b[1;33m\u001b[0m\u001b[0m\n\u001b[0;32m   3530\u001b[0m     \u001b[1;32mif\u001b[0m \u001b[0mpart\u001b[0m\u001b[1;33m.\u001b[0m\u001b[0mshape\u001b[0m \u001b[1;33m==\u001b[0m \u001b[1;33m(\u001b[0m\u001b[1;33m)\u001b[0m\u001b[1;33m:\u001b[0m\u001b[1;33m\u001b[0m\u001b[1;33m\u001b[0m\u001b[0m\n",
      "\u001b[1;32m<__array_function__ internals>\u001b[0m in \u001b[0;36mpartition\u001b[1;34m(*args, **kwargs)\u001b[0m\n",
      "\u001b[1;32m~\\anaconda3\\lib\\site-packages\\numpy\\core\\fromnumeric.py\u001b[0m in \u001b[0;36mpartition\u001b[1;34m(a, kth, axis, kind, order)\u001b[0m\n\u001b[0;32m    744\u001b[0m     \u001b[1;32melse\u001b[0m\u001b[1;33m:\u001b[0m\u001b[1;33m\u001b[0m\u001b[1;33m\u001b[0m\u001b[0m\n\u001b[0;32m    745\u001b[0m         \u001b[0ma\u001b[0m \u001b[1;33m=\u001b[0m \u001b[0masanyarray\u001b[0m\u001b[1;33m(\u001b[0m\u001b[0ma\u001b[0m\u001b[1;33m)\u001b[0m\u001b[1;33m.\u001b[0m\u001b[0mcopy\u001b[0m\u001b[1;33m(\u001b[0m\u001b[0morder\u001b[0m\u001b[1;33m=\u001b[0m\u001b[1;34m\"K\"\u001b[0m\u001b[1;33m)\u001b[0m\u001b[1;33m\u001b[0m\u001b[1;33m\u001b[0m\u001b[0m\n\u001b[1;32m--> 746\u001b[1;33m     \u001b[0ma\u001b[0m\u001b[1;33m.\u001b[0m\u001b[0mpartition\u001b[0m\u001b[1;33m(\u001b[0m\u001b[0mkth\u001b[0m\u001b[1;33m,\u001b[0m \u001b[0maxis\u001b[0m\u001b[1;33m=\u001b[0m\u001b[0maxis\u001b[0m\u001b[1;33m,\u001b[0m \u001b[0mkind\u001b[0m\u001b[1;33m=\u001b[0m\u001b[0mkind\u001b[0m\u001b[1;33m,\u001b[0m \u001b[0morder\u001b[0m\u001b[1;33m=\u001b[0m\u001b[0morder\u001b[0m\u001b[1;33m)\u001b[0m\u001b[1;33m\u001b[0m\u001b[1;33m\u001b[0m\u001b[0m\n\u001b[0m\u001b[0;32m    747\u001b[0m     \u001b[1;32mreturn\u001b[0m \u001b[0ma\u001b[0m\u001b[1;33m\u001b[0m\u001b[1;33m\u001b[0m\u001b[0m\n\u001b[0;32m    748\u001b[0m \u001b[1;33m\u001b[0m\u001b[0m\n",
      "\u001b[1;31mTypeError\u001b[0m: '<' not supported between instances of 'float' and 'Timestamp'"
     ]
    }
   ],
   "source": [
    "Open,Close = open_close(b)"
   ]
  },
  {
   "cell_type": "code",
   "execution_count": null,
   "metadata": {},
   "outputs": [],
   "source": [
    "# Цикл основанный на единечной покупке и продаже\n",
    "buy_gpb = list()\n",
    "buy_euro = list()\n",
    "a = True \n",
    "b = True\n",
    "while(True):\n",
    "    if (datetime.now().minute % 5 == 0) and datetime.now().second == 0:\n",
    "        file_obj = open('QuantityOpenClose.txt', 'a')\n",
    "        Quant_op = 'Quantity open: ' + str(quantity_open)+'\\n'\n",
    "        Quant_cl = 'Quantity close: ' + str(quantity_close)+'\\n'\n",
    "        Money = str(mt5.account_info().balance - balance_old) + '\\n'\n",
    "        balance_old = mt5.account_info().balance\n",
    "        file_obj.write(Quant_op)\n",
    "        file_obj.write(Quant_cl)\n",
    "        file_obj.write(Money)\n",
    "        file_obj.close()\n",
    "        request_close_pos_all()\n",
    "        Open,Close = open_close(spread1)\n",
    "        spread1 = []\n",
    "        quantity_open = 0\n",
    "        quantity_close = 0\n",
    "        time.sleep(1)\n",
    "#     if datetime.now().second == 2:\n",
    "#         print('уцкцукн35нг6ш')\n",
    "#         Open,Close = open_close(spread1)\n",
    "#         spread1 = []\n",
    "#         time.sleep(1)\n",
    "    last_tick_EURUSD = mt5.symbol_info_tick(\"EURUSD\").bid\n",
    "    last_tick_GPBUSD = mt5.symbol_info_tick(\"GBPUSD\").ask\n",
    "    bid_EURO = mt5.symbol_info_tick(\"EURUSD\").bid\n",
    "    bid_GPB = mt5.symbol_info_tick(\"GBPUSD\").bid\n",
    "    ask_EURO = mt5.symbol_info_tick(\"EURUSD\").ask\n",
    "    ask_GPB = mt5.symbol_info_tick(\"GBPUSD\").ask\n",
    "    last_spread = last_tick_GPBUSD - last_tick_EURUSD\n",
    "#   print(last_spread)\n",
    "    spread1.append(last_spread)\n",
    "#     print('last_spread:',last_spread)\n",
    "#     print('Close:',Close * 0.99)\n",
    "#  упорядочить массив в начале минимальные\n",
    "    if advance_gpb > 0 and a == True:\n",
    "        a = False\n",
    "        buy_gpb.append(ask_GPB)\n",
    "        mt5.order_send(request_gbp_buy)\n",
    "    else:\n",
    "        for item in buy_gpb:\n",
    "            if item - bid_GPB > 0:\n",
    "                mt5.order_send(request_gbp_sell)\n",
    "                a = True\n",
    "    if advance_euro > 0 and b == True:\n",
    "        buy_euro.append(ask_EURO)\n",
    "        b = False\n",
    "    else:\n",
    "        for item in buy_euro:\n",
    "            if item - bid_EURO > 0:\n",
    "                mt5.order_send(request_euro_sell)\n",
    "                b = True\n",
    "#     if last_spread > Open and a == True:\n",
    "#         a = False\n",
    "#         request_open_pos() # Написать Функции\n",
    "#         buy_gpb.append(last_tick_GPBUSD)\n",
    "#     if last_spread < Close and a == False:\n",
    "#         a = True\n",
    "#         request_close_pos()"
   ]
  }
 ],
 "metadata": {
  "kernelspec": {
   "display_name": "Python 3",
   "language": "python",
   "name": "python3"
  },
  "language_info": {
   "codemirror_mode": {
    "name": "ipython",
    "version": 3
   },
   "file_extension": ".py",
   "mimetype": "text/x-python",
   "name": "python",
   "nbconvert_exporter": "python",
   "pygments_lexer": "ipython3",
   "version": "3.8.3"
  }
 },
 "nbformat": 4,
 "nbformat_minor": 4
}
