{
 "cells": [
  {
   "cell_type": "markdown",
   "metadata": {},
   "source": [
    "# Подключение библиотек"
   ]
  },
  {
   "cell_type": "code",
   "execution_count": 7,
   "metadata": {},
   "outputs": [],
   "source": [
    "from datetime import datetime, timedelta\n",
    "import matplotlib.pyplot as plt\n",
    "import pandas as pd\n",
    "import numpy as np\n",
    "from pandas.plotting import register_matplotlib_converters\n",
    "register_matplotlib_converters()\n",
    "import MetaTrader5 as mt5\n",
    "import time\n",
    "import struct\n",
    "import os"
   ]
  },
  {
   "cell_type": "markdown",
   "metadata": {},
   "source": [
    "# Подключимся к MetaTrader 5"
   ]
  },
  {
   "cell_type": "code",
   "execution_count": 8,
   "metadata": {},
   "outputs": [],
   "source": [
    "if not mt5.initialize():\n",
    "    print(\"initialize() failed\")\n",
    "    quit()"
   ]
  },
  {
   "cell_type": "markdown",
   "metadata": {},
   "source": [
    "# Вычисления медианы, верхненего и нижнего пределов"
   ]
  },
  {
   "cell_type": "code",
   "execution_count": 9,
   "metadata": {},
   "outputs": [],
   "source": [
    "def take_rates():\n",
    "    utc_from = datetime.now() - timedelta(minutes=15)\n",
    "    gbprub_rates = mt5.copy_rates_from(\"GBPUSD\", mt5.TIMEFRAME_M15, utc_from, 15)\n",
    "    usdrub_rates = mt5.copy_rates_from(\"EURUSD\", mt5.TIMEFRAME_M15, utc_from, 15)\n",
    "    return gbprub_rates, usdrub_rates"
   ]
  },
  {
   "cell_type": "code",
   "execution_count": 10,
   "metadata": {},
   "outputs": [],
   "source": [
    "def calculation(rate1, rate2, loteuro):\n",
    "    spread = take_rates()[0]['close'] - take_rates()[1]['close'] * loteuro # Вычисляем спред\n",
    "    spread = np.array(spread)\n",
    "    spread = spread[~np.isnan(spread)]\n",
    "    median = np.median(spread)\n",
    "    Open_up = list()\n",
    "    Open_down = list()\n",
    "    Open_UP =0\n",
    "    Open_DOWN = 0\n",
    "    #Вычисляем верхнюю и нижнюю границу\n",
    "    for i in range(0,len(spread)):\n",
    "        if spread[i] > median:\n",
    "            Open_up.append(spread[i])\n",
    "        if spread[i] < median:\n",
    "            Open_down.append(spread[i])\n",
    "    Open_UP =np.median(Open_up)\n",
    "    Open_DOWN = np.median(Open_down)\n",
    "    return Open_UP, Open_DOWN, median"
   ]
  },
  {
   "cell_type": "markdown",
   "metadata": {},
   "source": [
    "# Подготавливаем все запросы\n",
    "## Нам нужно 8 запросов: 4 для открытия позиции, 4 для закрытия позиции."
   ]
  },
  {
   "cell_type": "code",
   "execution_count": 12,
   "metadata": {},
   "outputs": [],
   "source": [
    "symbol_gbp = \"GBPUSD\"\n",
    "symbol_euro = \"EURUSD\"\n",
    "symbol_gbp_info =mt5.symbol_info(symbol_gbp)\n",
    "symbol_euro_info =mt5.symbol_info(symbol_euro)\n",
    "lotgbp = 1.0\n",
    "loteuro = round(1.0 * symbol_gbp_info.session_close / symbol_euro_info.session_close, 1)\n",
    "point_gbp = mt5.symbol_info(symbol_gbp).point\n",
    "point_euro = mt5.symbol_info(symbol_euro).point\n",
    "deviation = 1\n",
    "\n",
    "# #Краткое описание каждого аргумента\n",
    "\n",
    "# \"action\": mt5.TRADE_ACTION_DEAL,      # Совершить сделку прямо сейчас\n",
    "\n",
    "# \"symbol\": symbol_gbp,                # Валюта сделки\n",
    "\n",
    "# \"volume\": lot,                        # Объем который мы покупаем: У нас равен 1\n",
    "\n",
    "# \"type\": mt5.ORDER_TYPE_SELL,          # Покупаем или продаём\n",
    "\n",
    "# \"deviation\": deviation,               # Максимальное отклонение от заданной цены\n",
    "\n",
    "# \"magic\": 123456,                      # Идентификатор эксперта. \n",
    "#                                       #Позволяет организовать аналитическую обработку торговых ордеров.    \n",
    "\n",
    "# \"comment\": \"Какой либо комментарий\",  # Комменатрий к запросу\n",
    "\n",
    "# \"type_time\": mt5.ORDER_TIME_GTC,      # Тип ордера по истечению: У нас Ордер будет находиться \n",
    "#                                       # в очереди до тех пор, пока не будет снят\n",
    "\n",
    "# \"type_filling\": mt5.ORDER_FILLING_FOK,# Не будет продажи, если нет необходимого обьема \n",
    "    \n",
    "    \n",
    "request_gbp_sell_open = {\n",
    "\"action\": mt5.TRADE_ACTION_DEAL,\n",
    "\"symbol\": symbol_gbp,\n",
    "\"volume\": lotgbp, \n",
    "\"type\": mt5.ORDER_TYPE_SELL,\n",
    "\"deviation\": deviation,\n",
    "\"magic\": 123456,\n",
    "\"comment\": \"Открыли позицию, купили евро\",\n",
    "\"type_time\": mt5.ORDER_TIME_GTC,\n",
    "\"type_filling\": mt5.ORDER_FILLING_FOK,\n",
    "    \n",
    "\n",
    "}\n",
    "request_euro_buy_open = {\n",
    "\"action\": mt5.TRADE_ACTION_DEAL,\n",
    "\"symbol\": symbol_euro,\n",
    "\"volume\": loteuro,\n",
    "\"type\": mt5.ORDER_TYPE_BUY,\n",
    "\"deviation\": deviation,\n",
    "\"magic\": 123456,\n",
    "\"comment\": \"Открыли позицию, продали фунт\",\n",
    "\"type_time\": mt5.ORDER_TIME_GTC,\n",
    "\"type_filling\": mt5.ORDER_FILLING_FOK,      \n",
    "}\n",
    "\n",
    "request_gbp_buy_open = {\n",
    "\"action\": mt5.TRADE_ACTION_DEAL,\n",
    "\"symbol\": symbol_gbp,\n",
    "\"volume\": lotgbp,\n",
    "\"type\": mt5.ORDER_TYPE_BUY, \n",
    "\"deviation\": deviation,\n",
    "\"magic\": 123456,\n",
    "\"comment\": \"Открыли позицию, купили евро\",\n",
    "\"type_time\": mt5.ORDER_TIME_GTC,\n",
    "\"type_filling\": mt5.ORDER_FILLING_FOK,  \n",
    "}\n",
    "\n",
    "request_euro_sell_open = {\n",
    "\"action\": mt5.TRADE_ACTION_DEAL,\n",
    "\"symbol\": symbol_euro,\n",
    "\"volume\": loteuro,\n",
    "\"type\": mt5.ORDER_TYPE_SELL, \n",
    "\"deviation\": deviation,\n",
    "\"magic\": 123456,\n",
    "\"comment\": \"Открыли позицию, продали фунт\",\n",
    "\"type_time\": mt5.ORDER_TIME_GTC,\n",
    "\"type_filling\": mt5.ORDER_FILLING_FOK,      \n",
    "}\n",
    "\n",
    "# В запросах для закрытия позиции есть ещё один аргумент\n",
    "\n",
    "#\"position\": order_gbp_sell.order,                     # Указывает какую позицию мы закрывем\n",
    "\n",
    "\n",
    "# Чтобы запросы закрытия позции знали, что закрыват откроем предыдущие позции\n",
    "# !!!!!!!!!!!!!!!!!!!!!!!!!!!!!!!!!!!!!!!!!!!!!!!!!!!!!!!!!!!!!!!!!\n",
    "order_gbp_buy_open = mt5.order_send(request_gbp_buy_open)\n",
    "order_gbp_sell_open = mt5.order_send(request_gbp_sell_open)\n",
    "order_euro_buy_open = mt5.order_send(request_euro_buy_open)\n",
    "order_euro_sell_open = mt5.order_send(request_euro_sell_open)\n",
    "# !!!!!!!!!!!!!!!!!!!!!!!!!!!!!!!!!!!!!!!!!!!!!!!!!!!!!!!!!!!!!!!!!\n",
    "\n",
    "request_gbp_buy_close = { \n",
    "\"action\": mt5.TRADE_ACTION_DEAL, \n",
    "\"symbol\": symbol_gbp, \n",
    "\"volume\": lotgbp, \n",
    "\"type\": mt5.ORDER_TYPE_BUY,\n",
    "\"position\": order_gbp_sell_open.order,\n",
    "\"deviation\": deviation, \n",
    "\"magic\": 123456, \n",
    "\"comment\": \"купили евро\", \n",
    "\"type_time\": mt5.ORDER_TIME_GTC, \n",
    "\"type_filling\": mt5.ORDER_FILLING_FOK, \n",
    "}\n",
    "request_euro_sell_close = {\n",
    "\"action\": mt5.TRADE_ACTION_DEAL,\n",
    "\"symbol\": symbol_euro,\n",
    "\"volume\": loteuro,\n",
    "\"type\": mt5.ORDER_TYPE_SELL,\n",
    "\"position\": order_euro_buy_open.order,\n",
    "\"deviation\": deviation,\n",
    "\"magic\": 123456,\n",
    "\"comment\": \"продажа фунта\",\n",
    "\"type_time\": mt5.ORDER_TIME_GTC,\n",
    "\"type_filling\": mt5.ORDER_FILLING_FOK,   \n",
    "}\n",
    "request_gbp_sell_close = { \n",
    "\"action\": mt5.TRADE_ACTION_DEAL, \n",
    "\"symbol\": symbol_gbp, \n",
    "\"volume\": lotgbp, \n",
    "\"type\": mt5.ORDER_TYPE_SELL,\n",
    "\"position\": order_gbp_buy_open.order,\n",
    "\"deviation\": deviation, \n",
    "\"magic\": 123456, \n",
    "\"comment\": \"купили евро\", \n",
    "\"type_time\": mt5.ORDER_TIME_GTC, \n",
    "\"type_filling\": mt5.ORDER_FILLING_FOK, \n",
    "}\n",
    "request_euro_buy_close = {\n",
    "\"action\": mt5.TRADE_ACTION_DEAL,\n",
    "\"symbol\": symbol_euro,\n",
    "\"volume\": loteuro,\n",
    "\"type\": mt5.ORDER_TYPE_BUY,\n",
    "\"position\": order_euro_sell_open.order,\n",
    "\"deviation\": deviation,\n",
    "\"magic\": 123456,\n",
    "\"comment\": \"продажа фунта\",\n",
    "\"type_time\": mt5.ORDER_TIME_GTC,\n",
    "\"type_filling\": mt5.ORDER_FILLING_FOK,   \n",
    "}"
   ]
  },
  {
   "cell_type": "markdown",
   "metadata": {},
   "source": [
    "# Функции для открытия и закрытия позиции"
   ]
  },
  {
   "cell_type": "code",
   "execution_count": 26,
   "metadata": {},
   "outputs": [],
   "source": [
    "def request_open_up_pos(): \n",
    "    result = mt5.order_send(request_gbp_sell_open) \n",
    "    result2 = mt5.order_send(request_euro_buy_open)\n",
    "    print('Открыл сверху')"
   ]
  },
  {
   "cell_type": "code",
   "execution_count": 27,
   "metadata": {},
   "outputs": [],
   "source": [
    "def request_open_down_pos(): \n",
    "    result =mt5.order_send(request_gbp_buy_open) \n",
    "    result2 = mt5.order_send(request_euro_sell_open)\n",
    "    print('Открыл снизу')"
   ]
  },
  {
   "cell_type": "code",
   "execution_count": 28,
   "metadata": {},
   "outputs": [],
   "source": [
    "def request_close_up_pos():\n",
    "    result = mt5.order_send(request_gbp_buy_close) \n",
    "    result2 = mt5.order_send(request_euro_sell_close)\n",
    "    print('Закрыл сверху')"
   ]
  },
  {
   "cell_type": "code",
   "execution_count": 29,
   "metadata": {},
   "outputs": [],
   "source": [
    "def request_close_down_pos():\n",
    "    result = mt5.order_send(request_gbp_sell_close) \n",
    "    result2 = mt5.order_send(request_euro_buy_close)\n",
    "    print('Закрыл снизу')"
   ]
  },
  {
   "cell_type": "markdown",
   "metadata": {},
   "source": [
    "# Бесконечный цикл 1:\n",
    "## Отрывает позицию в большом объеме и закрывает её как достигнет условие(Условие: тики раз в 10 мин за последний год)"
   ]
  },
  {
   "cell_type": "code",
   "execution_count": 31,
   "metadata": {},
   "outputs": [
    {
     "name": "stdout",
     "output_type": "stream",
     "text": [
      "Открыл снизу\n"
     ]
    },
    {
     "ename": "KeyboardInterrupt",
     "evalue": "",
     "output_type": "error",
     "traceback": [
      "\u001b[1;31m---------------------------------------------------------------------------\u001b[0m",
      "\u001b[1;31mKeyboardInterrupt\u001b[0m                         Traceback (most recent call last)",
      "\u001b[1;32m<ipython-input-31-ea4ba637d41c>\u001b[0m in \u001b[0;36m<module>\u001b[1;34m\u001b[0m\n\u001b[0;32m     27\u001b[0m         \u001b[0mprint\u001b[0m\u001b[1;33m(\u001b[0m\u001b[0mOpen_Up\u001b[0m\u001b[1;33m,\u001b[0m \u001b[0mOpen_Down\u001b[0m\u001b[1;33m,\u001b[0m \u001b[0mClose\u001b[0m\u001b[1;33m)\u001b[0m\u001b[1;33m\u001b[0m\u001b[1;33m\u001b[0m\u001b[0m\n\u001b[0;32m     28\u001b[0m         \u001b[0mtime\u001b[0m\u001b[1;33m.\u001b[0m\u001b[0msleep\u001b[0m\u001b[1;33m(\u001b[0m\u001b[1;36m1\u001b[0m\u001b[1;33m)\u001b[0m\u001b[1;33m\u001b[0m\u001b[1;33m\u001b[0m\u001b[0m\n\u001b[1;32m---> 29\u001b[1;33m     \u001b[0mlast_tick_EURUSD\u001b[0m \u001b[1;33m=\u001b[0m \u001b[0mmt5\u001b[0m\u001b[1;33m.\u001b[0m\u001b[0mcopy_rates_from\u001b[0m\u001b[1;33m(\u001b[0m\u001b[1;34m\"EURUSD\"\u001b[0m\u001b[1;33m,\u001b[0m \u001b[0mmt5\u001b[0m\u001b[1;33m.\u001b[0m\u001b[0mTIMEFRAME_M1\u001b[0m\u001b[1;33m,\u001b[0m \u001b[0mdatetime\u001b[0m\u001b[1;33m.\u001b[0m\u001b[0mnow\u001b[0m\u001b[1;33m(\u001b[0m\u001b[1;33m)\u001b[0m \u001b[1;33m-\u001b[0m \u001b[0mtimedelta\u001b[0m\u001b[1;33m(\u001b[0m\u001b[0mminutes\u001b[0m\u001b[1;33m=\u001b[0m\u001b[1;36m1\u001b[0m\u001b[1;33m)\u001b[0m\u001b[1;33m,\u001b[0m \u001b[1;36m1\u001b[0m\u001b[1;33m)\u001b[0m\u001b[1;33m[\u001b[0m\u001b[1;34m'close'\u001b[0m\u001b[1;33m]\u001b[0m\u001b[1;33m[\u001b[0m\u001b[1;36m0\u001b[0m\u001b[1;33m]\u001b[0m\u001b[1;33m\u001b[0m\u001b[1;33m\u001b[0m\u001b[0m\n\u001b[0m\u001b[0;32m     30\u001b[0m     \u001b[0mlast_tick_GBPUSD\u001b[0m \u001b[1;33m=\u001b[0m \u001b[0mmt5\u001b[0m\u001b[1;33m.\u001b[0m\u001b[0mcopy_rates_from\u001b[0m\u001b[1;33m(\u001b[0m\u001b[1;34m\"GBPUSD\"\u001b[0m\u001b[1;33m,\u001b[0m \u001b[0mmt5\u001b[0m\u001b[1;33m.\u001b[0m\u001b[0mTIMEFRAME_M1\u001b[0m\u001b[1;33m,\u001b[0m \u001b[0mdatetime\u001b[0m\u001b[1;33m.\u001b[0m\u001b[0mnow\u001b[0m\u001b[1;33m(\u001b[0m\u001b[1;33m)\u001b[0m \u001b[1;33m-\u001b[0m \u001b[0mtimedelta\u001b[0m\u001b[1;33m(\u001b[0m\u001b[0mminutes\u001b[0m\u001b[1;33m=\u001b[0m\u001b[1;36m1\u001b[0m\u001b[1;33m)\u001b[0m\u001b[1;33m,\u001b[0m \u001b[1;36m1\u001b[0m\u001b[1;33m)\u001b[0m\u001b[1;33m[\u001b[0m\u001b[1;34m'close'\u001b[0m\u001b[1;33m]\u001b[0m\u001b[1;33m[\u001b[0m\u001b[1;36m0\u001b[0m\u001b[1;33m]\u001b[0m\u001b[1;33m\u001b[0m\u001b[1;33m\u001b[0m\u001b[0m\n\u001b[0;32m     31\u001b[0m     \u001b[0mlast_spread\u001b[0m \u001b[1;33m=\u001b[0m \u001b[0mlast_tick_GBPUSD\u001b[0m \u001b[1;33m-\u001b[0m \u001b[0mlast_tick_EURUSD\u001b[0m \u001b[1;33m*\u001b[0m \u001b[0mloteuro\u001b[0m\u001b[1;33m\u001b[0m\u001b[1;33m\u001b[0m\u001b[0m\n",
      "\u001b[1;31mKeyboardInterrupt\u001b[0m: "
     ]
    }
   ],
   "source": [
    "#Достаём значения для открытия и закрытия позиции\n",
    "values = calculation(take_rates()[0]['close'], take_rates()[1]['close'], loteuro)\n",
    "Open_Up = values[0]\n",
    "Open_Down = values[1]\n",
    "Close = values[2]\n",
    "#Некоторые переменные для подсчитывания открытых позиции и прибыли\n",
    "Pos_Up = False\n",
    "Pos_Down = False\n",
    "quantity_open = 0\n",
    "quantity_close = 0\n",
    "balance_old = mt5.account_info().balance\n",
    "while(True):\n",
    "    if datetime.now().minute % 15 == 0 and datetime.now().second == 0:\n",
    "        file_obj = open('QuantityOpenClose.txt', 'a')\n",
    "        Quant_op = 'Quantity open: ' + str(quantity_open)+'\\n'\n",
    "        Quant_cl = 'Quantity close: ' + str(quantity_close)+'\\n'\n",
    "        Money = str(mt5.account_info().balance - balance_old) + '\\n'\n",
    "        balance_old = mt5.account_info().balance\n",
    "        file_obj.write(Quant_op)\n",
    "        file_obj.write(Quant_cl)\n",
    "        file_obj.write(Money)\n",
    "        file_obj.close()\n",
    "        values = calculation(take_rates()[0]['close'], take_rates()[1]['close'], loteuro)\n",
    "        Open_Up = values[0]\n",
    "        Open_Down = values[1]\n",
    "        Close = values[2]\n",
    "        print(Open_Up, Open_Down, Close)\n",
    "        time.sleep(1)\n",
    "    last_tick_EURUSD = mt5.copy_rates_from(\"EURUSD\", mt5.TIMEFRAME_M1, datetime.now() - timedelta(minutes=1), 1)['close'][0]\n",
    "    last_tick_GBPUSD = mt5.copy_rates_from(\"GBPUSD\", mt5.TIMEFRAME_M1, datetime.now() - timedelta(minutes=1), 1)['close'][0]\n",
    "    last_spread = last_tick_GBPUSD - last_tick_EURUSD * loteuro\n",
    "    if last_spread > Open_Up and Pos_Up == False:\n",
    "        Pos_Up = True\n",
    "        quantity_open += 1\n",
    "        request_open_up_pos()        \n",
    "    if last_spread < Open_Down and Pos_Down == False:\n",
    "        Pos_Down = True\n",
    "        quantity_open += 1\n",
    "        request_open_down_pos()\n",
    "        \n",
    "    if last_spread <= Close and Pos_Up == True:\n",
    "        Pos_Up = False\n",
    "        quantity_close += 1\n",
    "        request_close_up_pos()\n",
    "        \n",
    "    if last_spread >= Close and Pos_Down == True:\n",
    "        Pos_Down = False\n",
    "        quantity_close += 1\n",
    "        request_close_down_pos()"
   ]
  },
  {
   "cell_type": "code",
   "execution_count": 108,
   "metadata": {},
   "outputs": [
    {
     "data": {
      "text/plain": [
       "True"
      ]
     },
     "execution_count": 108,
     "metadata": {},
     "output_type": "execute_result"
    }
   ],
   "source": [
    "mt5.shutdown()"
   ]
  },
  {
   "cell_type": "markdown",
   "metadata": {},
   "source": [
    "#  Далее черновой код не использующийся в основной программе"
   ]
  }
 ],
 "metadata": {
  "kernelspec": {
   "display_name": "Python 3",
   "language": "python",
   "name": "python3"
  },
  "language_info": {
   "codemirror_mode": {
    "name": "ipython",
    "version": 3
   },
   "file_extension": ".py",
   "mimetype": "text/x-python",
   "name": "python",
   "nbconvert_exporter": "python",
   "pygments_lexer": "ipython3",
   "version": "3.8.3"
  }
 },
 "nbformat": 4,
 "nbformat_minor": 4
}
