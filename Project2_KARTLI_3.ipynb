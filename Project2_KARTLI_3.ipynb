{
 "cells": [
  {
   "cell_type": "markdown",
   "metadata": {},
   "source": [
    "# Подключение библиотек"
   ]
  },
  {
   "cell_type": "code",
   "execution_count": 1,
   "metadata": {},
   "outputs": [],
   "source": [
    "from datetime import datetime, timedelta\n",
    "import matplotlib.pyplot as plt\n",
    "import pandas as pd\n",
    "import numpy as np\n",
    "from pandas.plotting import register_matplotlib_converters\n",
    "register_matplotlib_converters()\n",
    "import MetaTrader5 as mt5\n",
    "import time\n",
    "import struct\n",
    "import os\n",
    "from IPython.display import clear_output"
   ]
  },
  {
   "cell_type": "markdown",
   "metadata": {},
   "source": [
    "# Подключимся к MetaTrader 5"
   ]
  },
  {
   "cell_type": "code",
   "execution_count": 2,
   "metadata": {},
   "outputs": [],
   "source": [
    "if not mt5.initialize():\n",
    "    print(\"initialize() failed\")\n",
    "    quit()"
   ]
  },
  {
   "cell_type": "markdown",
   "metadata": {},
   "source": [
    "# Вычисления медианы, верхненего и нижнего пределов"
   ]
  },
  {
   "cell_type": "code",
   "execution_count": 3,
   "metadata": {},
   "outputs": [],
   "source": [
    "def take_rates(): \n",
    "    gbpusd_rates = mt5.copy_rates_from_pos(\"PEP\", mt5.TIMEFRAME_M1, 0, 15)\n",
    "    eurusd_rates = mt5.copy_rates_from_pos(\"KO\", mt5.TIMEFRAME_M1, 0, 15)\n",
    "    return gbpusd_rates, eurusd_rates"
   ]
  },
  {
   "cell_type": "code",
   "execution_count": 4,
   "metadata": {},
   "outputs": [],
   "source": [
    "def calculation(rate1, rate2, lotko, lotpep):\n",
    "    spread = rate1 - rate2 * lotko / lotpep # Вычисляем спред\n",
    "    spread = np.array(spread)\n",
    "    median = np.median(spread)\n",
    "    Open_up = list()\n",
    "    Open_down = list()\n",
    "    Open_UP =0\n",
    "    Open_DOWN = 0\n",
    "    #Вычисляем верхнюю и нижнюю границу\n",
    "    for i in range(0,len(spread)):\n",
    "        if spread[i] > median:\n",
    "            Open_up.append(spread[i])\n",
    "        if spread[i] < median:\n",
    "            Open_down.append(spread[i])\n",
    "    Open_UP =np.median(Open_up)\n",
    "    Open_DOWN = np.median(Open_down)\n",
    "    return Open_UP, Open_DOWN, median"
   ]
  },
  {
   "cell_type": "markdown",
   "metadata": {},
   "source": [
    "# Подготавливаем все запросы\n",
    "## Нам нужно 8 запросов: 4 для открытия позиции, 4 для закрытия позиции."
   ]
  },
  {
   "cell_type": "code",
   "execution_count": 5,
   "metadata": {},
   "outputs": [],
   "source": [
    "symbol_pep = \"PEP\"\n",
    "symbol_ko = \"KO\"\n",
    "symbol_pep_info = mt5.symbol_info(symbol_pep)\n",
    "symbol_ko_info = mt5.symbol_info(symbol_ko)\n",
    "lotpep = 5.0\n",
    "lotko = 13.0\n",
    "deviation = 1\n",
    "\n",
    "# #Краткое описание каждого аргумента\n",
    "\n",
    "# \"action\": mt5.TRADE_ACTION_DEAL,      # Совершить сделку прямо сейчас\n",
    "\n",
    "# \"symbol\": symbol_pep,                # Валюта сделки\n",
    "\n",
    "# \"volume\": lot,                        # Объем который мы покупаем: У нас равен 1\n",
    "\n",
    "# \"type\": mt5.ORDER_TYPE_SELL,          # Покупаем или продаём\n",
    "\n",
    "# \"deviation\": deviation,               # Максимальное отклонение от заданной цены\n",
    "\n",
    "# \"magic\": 123456,                      # Идентификатор эксперта. \n",
    "#                                       #Позволяет организовать аналитическую обработку торговых ордеров.    \n",
    "\n",
    "# \"comment\": \"Какой либо комментарий\",  # Комменатрий к запросу\n",
    "\n",
    "# \"type_time\": mt5.ORDER_TIME_GTC,      # Тип ордера по истечению: У нас Ордер будет находиться \n",
    "#                                       # в очереди до тех пор, пока не будет снят\n",
    "\n",
    "# \"type_filling\": mt5.ORDER_FILLING_FOK,# Не будет продажи, если нет необходимого обьема \n",
    "    \n",
    "    \n",
    "request_pep_sell_open = {\n",
    "\"action\": mt5.TRADE_ACTION_DEAL,\n",
    "\"symbol\": symbol_pep,\n",
    "\"volume\": lotpep, \n",
    "\"type\": mt5.ORDER_TYPE_SELL,\n",
    "\"deviation\": deviation,\n",
    "\"magic\": 123456,\n",
    "\"comment\": \"Открыли позицию, продали фунт\",\n",
    "\"type_time\": mt5.ORDER_TIME_GTC,\n",
    "\"type_filling\": mt5.ORDER_FILLING_FOK,\n",
    "    \n",
    "\n",
    "}\n",
    "request_ko_buy_open = {\n",
    "\"action\": mt5.TRADE_ACTION_DEAL,\n",
    "\"symbol\": symbol_ko,\n",
    "\"volume\": lotko,\n",
    "\"type\": mt5.ORDER_TYPE_BUY,\n",
    "\"deviation\": deviation,\n",
    "\"magic\": 123456,\n",
    "\"comment\": \"Открыли позицию, купили евро\",\n",
    "\"type_time\": mt5.ORDER_TIME_GTC,\n",
    "\"type_filling\": mt5.ORDER_FILLING_FOK,      \n",
    "}\n",
    "\n",
    "request_pep_buy_open = {\n",
    "\"action\": mt5.TRADE_ACTION_DEAL,\n",
    "\"symbol\": symbol_pep,\n",
    "\"volume\": lotpep,\n",
    "\"type\": mt5.ORDER_TYPE_BUY, \n",
    "\"deviation\": deviation,\n",
    "\"magic\": 123456,\n",
    "\"comment\": \"Открыли позицию, купили фунт\",\n",
    "\"type_time\": mt5.ORDER_TIME_GTC,\n",
    "\"type_filling\": mt5.ORDER_FILLING_FOK,  \n",
    "}\n",
    "\n",
    "request_ko_sell_open = {\n",
    "\"action\": mt5.TRADE_ACTION_DEAL,\n",
    "\"symbol\": symbol_ko,\n",
    "\"volume\": lotko,\n",
    "\"type\": mt5.ORDER_TYPE_SELL, \n",
    "\"deviation\": deviation,\n",
    "\"magic\": 123456,\n",
    "\"comment\": \"Открыли позицию, продали евро\",\n",
    "\"type_time\": mt5.ORDER_TIME_GTC,\n",
    "\"type_filling\": mt5.ORDER_FILLING_FOK,      \n",
    "}\n",
    "\n",
    "# В запросах для закрытия позиции есть ещё один аргумент\n",
    "\n",
    "#\"position\": order_pep_sell.order,                     # Указывает какую позицию мы закрывем\n",
    "\n",
    "\n",
    "# Чтобы запросы закрытия позции знали, что закрыват откроем предыдущие позции\n",
    "# !!!!!!!!!!!!!!!!!!!!!!!!!!!!!!!!!!!!!!!!!!!!!!!!!!!!!!!!!!!!!!!!!\n",
    "order_pep_buy_open = mt5.order_send(request_pep_buy_open)\n",
    "order_pep_sell_open = mt5.order_send(request_pep_sell_open)\n",
    "order_ko_buy_open = mt5.order_send(request_ko_buy_open)\n",
    "order_ko_sell_open = mt5.order_send(request_ko_sell_open)\n",
    "# !!!!!!!!!!!!!!!!!!!!!!!!!!!!!!!!!!!!!!!!!!!!!!!!!!!!!!!!!!!!!!!!!\n",
    "\n",
    "request_pep_buy_close = { \n",
    "\"action\": mt5.TRADE_ACTION_DEAL, \n",
    "\"symbol\": symbol_pep, \n",
    "\"volume\": lotpep, \n",
    "\"type\": mt5.ORDER_TYPE_BUY,\n",
    "\"position\": order_pep_sell_open.order,\n",
    "\"deviation\": deviation, \n",
    "\"magic\": 123456, \n",
    "\"comment\": \"Закрыли позицию, купили фунт\", \n",
    "\"type_time\": mt5.ORDER_TIME_GTC, \n",
    "\"type_filling\": mt5.ORDER_FILLING_FOK, \n",
    "}\n",
    "request_ko_sell_close = {\n",
    "\"action\": mt5.TRADE_ACTION_DEAL,\n",
    "\"symbol\": symbol_ko,\n",
    "\"volume\": lotko,\n",
    "\"type\": mt5.ORDER_TYPE_SELL,\n",
    "\"position\": order_ko_buy_open.order,\n",
    "\"deviation\": deviation,\n",
    "\"magic\": 123456,\n",
    "\"comment\": \"Закрыли позицию, продали евро\",\n",
    "\"type_time\": mt5.ORDER_TIME_GTC,\n",
    "\"type_filling\": mt5.ORDER_FILLING_FOK,   \n",
    "}\n",
    "request_pep_sell_close = { \n",
    "\"action\": mt5.TRADE_ACTION_DEAL, \n",
    "\"symbol\": symbol_pep, \n",
    "\"volume\": lotpep, \n",
    "\"type\": mt5.ORDER_TYPE_SELL,\n",
    "\"position\": order_pep_buy_open.order,\n",
    "\"deviation\": deviation, \n",
    "\"magic\": 123456, \n",
    "\"comment\": \"Закрыли позицю, продали фунт\", \n",
    "\"type_time\": mt5.ORDER_TIME_GTC, \n",
    "\"type_filling\": mt5.ORDER_FILLING_FOK, \n",
    "}\n",
    "request_ko_buy_close = {\n",
    "\"action\": mt5.TRADE_ACTION_DEAL,\n",
    "\"symbol\": symbol_ko,\n",
    "\"volume\": lotko,\n",
    "\"type\": mt5.ORDER_TYPE_BUY,\n",
    "\"position\": order_ko_sell_open.order,\n",
    "\"deviation\": deviation,\n",
    "\"magic\": 123456,\n",
    "\"comment\": \"Закрыли позцию, купили евро\",\n",
    "\"type_time\": mt5.ORDER_TIME_GTC,\n",
    "\"type_filling\": mt5.ORDER_FILLING_FOK,   \n",
    "}"
   ]
  },
  {
   "cell_type": "markdown",
   "metadata": {},
   "source": [
    "# Функции для открытия и закрытия позиции"
   ]
  },
  {
   "cell_type": "code",
   "execution_count": 6,
   "metadata": {},
   "outputs": [],
   "source": [
    "def request_open_up_pos(): \n",
    "    result = mt5.order_send(request_pep_sell_open) \n",
    "    result2 = mt5.order_send(request_ko_buy_open)\n",
    "    print('Открыл сверху')\n",
    "#     print(result)\n",
    "#     print(result2)"
   ]
  },
  {
   "cell_type": "code",
   "execution_count": 7,
   "metadata": {},
   "outputs": [],
   "source": [
    "def request_open_down_pos(): \n",
    "    result =mt5.order_send(request_pep_buy_open) \n",
    "    result2 = mt5.order_send(request_ko_sell_open)\n",
    "    print('Открыл снизу')"
   ]
  },
  {
   "cell_type": "code",
   "execution_count": 8,
   "metadata": {},
   "outputs": [],
   "source": [
    "def request_close_up_pos():\n",
    "    result = mt5.order_send(request_pep_buy_close) \n",
    "    result2 = mt5.order_send(request_ko_sell_close)\n",
    "    print('Закрыл сверху')\n",
    "#     print(result)\n",
    "#     print(result2)"
   ]
  },
  {
   "cell_type": "code",
   "execution_count": 9,
   "metadata": {},
   "outputs": [],
   "source": [
    "def request_close_down_pos():\n",
    "    result = mt5.order_send(request_pep_sell_close) \n",
    "    result2 = mt5.order_send(request_ko_buy_close)\n",
    "    print('Закрыл снизу')"
   ]
  },
  {
   "cell_type": "markdown",
   "metadata": {},
   "source": [
    "# Бесконечный цикл 1:\n",
    "## Отрывает позицию в большом объеме и закрывает её как достигнет условие(Условие: тики раз в 1 минуту за последние 20 минут)"
   ]
  },
  {
   "cell_type": "code",
   "execution_count": 10,
   "metadata": {},
   "outputs": [
    {
     "name": "stdout",
     "output_type": "stream",
     "text": [
      "4.312000000000012 4.244 4.255999999999972 4.283999999999992 4.249999999999986\n",
      "Открыл сверху\n",
      "4.349999999999994\n",
      "Закрыл сверху\n",
      "Закрыл из за того что вышло время\n",
      "4.312000000000012 4.244 4.255999999999972 4.283999999999992 4.249999999999986\n",
      "Открыл сверху\n",
      "4.349999999999994\n",
      "Закрыл сверху\n",
      "Закрыл из за того что вышло время\n",
      "4.312000000000012 4.244 4.255999999999972 4.283999999999992 4.249999999999986\n",
      "Открыл сверху\n",
      "4.349999999999994\n"
     ]
    },
    {
     "ename": "KeyboardInterrupt",
     "evalue": "",
     "output_type": "error",
     "traceback": [
      "\u001b[1;31m---------------------------------------------------------------------------\u001b[0m",
      "\u001b[1;31mKeyboardInterrupt\u001b[0m                         Traceback (most recent call last)",
      "\u001b[1;32m<ipython-input-10-4373997c205d>\u001b[0m in \u001b[0;36m<module>\u001b[1;34m\u001b[0m\n\u001b[0;32m     29\u001b[0m \u001b[1;31m#     last_tick_PEP_bid = mt5.symbol_info_tick(\"PEP\").bid\u001b[0m\u001b[1;33m\u001b[0m\u001b[1;33m\u001b[0m\u001b[1;33m\u001b[0m\u001b[0m\n\u001b[0;32m     30\u001b[0m     \u001b[0mlast_tick_KO_last\u001b[0m \u001b[1;33m=\u001b[0m \u001b[0mmt5\u001b[0m\u001b[1;33m.\u001b[0m\u001b[0msymbol_info_tick\u001b[0m\u001b[1;33m(\u001b[0m\u001b[1;34m\"KO\"\u001b[0m\u001b[1;33m)\u001b[0m\u001b[1;33m.\u001b[0m\u001b[0mlast\u001b[0m\u001b[1;33m\u001b[0m\u001b[1;33m\u001b[0m\u001b[0m\n\u001b[1;32m---> 31\u001b[1;33m     \u001b[0mlast_tick_PEP_last\u001b[0m \u001b[1;33m=\u001b[0m \u001b[0mmt5\u001b[0m\u001b[1;33m.\u001b[0m\u001b[0msymbol_info_tick\u001b[0m\u001b[1;33m(\u001b[0m\u001b[1;34m\"PEP\"\u001b[0m\u001b[1;33m)\u001b[0m\u001b[1;33m.\u001b[0m\u001b[0mlast\u001b[0m\u001b[1;33m\u001b[0m\u001b[1;33m\u001b[0m\u001b[0m\n\u001b[0m\u001b[0;32m     32\u001b[0m \u001b[1;33m\u001b[0m\u001b[0m\n\u001b[0;32m     33\u001b[0m \u001b[1;31m#     last_spread_up = last_tick_PEP_bid - last_tick_KO_ask * lotko / lotpep\u001b[0m\u001b[1;33m\u001b[0m\u001b[1;33m\u001b[0m\u001b[1;33m\u001b[0m\u001b[0m\n",
      "\u001b[1;31mKeyboardInterrupt\u001b[0m: "
     ]
    }
   ],
   "source": [
    "#Достаём значения для открытия и закрытия позиции\n",
    "values = calculation(take_rates()[0]['close'], take_rates()[1]['close'], lotko, lotpep)\n",
    "Open_Up = values[0]\n",
    "Open_Down = values[1]\n",
    "Close = values[2]\n",
    "#Некоторые переменные для подсчитывания открытых позиции и прибыли\n",
    "Pos_Up = False\n",
    "Pos_Down = False\n",
    "print(Open_Up, Open_Down, Close, Close + (Open_Up - Close) / 2, Close - (Close - Open_Down) / 2)\n",
    "while(True):\n",
    "    if datetime.now().minute % 15 == 0 and datetime.now().second == 0:\n",
    "        if Pos_Up == True:\n",
    "            Pos_Up = False\n",
    "            request_close_up_pos()\n",
    "            print('Закрыл из за того что вышло время')\n",
    "        if Pos_Down == True:\n",
    "            Pos_Down = False\n",
    "            request_close_down_pos()\n",
    "            print('Закрыл из за того что вышло время')\n",
    "        values = calculation(take_rates()[0]['close'], take_rates()[1]['close'], lotko, lotpep)\n",
    "        Open_Up = values[0]\n",
    "        Open_Down = values[1]\n",
    "        Close = values[2]\n",
    "        print(Open_Up, Open_Down, Close, Close + (Open_Up - Close) / 2, Close - (Close - Open_Down) / 2)\n",
    "        time.sleep(1)\n",
    "#     last_tick_KO_ask = mt5.symbol_info_tick(\"KO\").ask\n",
    "#     last_tick_PEP_ask = mt5.symbol_info_tick(\"PEP\").ask\n",
    "#     last_tick_KO_bid = mt5.symbol_info_tick(\"KO\").bid\n",
    "#     last_tick_PEP_bid = mt5.symbol_info_tick(\"PEP\").bid\n",
    "    last_tick_KO_last = mt5.symbol_info_tick(\"KO\").last\n",
    "    last_tick_PEP_last = mt5.symbol_info_tick(\"PEP\").last\n",
    "\n",
    "#     last_spread_up = last_tick_PEP_bid - last_tick_KO_ask * lotko / lotpep\n",
    "#     last_spread_down = last_tick_PEP_ask - last_tick_KO_bid * lotko / lotpep\n",
    "    last_spread2 = last_tick_PEP_last - last_tick_KO_last * lotko / lotpep\n",
    "    \n",
    "    if (last_spread2 <= (Close + (Open_Up - Close) / 2)) and Pos_Up == True:\n",
    "        Pos_Up = False\n",
    "        request_close_up_pos()\n",
    "        print(last_spread2)\n",
    "    if last_spread2 > Open_Up and Pos_Up == False:\n",
    "        Pos_Up = True\n",
    "        request_open_up_pos()\n",
    "        print(last_spread2)\n",
    "    if (last_spread2 >= (Close - (Close - Open_Down) / 2)) and Pos_Down == True:    \n",
    "        Pos_Down = False\n",
    "        request_close_down_pos()\n",
    "        print(last_spread2)\n",
    "    if last_spread2 < Open_Down and Pos_Down == False: \n",
    "        Pos_Down = True\n",
    "        request_open_down_pos()\n",
    "        print(last_spread2)"
   ]
  },
  {
   "cell_type": "code",
   "execution_count": 108,
   "metadata": {},
   "outputs": [
    {
     "data": {
      "text/plain": [
       "True"
      ]
     },
     "execution_count": 108,
     "metadata": {},
     "output_type": "execute_result"
    }
   ],
   "source": [
    "mt5.shutdown()"
   ]
  },
  {
   "cell_type": "markdown",
   "metadata": {},
   "source": [
    "#  Далее черновой код не использующийся в основной программе"
   ]
  }
 ],
 "metadata": {
  "kernelspec": {
   "display_name": "Python 3",
   "language": "python",
   "name": "python3"
  },
  "language_info": {
   "codemirror_mode": {
    "name": "ipython",
    "version": 3
   },
   "file_extension": ".py",
   "mimetype": "text/x-python",
   "name": "python",
   "nbconvert_exporter": "python",
   "pygments_lexer": "ipython3",
   "version": "3.8.3"
  }
 },
 "nbformat": 4,
 "nbformat_minor": 4
}
