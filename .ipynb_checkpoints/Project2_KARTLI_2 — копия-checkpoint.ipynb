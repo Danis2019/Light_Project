{
 "cells": [
  {
   "cell_type": "markdown",
   "metadata": {},
   "source": [
    "# Подключение библиотек"
   ]
  },
  {
   "cell_type": "code",
   "execution_count": 1,
   "metadata": {},
   "outputs": [],
   "source": [
    "from datetime import datetime, timedelta\n",
    "import matplotlib.pyplot as plt\n",
    "import pandas as pd\n",
    "import numpy as np\n",
    "from pandas.plotting import register_matplotlib_converters\n",
    "register_matplotlib_converters()\n",
    "import MetaTrader5 as mt5\n",
    "import time\n",
    "import struct\n",
    "import os"
   ]
  },
  {
   "cell_type": "markdown",
   "metadata": {},
   "source": [
    "# Подключимся к MetaTrader 5"
   ]
  },
  {
   "cell_type": "code",
   "execution_count": 2,
   "metadata": {},
   "outputs": [],
   "source": [
    "if not mt5.initialize():\n",
    "    print(\"initialize() failed\")\n",
    "    quit()"
   ]
  },
  {
   "cell_type": "markdown",
   "metadata": {},
   "source": [
    "# Вычисления медианы, верхненего и нижнего пределов"
   ]
  },
  {
   "cell_type": "code",
   "execution_count": null,
   "metadata": {},
   "outputs": [],
   "source": []
  },
  {
   "cell_type": "markdown",
   "metadata": {},
   "source": [
    "# Подготавливаем все запросы\n",
    "## Нам нужно 8 запросов: 4 для открытия позиции, 4 для закрытия позиции."
   ]
  },
  {
   "cell_type": "code",
   "execution_count": 5,
   "metadata": {},
   "outputs": [],
   "source": [
    "symbol_Euro = \"EURUSD\"\n",
    "symbol_aud = \"AUDUSD\"\n",
    "symbol_Euro_info =mt5.symbol_info(symbol_Euro)\n",
    "symbol_Aud_info =mt5.symbol_info(symbol_aud)\n",
    "loteuro = 1.0\n",
    "lotaud = round(1.0 * symbol_Euro_info.session_close / symbol_Aud_info.session_close, 1)\n",
    "point_euro = mt5.symbol_info(symbol_Euro).point\n",
    "point_Aud = mt5.symbol_info(symbol_aud).point\n",
    "deviation = 1\n",
    "\n",
    "# #Краткое описание каждого аргумента\n",
    "\n",
    "# \"action\": mt5.TRADE_ACTION_DEAL,      # Совершить сделку прямо сейчас\n",
    "\n",
    "# \"symbol\": symbol_Euro,                # Валюта сделки\n",
    "\n",
    "# \"volume\": lot,                        # Объем который мы покупаем: У нас равен 1\n",
    "\n",
    "# \"type\": mt5.ORDER_TYPE_SELL,          # Покупаем или продаём\n",
    "\n",
    "# \"deviation\": deviation,               # Максимальное отклонение от заданной цены\n",
    "\n",
    "# \"magic\": 123456,                      # Идентификатор эксперта. \n",
    "#                                       #Позволяет организовать аналитическую обработку торговых ордеров.    \n",
    "\n",
    "# \"comment\": \"Какой либо комментарий\",  # Комменатрий к запросу\n",
    "\n",
    "# \"type_time\": mt5.ORDER_TIME_GTC,      # Тип ордера по истечению: У нас Ордер будет находиться \n",
    "#                                       # в очереди до тех пор, пока не будет снят\n",
    "\n",
    "# \"type_filling\": mt5.ORDER_FILLING_FOK,# Не будет продажи, если нет необходимого обьема \n",
    "    \n",
    "    \n",
    "request_euro_sell_open = {\n",
    "\"action\": mt5.TRADE_ACTION_DEAL,\n",
    "\"symbol\": symbol_Euro,\n",
    "\"volume\": loteuro, \n",
    "\"type\": mt5.ORDER_TYPE_SELL,\n",
    "\"deviation\": deviation,\n",
    "\"magic\": 123456,\n",
    "\"comment\": \"Открыли позицию, купили евро\",\n",
    "\"type_time\": mt5.ORDER_TIME_GTC,\n",
    "\"type_filling\": mt5.ORDER_FILLING_FOK,\n",
    "    \n",
    "\n",
    "}\n",
    "request_aud_buy_open = {\n",
    "\"action\": mt5.TRADE_ACTION_DEAL,\n",
    "\"symbol\": symbol_aud,\n",
    "\"volume\": lotaud,\n",
    "\"type\": mt5.ORDER_TYPE_BUY,\n",
    "\"deviation\": deviation,\n",
    "\"magic\": 123456,\n",
    "\"comment\": \"Открыли позицию, продали фунт\",\n",
    "\"type_time\": mt5.ORDER_TIME_GTC,\n",
    "\"type_filling\": mt5.ORDER_FILLING_FOK,      \n",
    "}\n",
    "\n",
    "request_euro_buy_open = {\n",
    "\"action\": mt5.TRADE_ACTION_DEAL,\n",
    "\"symbol\": symbol_Euro,\n",
    "\"volume\": loteuro,\n",
    "\"type\": mt5.ORDER_TYPE_BUY, \n",
    "\"deviation\": deviation,\n",
    "\"magic\": 123456,\n",
    "\"comment\": \"Открыли позицию, купили евро\",\n",
    "\"type_time\": mt5.ORDER_TIME_GTC,\n",
    "\"type_filling\": mt5.ORDER_FILLING_FOK,  \n",
    "}\n",
    "\n",
    "request_aud_sell_open = {\n",
    "\"action\": mt5.TRADE_ACTION_DEAL,\n",
    "\"symbol\": symbol_aud,\n",
    "\"volume\": lotaud,\n",
    "\"type\": mt5.ORDER_TYPE_SELL, \n",
    "\"deviation\": deviation,\n",
    "\"magic\": 123456,\n",
    "\"comment\": \"Открыли позицию, продали фунт\",\n",
    "\"type_time\": mt5.ORDER_TIME_GTC,\n",
    "\"type_filling\": mt5.ORDER_FILLING_FOK,      \n",
    "}\n",
    "\n",
    "# В запросах для закрытия позиции есть ещё один аргумент\n",
    "\n",
    "#\"position\": order_euro_sell.order,                     # Указывает какую позицию мы закрывем\n",
    "\n",
    "\n",
    "# Чтобы запросы закрытия позции знали, что закрыват откроем предыдущие позции\n",
    "# !!!!!!!!!!!!!!!!!!!!!!!!!!!!!!!!!!!!!!!!!!!!!!!!!!!!!!!!!!!!!!!!!\n",
    "order_euro_buy_open = mt5.order_send(request_euro_buy_open)\n",
    "order_euro_sell_open = mt5.order_send(request_euro_sell_open)\n",
    "order_aud_buy_open = mt5.order_send(request_aud_buy_open)\n",
    "order_aud_sell_open = mt5.order_send(request_aud_sell_open)\n",
    "# !!!!!!!!!!!!!!!!!!!!!!!!!!!!!!!!!!!!!!!!!!!!!!!!!!!!!!!!!!!!!!!!!\n",
    "\n",
    "request_euro_buy_close = { \n",
    "\"action\": mt5.TRADE_ACTION_DEAL, \n",
    "\"symbol\": symbol_Euro, \n",
    "\"volume\": loteuro, \n",
    "\"type\": mt5.ORDER_TYPE_BUY,\n",
    "\"position\": order_euro_sell_open.order,\n",
    "\"deviation\": deviation, \n",
    "\"magic\": 123456, \n",
    "\"comment\": \"купили евро\", \n",
    "\"type_time\": mt5.ORDER_TIME_GTC, \n",
    "\"type_filling\": mt5.ORDER_FILLING_FOK, \n",
    "}\n",
    "request_aud_sell_close = {\n",
    "\"action\": mt5.TRADE_ACTION_DEAL,\n",
    "\"symbol\": symbol_aud,\n",
    "\"volume\": lotaud,\n",
    "\"type\": mt5.ORDER_TYPE_SELL,\n",
    "\"position\": order_aud_buy_open.order,\n",
    "\"deviation\": deviation,\n",
    "\"magic\": 123456,\n",
    "\"comment\": \"продажа фунта\",\n",
    "\"type_time\": mt5.ORDER_TIME_GTC,\n",
    "\"type_filling\": mt5.ORDER_FILLING_FOK,   \n",
    "}\n",
    "request_euro_sell_close = { \n",
    "\"action\": mt5.TRADE_ACTION_DEAL, \n",
    "\"symbol\": symbol_Euro, \n",
    "\"volume\": loteuro, \n",
    "\"type\": mt5.ORDER_TYPE_SELL,\n",
    "\"position\": order_euro_buy_open.order,\n",
    "\"deviation\": deviation, \n",
    "\"magic\": 123456, \n",
    "\"comment\": \"купили евро\", \n",
    "\"type_time\": mt5.ORDER_TIME_GTC, \n",
    "\"type_filling\": mt5.ORDER_FILLING_FOK, \n",
    "}\n",
    "request_aud_buy_close = {\n",
    "\"action\": mt5.TRADE_ACTION_DEAL,\n",
    "\"symbol\": symbol_aud,\n",
    "\"volume\": lotaud,\n",
    "\"type\": mt5.ORDER_TYPE_BUY,\n",
    "\"position\": order_aud_sell_open.order,\n",
    "\"deviation\": deviation,\n",
    "\"magic\": 123456,\n",
    "\"comment\": \"продажа фунта\",\n",
    "\"type_time\": mt5.ORDER_TIME_GTC,\n",
    "\"type_filling\": mt5.ORDER_FILLING_FOK,   \n",
    "}"
   ]
  },
  {
   "cell_type": "markdown",
   "metadata": {},
   "source": [
    "# Функции для открытия и закрытия позиции"
   ]
  },
  {
   "cell_type": "code",
   "execution_count": 6,
   "metadata": {},
   "outputs": [],
   "source": [
    "def request_open_up_pos(): \n",
    "    result = mt5.order_send(request_euro_sell_open) \n",
    "    result2 = mt5.order_send(request_aud_buy_open)\n",
    "    print('Открыл сверху')"
   ]
  },
  {
   "cell_type": "code",
   "execution_count": 7,
   "metadata": {},
   "outputs": [],
   "source": [
    "def request_open_down_pos(): \n",
    "    result =mt5.order_send(request_euro_buy_open) \n",
    "    result2 = mt5.order_send(request_aud_sell_open)\n",
    "    print('Открыл снизу')"
   ]
  },
  {
   "cell_type": "code",
   "execution_count": 8,
   "metadata": {},
   "outputs": [],
   "source": [
    "def request_close_up_pos():\n",
    "    result = mt5.order_send(request_euro_buy_close) \n",
    "    result2 = mt5.order_send(request_aud_sell_close)\n",
    "    print('Закрыл сверху')"
   ]
  },
  {
   "cell_type": "code",
   "execution_count": 9,
   "metadata": {},
   "outputs": [],
   "source": [
    "def request_close_down_pos():\n",
    "    result = mt5.order_send(request_euro_sell_close) \n",
    "    result2 = mt5.order_send(request_aud_buy_close)\n",
    "    print('Закрыл снизу')"
   ]
  },
  {
   "cell_type": "markdown",
   "metadata": {},
   "source": [
    "# Бесконечный цикл 1:\n",
    "## Отрывает позицию в большом объеме и закрывает её как достигнет условие(Условие: тики раз в 10 мин за последний год)"
   ]
  },
  {
   "cell_type": "code",
   "execution_count": 10,
   "metadata": {},
   "outputs": [
    {
     "name": "stdout",
     "output_type": "stream",
     "text": [
      "Открыл снизу\n"
     ]
    },
    {
     "ename": "KeyboardInterrupt",
     "evalue": "",
     "output_type": "error",
     "traceback": [
      "\u001b[1;31m---------------------------------------------------------------------------\u001b[0m",
      "\u001b[1;31mKeyboardInterrupt\u001b[0m                         Traceback (most recent call last)",
      "\u001b[1;32m<ipython-input-10-5606ad7f0eee>\u001b[0m in \u001b[0;36m<module>\u001b[1;34m\u001b[0m\n\u001b[0;32m     25\u001b[0m         \u001b[0mtime\u001b[0m\u001b[1;33m.\u001b[0m\u001b[0msleep\u001b[0m\u001b[1;33m(\u001b[0m\u001b[1;36m1\u001b[0m\u001b[1;33m)\u001b[0m\u001b[1;33m\u001b[0m\u001b[1;33m\u001b[0m\u001b[0m\n\u001b[0;32m     26\u001b[0m     \u001b[0mlast_tick_EURUSD\u001b[0m \u001b[1;33m=\u001b[0m \u001b[0mmt5\u001b[0m\u001b[1;33m.\u001b[0m\u001b[0msymbol_info\u001b[0m\u001b[1;33m(\u001b[0m\u001b[1;34m\"EURUSD\"\u001b[0m\u001b[1;33m)\u001b[0m\u001b[1;33m.\u001b[0m\u001b[0msession_close\u001b[0m\u001b[1;33m\u001b[0m\u001b[1;33m\u001b[0m\u001b[0m\n\u001b[1;32m---> 27\u001b[1;33m     \u001b[0mlast_tick_AUDUSD\u001b[0m \u001b[1;33m=\u001b[0m \u001b[0mmt5\u001b[0m\u001b[1;33m.\u001b[0m\u001b[0msymbol_info\u001b[0m\u001b[1;33m(\u001b[0m\u001b[1;34m\"AUDUSD\"\u001b[0m\u001b[1;33m)\u001b[0m\u001b[1;33m.\u001b[0m\u001b[0msession_close\u001b[0m\u001b[1;33m\u001b[0m\u001b[1;33m\u001b[0m\u001b[0m\n\u001b[0m\u001b[0;32m     28\u001b[0m     \u001b[0mlast_spread\u001b[0m \u001b[1;33m=\u001b[0m \u001b[0mlast_tick_EURUSD\u001b[0m \u001b[1;33m-\u001b[0m \u001b[0mlast_tick_AUDUSD\u001b[0m\u001b[1;33m\u001b[0m\u001b[1;33m\u001b[0m\u001b[0m\n\u001b[0;32m     29\u001b[0m     \u001b[1;32mif\u001b[0m \u001b[0mlast_spread\u001b[0m \u001b[1;33m>\u001b[0m \u001b[0mOpen_Up\u001b[0m \u001b[1;32mand\u001b[0m \u001b[0mPos_Up\u001b[0m \u001b[1;33m==\u001b[0m \u001b[1;32mFalse\u001b[0m\u001b[1;33m:\u001b[0m\u001b[1;33m\u001b[0m\u001b[1;33m\u001b[0m\u001b[0m\n",
      "\u001b[1;31mKeyboardInterrupt\u001b[0m: "
     ]
    }
   ],
   "source": [
    "#Достаём из фала значения для открытия и закрытия позиции\n",
    "file_obj = open('Open_Close_Values_AUDUSD_EURUSD.txt', 'r')\n",
    "data_list = list(file_obj)\n",
    "Open_Up = float(data_list[0])\n",
    "Open_Down = float(data_list[1])\n",
    "Close = float(data_list[2])\n",
    "file_obj.close()\n",
    "#Некоторые переменные для подсчитывания открытых позиции и прибыли\n",
    "Pos_Up = False\n",
    "Pos_Down = False\n",
    "quantity_open = 0\n",
    "quantity_close = 0\n",
    "balance_old = mt5.account_info().balance\n",
    "while(True):\n",
    "    if datetime.now().minute % 5 == 0 and datetime.now().second == 0:\n",
    "        file_obj = open('Open_Close_Values_AUDUSD_EURUSD.txt', 'a')\n",
    "        Quant_op = 'Quantity open: ' + str(quantity_open)+'\\n'\n",
    "        Quant_cl = 'Quantity close: ' + str(quantity_close)+'\\n'\n",
    "        Money = str(mt5.account_info().balance - balance_old) + '\\n'\n",
    "        balance_old = mt5.account_info().balance\n",
    "        file_obj.write(Quant_op)\n",
    "        file_obj.write(Quant_cl)\n",
    "        file_obj.write(Money)\n",
    "        file_obj.close()\n",
    "        time.sleep(1)\n",
    "    last_tick_EURUSD = mt5.symbol_info(\"EURUSD\").session_close\n",
    "    last_tick_AUDUSD = mt5.symbol_info(\"AUDUSD\").session_close\n",
    "    last_spread = last_tick_EURUSD - last_tick_AUDUSD\n",
    "    if last_spread > Open_Up and Pos_Up == False:\n",
    "        Pos_Up = True\n",
    "        quantity_open += 1\n",
    "        request_open_up_pos()\n",
    "        \n",
    "    if last_spread < Open_Down and Pos_Down == False:\n",
    "        Pos_Down = True\n",
    "        quantity_open += 1\n",
    "        request_open_down_pos()\n",
    "        \n",
    "    if last_spread <= Close and Pos_Up == True:\n",
    "        Pos_Up = False\n",
    "        quantity_close += 1\n",
    "        request_close_up_pos()\n",
    "        \n",
    "    if last_spread >= Close and Pos_Down == True:\n",
    "        Pos_Down == False\n",
    "        quantity_close += 1\n",
    "        request_close_down_pos()"
   ]
  },
  {
   "cell_type": "code",
   "execution_count": 108,
   "metadata": {},
   "outputs": [
    {
     "data": {
      "text/plain": [
       "True"
      ]
     },
     "execution_count": 108,
     "metadata": {},
     "output_type": "execute_result"
    }
   ],
   "source": [
    "mt5.shutdown()"
   ]
  },
  {
   "cell_type": "markdown",
   "metadata": {},
   "source": [
    "#  Далее черновой код не использующийся в основной программе"
   ]
  }
 ],
 "metadata": {
  "kernelspec": {
   "display_name": "Python 3",
   "language": "python",
   "name": "python3"
  },
  "language_info": {
   "codemirror_mode": {
    "name": "ipython",
    "version": 3
   },
   "file_extension": ".py",
   "mimetype": "text/x-python",
   "name": "python",
   "nbconvert_exporter": "python",
   "pygments_lexer": "ipython3",
   "version": "3.8.3"
  }
 },
 "nbformat": 4,
 "nbformat_minor": 4
}
