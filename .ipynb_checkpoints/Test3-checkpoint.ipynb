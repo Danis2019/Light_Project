{
 "cells": [
  {
   "cell_type": "code",
   "execution_count": 1,
   "metadata": {},
   "outputs": [],
   "source": [
    "from datetime import datetime, timedelta\n",
    "import matplotlib.pyplot as plt\n",
    "import pandas as pd\n",
    "import numpy as np\n",
    "from pandas.plotting import register_matplotlib_converters\n",
    "register_matplotlib_converters()\n",
    "import MetaTrader5 as mt5\n",
    "import time\n",
    "import struct\n",
    "import os\n",
    "from IPython.display import clear_output"
   ]
  },
  {
   "cell_type": "code",
   "execution_count": 2,
   "metadata": {},
   "outputs": [],
   "source": [
    "# подключимся к MetaTrader 5\n",
    "if not mt5.initialize():\n",
    "    print(\"initialize() failed\")\n",
    "    quit()"
   ]
  },
  {
   "cell_type": "code",
   "execution_count": null,
   "metadata": {},
   "outputs": [
    {
     "name": "stdout",
     "output_type": "stream",
     "text": [
      "last_spread_up  0.5800000000000125\n",
      "last_spread_down  0.6159999999999854\n"
     ]
    }
   ],
   "source": [
    "while(True):\n",
    "    last_tick_KO_ask = mt5.symbol_info_tick(\"KO\").ask\n",
    "    last_tick_PEP_ask = mt5.symbol_info_tick(\"PEP\").ask\n",
    "    last_tick_KO_bid = mt5.symbol_info_tick(\"KO\").bid\n",
    "    last_tick_PEP_bid = mt5.symbol_info_tick(\"PEP\").bid\n",
    "    \n",
    "    last_spread_up = last_tick_PEP_bid - last_tick_KO_ask * 2.6\n",
    "    last_spread_down = last_tick_PEP_ask - last_tick_KO_bid * 2.6\n",
    "\n",
    "    print(\"last_spread_up \", last_spread_up)\n",
    "    print(\"last_spread_down \", last_spread_down)\n",
    "    \n",
    "    clear_output(wait=True)"
   ]
  },
  {
   "cell_type": "code",
   "execution_count": null,
   "metadata": {},
   "outputs": [],
   "source": []
  }
 ],
 "metadata": {
  "kernelspec": {
   "display_name": "Python 3",
   "language": "python",
   "name": "python3"
  },
  "language_info": {
   "codemirror_mode": {
    "name": "ipython",
    "version": 3
   },
   "file_extension": ".py",
   "mimetype": "text/x-python",
   "name": "python",
   "nbconvert_exporter": "python",
   "pygments_lexer": "ipython3",
   "version": "3.8.3"
  }
 },
 "nbformat": 4,
 "nbformat_minor": 4
}
