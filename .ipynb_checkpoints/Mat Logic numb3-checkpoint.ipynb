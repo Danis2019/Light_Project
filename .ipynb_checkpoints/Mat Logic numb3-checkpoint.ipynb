{
 "cells": [
  {
   "cell_type": "code",
   "execution_count": 7,
   "metadata": {},
   "outputs": [],
   "source": [
    "#def funk1(a,b,c):\n",
    "    #TrueOrFalse = (a==c) or a and b and not c\n",
    "    #return TrueOrFalse"
   ]
  },
  {
   "cell_type": "code",
   "execution_count": 24,
   "metadata": {},
   "outputs": [
    {
     "name": "stdout",
     "output_type": "stream",
     "text": [
      "( a or b or c) & ( a or ! b or c) & ( ! a or b or ! c) & ( ! a or ! b or ! c) "
     ]
    }
   ],
   "source": [
    "sch = False\n",
    "for a in range(0,2):\n",
    "    for b in range(0,2):\n",
    "        for c in range(0,2):\n",
    "            if (a==c) or a and b and not c == 0:\n",
    "                if sch == True:\n",
    "                    print('&', end =\" \")\n",
    "                sch = True\n",
    "                print('(', end =\" \")\n",
    "                if a == 1:\n",
    "                    print('!', end =\" \")\n",
    "                print('a or', end =\" \")\n",
    "                if b == 1:\n",
    "                    print('!', end =\" \")\n",
    "                print('b or', end =\" \")\n",
    "                if c == 1:\n",
    "                    print('!', end =\" \")\n",
    "                print('c)', end =\" \")"
   ]
  },
  {
   "cell_type": "code",
   "execution_count": null,
   "metadata": {},
   "outputs": [],
   "source": []
  }
 ],
 "metadata": {
  "kernelspec": {
   "display_name": "Python 3",
   "language": "python",
   "name": "python3"
  },
  "language_info": {
   "codemirror_mode": {
    "name": "ipython",
    "version": 3
   },
   "file_extension": ".py",
   "mimetype": "text/x-python",
   "name": "python",
   "nbconvert_exporter": "python",
   "pygments_lexer": "ipython3",
   "version": "3.8.3"
  }
 },
 "nbformat": 4,
 "nbformat_minor": 4
}
