{
 "cells": [
  {
   "cell_type": "code",
   "execution_count": 2,
   "metadata": {},
   "outputs": [
    {
     "name": "stdout",
     "output_type": "stream",
     "text": [
      "Collecting MetaTrader5Note: you may need to restart the kernel to use updated packages.\n",
      "  Downloading MetaTrader5-5.0.33-cp38-cp38-win_amd64.whl (122 kB)\n",
      "Requirement already satisfied: numpy>=1.7 in c:\\users\\acer\\anaconda3\\lib\\site-packages (from MetaTrader5) (1.18.5)\n",
      "Installing collected packages: MetaTrader5\n",
      "Successfully installed MetaTrader5-5.0.33\n",
      "\n"
     ]
    }
   ],
   "source": [
    " pip install MetaTrader5"
   ]
  },
  {
   "cell_type": "code",
   "execution_count": 377,
   "metadata": {},
   "outputs": [],
   "source": [
    "from datetime import datetime\n",
    "import matplotlib.pyplot as plt\n",
    "import pandas as pd\n",
    "import numpy as np\n",
    "from pandas.plotting import register_matplotlib_converters\n",
    "register_matplotlib_converters()\n",
    "import MetaTrader5 as mt5"
   ]
  },
  {
   "cell_type": "code",
   "execution_count": 363,
   "metadata": {},
   "outputs": [],
   "source": [
    "# подключимся к MetaTrader 5\n",
    "if not mt5.initialize():\n",
    "    print(\"initialize() failed\")\n",
    "    mt5.shutdown()"
   ]
  },
  {
   "cell_type": "code",
   "execution_count": 364,
   "metadata": {},
   "outputs": [],
   "source": [
    "#Получим тики EURRUB и USDRUB с 13:00 25 ноября 2020 по 13:00 26 ноября 2020\n",
    "eurrub_ticks2 = mt5.copy_ticks_range(\"EURRUB\", datetime(2020,11,27), datetime(2020,11,28), mt5.COPY_TICKS_ALL)\n",
    "usdrub_ticks2 = mt5.copy_ticks_range(\"USDRUB\", datetime(2020,11,27), datetime(2020,11,28), mt5.COPY_TICKS_ALL)"
   ]
  },
  {
   "cell_type": "code",
   "execution_count": 365,
   "metadata": {},
   "outputs": [
    {
     "data": {
      "text/plain": [
       "True"
      ]
     },
     "execution_count": 365,
     "metadata": {},
     "output_type": "execute_result"
    }
   ],
   "source": [
    "# Завершим подключение\n",
    "mt5.shutdown()"
   ]
  },
  {
   "cell_type": "code",
   "execution_count": 366,
   "metadata": {},
   "outputs": [],
   "source": [
    "#Переведем имеющиеся у нас данные в DataFrame\n",
    "eurrub_ticks_frame = pd.DataFrame(eurrub_ticks2)\n",
    "usdrub_ticks_frame = pd.DataFrame(usdrub_ticks2)\n",
    "#Время в MetaTrader 5 хранится в UTC таймзоне, поэтому переведем в привычный нам вид\n",
    "eurrub_ticks_frame['time']=pd.to_datetime(eurrub_ticks_frame['time'], unit='s')\n",
    "usdrub_ticks_frame['time']=pd.to_datetime(usdrub_ticks_frame['time'], unit='s')\n",
    "\n",
    "eurrub_ticks_frame.drop('ask', axis = 1, inplace = True)\n",
    "eurrub_ticks_frame.drop('flags', axis = 1, inplace = True)\n",
    "eurrub_ticks_frame.drop('volume_real', axis = 1, inplace = True)\n",
    "eurrub_ticks_frame.drop('last', axis = 1, inplace = True)\n",
    "eurrub_ticks_frame.drop('volume', axis = 1, inplace = True)\n",
    "\n",
    "usdrub_ticks_frame.drop('bid', axis = 1, inplace = True)\n",
    "usdrub_ticks_frame.drop('flags', axis = 1, inplace = True)\n",
    "usdrub_ticks_frame.drop('volume_real', axis = 1, inplace = True)\n",
    "usdrub_ticks_frame.drop('last', axis = 1, inplace = True)\n",
    "usdrub_ticks_frame.drop('volume', axis = 1, inplace = True)\n",
    "#eurrub_ticks_frame['time_msc']=pd.to_datetime(eurrub_ticks_frame['time_msc'], unit='ms')\n",
    "#usdrub_ticks_frame['time_msc']=pd.to_datetime(usdrub_ticks_frame['time_msc'], unit='ms')"
   ]
  },
  {
   "cell_type": "code",
   "execution_count": 374,
   "metadata": {},
   "outputs": [
    {
     "data": {
      "text/html": [
       "<div>\n",
       "<style scoped>\n",
       "    .dataframe tbody tr th:only-of-type {\n",
       "        vertical-align: middle;\n",
       "    }\n",
       "\n",
       "    .dataframe tbody tr th {\n",
       "        vertical-align: top;\n",
       "    }\n",
       "\n",
       "    .dataframe thead th {\n",
       "        text-align: right;\n",
       "    }\n",
       "</style>\n",
       "<table border=\"1\" class=\"dataframe\">\n",
       "  <thead>\n",
       "    <tr style=\"text-align: right;\">\n",
       "      <th></th>\n",
       "      <th>time</th>\n",
       "      <th>bid</th>\n",
       "      <th>time_msc</th>\n",
       "    </tr>\n",
       "  </thead>\n",
       "  <tbody>\n",
       "    <tr>\n",
       "      <th>0</th>\n",
       "      <td>2020-11-26 19:00:00</td>\n",
       "      <td>90.0309</td>\n",
       "      <td>1606417200378</td>\n",
       "    </tr>\n",
       "    <tr>\n",
       "      <th>1</th>\n",
       "      <td>2020-11-26 19:00:20</td>\n",
       "      <td>90.0312</td>\n",
       "      <td>1606417220633</td>\n",
       "    </tr>\n",
       "    <tr>\n",
       "      <th>2</th>\n",
       "      <td>2020-11-26 19:00:22</td>\n",
       "      <td>90.0309</td>\n",
       "      <td>1606417222090</td>\n",
       "    </tr>\n",
       "    <tr>\n",
       "      <th>3</th>\n",
       "      <td>2020-11-26 19:00:31</td>\n",
       "      <td>90.0307</td>\n",
       "      <td>1606417231013</td>\n",
       "    </tr>\n",
       "    <tr>\n",
       "      <th>4</th>\n",
       "      <td>2020-11-26 19:00:32</td>\n",
       "      <td>90.0314</td>\n",
       "      <td>1606417232210</td>\n",
       "    </tr>\n",
       "    <tr>\n",
       "      <th>...</th>\n",
       "      <td>...</td>\n",
       "      <td>...</td>\n",
       "      <td>...</td>\n",
       "    </tr>\n",
       "    <tr>\n",
       "      <th>48949</th>\n",
       "      <td>2020-11-27 18:59:56</td>\n",
       "      <td>90.7251</td>\n",
       "      <td>1606503596551</td>\n",
       "    </tr>\n",
       "    <tr>\n",
       "      <th>48950</th>\n",
       "      <td>2020-11-27 18:59:57</td>\n",
       "      <td>90.7262</td>\n",
       "      <td>1606503597226</td>\n",
       "    </tr>\n",
       "    <tr>\n",
       "      <th>48951</th>\n",
       "      <td>2020-11-27 18:59:57</td>\n",
       "      <td>90.7265</td>\n",
       "      <td>1606503597548</td>\n",
       "    </tr>\n",
       "    <tr>\n",
       "      <th>48952</th>\n",
       "      <td>2020-11-27 18:59:58</td>\n",
       "      <td>90.7267</td>\n",
       "      <td>1606503598437</td>\n",
       "    </tr>\n",
       "    <tr>\n",
       "      <th>48953</th>\n",
       "      <td>2020-11-27 18:59:59</td>\n",
       "      <td>90.7260</td>\n",
       "      <td>1606503599853</td>\n",
       "    </tr>\n",
       "  </tbody>\n",
       "</table>\n",
       "<p>48954 rows × 3 columns</p>\n",
       "</div>"
      ],
      "text/plain": [
       "                     time      bid       time_msc\n",
       "0     2020-11-26 19:00:00  90.0309  1606417200378\n",
       "1     2020-11-26 19:00:20  90.0312  1606417220633\n",
       "2     2020-11-26 19:00:22  90.0309  1606417222090\n",
       "3     2020-11-26 19:00:31  90.0307  1606417231013\n",
       "4     2020-11-26 19:00:32  90.0314  1606417232210\n",
       "...                   ...      ...            ...\n",
       "48949 2020-11-27 18:59:56  90.7251  1606503596551\n",
       "48950 2020-11-27 18:59:57  90.7262  1606503597226\n",
       "48951 2020-11-27 18:59:57  90.7265  1606503597548\n",
       "48952 2020-11-27 18:59:58  90.7267  1606503598437\n",
       "48953 2020-11-27 18:59:59  90.7260  1606503599853\n",
       "\n",
       "[48954 rows x 3 columns]"
      ]
     },
     "execution_count": 374,
     "metadata": {},
     "output_type": "execute_result"
    }
   ],
   "source": [
    "eurrub_ticks_frame"
   ]
  },
  {
   "cell_type": "code",
   "execution_count": 375,
   "metadata": {},
   "outputs": [
    {
     "data": {
      "text/html": [
       "<div>\n",
       "<style scoped>\n",
       "    .dataframe tbody tr th:only-of-type {\n",
       "        vertical-align: middle;\n",
       "    }\n",
       "\n",
       "    .dataframe tbody tr th {\n",
       "        vertical-align: top;\n",
       "    }\n",
       "\n",
       "    .dataframe thead th {\n",
       "        text-align: right;\n",
       "    }\n",
       "</style>\n",
       "<table border=\"1\" class=\"dataframe\">\n",
       "  <thead>\n",
       "    <tr style=\"text-align: right;\">\n",
       "      <th></th>\n",
       "      <th>time</th>\n",
       "      <th>ask</th>\n",
       "      <th>time_msc</th>\n",
       "    </tr>\n",
       "  </thead>\n",
       "  <tbody>\n",
       "    <tr>\n",
       "      <th>0</th>\n",
       "      <td>2020-11-26 19:00:00</td>\n",
       "      <td>75.7158</td>\n",
       "      <td>1606417200628</td>\n",
       "    </tr>\n",
       "    <tr>\n",
       "      <th>1</th>\n",
       "      <td>2020-11-26 19:00:00</td>\n",
       "      <td>75.7157</td>\n",
       "      <td>1606417200954</td>\n",
       "    </tr>\n",
       "    <tr>\n",
       "      <th>2</th>\n",
       "      <td>2020-11-26 19:00:03</td>\n",
       "      <td>75.7158</td>\n",
       "      <td>1606417203649</td>\n",
       "    </tr>\n",
       "    <tr>\n",
       "      <th>3</th>\n",
       "      <td>2020-11-26 19:00:05</td>\n",
       "      <td>75.7158</td>\n",
       "      <td>1606417205960</td>\n",
       "    </tr>\n",
       "    <tr>\n",
       "      <th>4</th>\n",
       "      <td>2020-11-26 19:00:08</td>\n",
       "      <td>75.7158</td>\n",
       "      <td>1606417208664</td>\n",
       "    </tr>\n",
       "    <tr>\n",
       "      <th>...</th>\n",
       "      <td>...</td>\n",
       "      <td>...</td>\n",
       "      <td>...</td>\n",
       "    </tr>\n",
       "    <tr>\n",
       "      <th>64427</th>\n",
       "      <td>2020-11-27 18:59:54</td>\n",
       "      <td>76.0268</td>\n",
       "      <td>1606503594567</td>\n",
       "    </tr>\n",
       "    <tr>\n",
       "      <th>64428</th>\n",
       "      <td>2020-11-27 18:59:56</td>\n",
       "      <td>76.0238</td>\n",
       "      <td>1606503596150</td>\n",
       "    </tr>\n",
       "    <tr>\n",
       "      <th>64429</th>\n",
       "      <td>2020-11-27 18:59:56</td>\n",
       "      <td>76.0258</td>\n",
       "      <td>1606503596536</td>\n",
       "    </tr>\n",
       "    <tr>\n",
       "      <th>64430</th>\n",
       "      <td>2020-11-27 18:59:57</td>\n",
       "      <td>76.0258</td>\n",
       "      <td>1606503597368</td>\n",
       "    </tr>\n",
       "    <tr>\n",
       "      <th>64431</th>\n",
       "      <td>2020-11-27 18:59:59</td>\n",
       "      <td>76.0258</td>\n",
       "      <td>1606503599525</td>\n",
       "    </tr>\n",
       "  </tbody>\n",
       "</table>\n",
       "<p>64432 rows × 3 columns</p>\n",
       "</div>"
      ],
      "text/plain": [
       "                     time      ask       time_msc\n",
       "0     2020-11-26 19:00:00  75.7158  1606417200628\n",
       "1     2020-11-26 19:00:00  75.7157  1606417200954\n",
       "2     2020-11-26 19:00:03  75.7158  1606417203649\n",
       "3     2020-11-26 19:00:05  75.7158  1606417205960\n",
       "4     2020-11-26 19:00:08  75.7158  1606417208664\n",
       "...                   ...      ...            ...\n",
       "64427 2020-11-27 18:59:54  76.0268  1606503594567\n",
       "64428 2020-11-27 18:59:56  76.0238  1606503596150\n",
       "64429 2020-11-27 18:59:56  76.0258  1606503596536\n",
       "64430 2020-11-27 18:59:57  76.0258  1606503597368\n",
       "64431 2020-11-27 18:59:59  76.0258  1606503599525\n",
       "\n",
       "[64432 rows x 3 columns]"
      ]
     },
     "execution_count": 375,
     "metadata": {},
     "output_type": "execute_result"
    }
   ],
   "source": [
    "usdrub_ticks_frame"
   ]
  },
  {
   "cell_type": "code",
   "execution_count": 354,
   "metadata": {},
   "outputs": [],
   "source": [
    "position_euro = 0\n",
    "position_usd = 0\n",
    "old_euro = eurrub_ticks_frame['bid'][0]\n",
    "old_usd = usdrub_ticks_frame['ask'][0]\n",
    "current_usd = old_usd\n",
    "current_euro = old_euro\n",
    "\n",
    "correlation = []\n",
    "\n",
    "while(position_euro <= len(eurrub_ticks_frame['time'])):\n",
    "    \n",
    "    if(eurrub_ticks_frame['time_msc'][position_euro] >= usdrub_ticks_frame['time_msc'][position_usd]):\n",
    "        \n",
    "        current_usd = usdrub_ticks_frame['ask'][position_usd]\n",
    "        correlation.append(current_euro - current_usd)\n",
    "        old_usd = usdrub_ticks_frame['ask'][position_usd]\n",
    "        if position_usd >= len(usdrub_ticks_frame['time']) - 1:\n",
    "            break\n",
    "        position_usd += 1\n",
    "    else:\n",
    "        \n",
    "        current_euro = eurrub_ticks_frame['bid'][position_euro]\n",
    "        correlation.append(current_euro - old_usd)\n",
    "        if position_euro >= len(eurrub_ticks_frame['time']) - 1:\n",
    "            break\n",
    "        position_euro += 1\n",
    "    \n",
    "        "
   ]
  },
  {
   "cell_type": "code",
   "execution_count": 373,
   "metadata": {},
   "outputs": [
    {
     "data": {
      "text/plain": [
       "113385"
      ]
     },
     "execution_count": 373,
     "metadata": {},
     "output_type": "execute_result"
    }
   ],
   "source": [
    "len(correlation)"
   ]
  },
  {
   "cell_type": "code",
   "execution_count": 383,
   "metadata": {},
   "outputs": [
    {
     "data": {
      "text/plain": [
       "14.490200000000002"
      ]
     },
     "execution_count": 383,
     "metadata": {},
     "output_type": "execute_result"
    }
   ],
   "source": [
    "#type(correlation)\n",
    "correlation = np.array(correlation)\n",
    "type(correlation)\n",
    "median = np.median(correlation)\n",
    "median"
   ]
  },
  {
   "cell_type": "markdown",
   "metadata": {},
   "source": [
    "###  bid - продать, ask - купить"
   ]
  },
  {
   "cell_type": "code",
   "execution_count": 119,
   "metadata": {},
   "outputs": [
    {
     "data": {
      "image/png": "[encoded data removed]",
      "text/plain": [
       "<Figure size 432x288 with 1 Axes>"
      ]
     },
     "metadata": {
      "needs_background": "light"
     },
     "output_type": "display_data"
    }
   ],
   "source": [
    "#Посмотрим на графике наши значения\n",
    "plt.plot(eurrub_ticks_frame['time'], eurrub_ticks_frame['bid'], 'r-', label='Цена продажи евро в рублях')\n",
    "plt.plot(usdrub_ticks_frame['time'], usdrub_ticks_frame['ask'], 'b-', label='Цена покупки доллара в рублях')\n",
    "\n",
    "# выведем легенды \n",
    "plt.legend(loc='upper left')\n",
    " \n",
    "# добавим заголовок \n",
    "plt.title('EURRUB, USDRUB ticks')\n",
    " \n",
    "# покажем график\n",
    "plt.show()"
   ]
  },
  {
   "cell_type": "code",
   "execution_count": null,
   "metadata": {},
   "outputs": [],
   "source": [
    "for i in range()"
   ]
  }
 ],
 "metadata": {
  "kernelspec": {
   "display_name": "Python 3",
   "language": "python",
   "name": "python3"
  },
  "language_info": {
   "codemirror_mode": {
    "name": "ipython",
    "version": 3
   },
   "file_extension": ".py",
   "mimetype": "text/x-python",
   "name": "python",
   "nbconvert_exporter": "python",
   "pygments_lexer": "ipython3",
   "version": "3.8.3"
  }
 },
 "nbformat": 4,
 "nbformat_minor": 4
}
