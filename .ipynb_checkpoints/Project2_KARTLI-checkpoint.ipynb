{
 "cells": [
  {
   "cell_type": "code",
   "execution_count": 2,
   "metadata": {},
   "outputs": [
    {
     "name": "stdout",
     "output_type": "stream",
     "text": [
      "Collecting MetaTrader5Note: you may need to restart the kernel to use updated packages.\n",
      "  Downloading MetaTrader5-5.0.33-cp38-cp38-win_amd64.whl (122 kB)\n",
      "Requirement already satisfied: numpy>=1.7 in c:\\users\\acer\\anaconda3\\lib\\site-packages (from MetaTrader5) (1.18.5)\n",
      "Installing collected packages: MetaTrader5\n",
      "Successfully installed MetaTrader5-5.0.33\n",
      "\n"
     ]
    }
   ],
   "source": [
    " pip install MetaTrader5"
   ]
  },
  {
   "cell_type": "code",
   "execution_count": 46,
   "metadata": {},
   "outputs": [],
   "source": [
    "from datetime import datetime, timedelta\n",
    "import matplotlib.pyplot as plt\n",
    "import pandas as pd\n",
    "import numpy as np\n",
    "from pandas.plotting import register_matplotlib_converters\n",
    "register_matplotlib_converters()\n",
    "import MetaTrader5 as mt5\n",
    "import time"
   ]
  },
  {
   "cell_type": "code",
   "execution_count": 31,
   "metadata": {},
   "outputs": [],
   "source": [
    "# подключимся к MetaTrader 5\n",
    "if not mt5.initialize():\n",
    "    print(\"initialize() failed\")\n",
    "    mt5.shutdown()"
   ]
  },
  {
   "cell_type": "code",
   "execution_count": 32,
   "metadata": {},
   "outputs": [],
   "source": [
    "#Получим тики EURRUB и USDRUB со вчерашнего дня по сегодняшний день\n",
    "eurrub_ticks = mt5.copy_ticks_range(\"EURRUB\", \n",
    "                                     datetime.now() - timedelta(days=1), \n",
    "                                     datetime.now(), \n",
    "                                     mt5.COPY_TICKS_ALL)\n",
    "\n",
    "usdrub_ticks = mt5.copy_ticks_range(\"USDRUB\", \n",
    "                                     datetime.now() - timedelta(days=1), \n",
    "                                     datetime.now(), \n",
    "                                     mt5.COPY_TICKS_ALL)"
   ]
  },
  {
   "cell_type": "code",
   "execution_count": 33,
   "metadata": {},
   "outputs": [
    {
     "data": {
      "text/plain": [
       "True"
      ]
     },
     "execution_count": 33,
     "metadata": {},
     "output_type": "execute_result"
    }
   ],
   "source": [
    "# Завершим подключение\n",
    "mt5.shutdown()"
   ]
  },
  {
   "cell_type": "code",
   "execution_count": 34,
   "metadata": {},
   "outputs": [],
   "source": [
    "#Переведем имеющиеся у нас данные в DataFrame\n",
    "eurrub_ticks_frame = pd.DataFrame(eurrub_ticks)\n",
    "usdrub_ticks_frame = pd.DataFrame(usdrub_ticks)\n",
    "#Время в MetaTrader 5 хранится в UTC таймзоне, поэтому переведем в привычный нам вид\n",
    "eurrub_ticks_frame['time']=pd.to_datetime(eurrub_ticks_frame['time'], unit='s')\n",
    "usdrub_ticks_frame['time']=pd.to_datetime(usdrub_ticks_frame['time'], unit='s')\n",
    "\n",
    "#Удалим ненужные столбцы\n",
    "eurrub_ticks_frame.drop('ask', axis = 1, inplace = True)\n",
    "eurrub_ticks_frame.drop('flags', axis = 1, inplace = True)\n",
    "eurrub_ticks_frame.drop('volume_real', axis = 1, inplace = True)\n",
    "eurrub_ticks_frame.drop('last', axis = 1, inplace = True)\n",
    "eurrub_ticks_frame.drop('volume', axis = 1, inplace = True)\n",
    "\n",
    "usdrub_ticks_frame.drop('bid', axis = 1, inplace = True)\n",
    "usdrub_ticks_frame.drop('flags', axis = 1, inplace = True)\n",
    "usdrub_ticks_frame.drop('volume_real', axis = 1, inplace = True)\n",
    "usdrub_ticks_frame.drop('last', axis = 1, inplace = True)\n",
    "usdrub_ticks_frame.drop('volume', axis = 1, inplace = True)\n",
    "#eurrub_ticks_frame['time_msc']=pd.to_datetime(eurrub_ticks_frame['time_msc'], unit='ms')\n",
    "#usdrub_ticks_frame['time_msc']=pd.to_datetime(usdrub_ticks_frame['time_msc'], unit='ms')"
   ]
  },
  {
   "cell_type": "code",
   "execution_count": 35,
   "metadata": {},
   "outputs": [
    {
     "data": {
      "text/html": [
       "<div>\n",
       "<style scoped>\n",
       "    .dataframe tbody tr th:only-of-type {\n",
       "        vertical-align: middle;\n",
       "    }\n",
       "\n",
       "    .dataframe tbody tr th {\n",
       "        vertical-align: top;\n",
       "    }\n",
       "\n",
       "    .dataframe thead th {\n",
       "        text-align: right;\n",
       "    }\n",
       "</style>\n",
       "<table border=\"1\" class=\"dataframe\">\n",
       "  <thead>\n",
       "    <tr style=\"text-align: right;\">\n",
       "      <th></th>\n",
       "      <th>time</th>\n",
       "      <th>bid</th>\n",
       "      <th>time_msc</th>\n",
       "    </tr>\n",
       "  </thead>\n",
       "  <tbody>\n",
       "    <tr>\n",
       "      <th>0</th>\n",
       "      <td>2020-11-29 22:07:19</td>\n",
       "      <td>90.2162</td>\n",
       "      <td>1606687639410</td>\n",
       "    </tr>\n",
       "    <tr>\n",
       "      <th>1</th>\n",
       "      <td>2020-11-29 22:07:21</td>\n",
       "      <td>90.2172</td>\n",
       "      <td>1606687641960</td>\n",
       "    </tr>\n",
       "    <tr>\n",
       "      <th>2</th>\n",
       "      <td>2020-11-29 22:07:33</td>\n",
       "      <td>90.2179</td>\n",
       "      <td>1606687653915</td>\n",
       "    </tr>\n",
       "    <tr>\n",
       "      <th>3</th>\n",
       "      <td>2020-11-29 22:07:52</td>\n",
       "      <td>90.2187</td>\n",
       "      <td>1606687672220</td>\n",
       "    </tr>\n",
       "    <tr>\n",
       "      <th>4</th>\n",
       "      <td>2020-11-29 22:07:55</td>\n",
       "      <td>90.2333</td>\n",
       "      <td>1606687675873</td>\n",
       "    </tr>\n",
       "    <tr>\n",
       "      <th>...</th>\n",
       "      <td>...</td>\n",
       "      <td>...</td>\n",
       "      <td>...</td>\n",
       "    </tr>\n",
       "    <tr>\n",
       "      <th>50945</th>\n",
       "      <td>2020-11-30 19:18:00</td>\n",
       "      <td>91.0647</td>\n",
       "      <td>1606763880875</td>\n",
       "    </tr>\n",
       "    <tr>\n",
       "      <th>50946</th>\n",
       "      <td>2020-11-30 19:18:02</td>\n",
       "      <td>91.0624</td>\n",
       "      <td>1606763882616</td>\n",
       "    </tr>\n",
       "    <tr>\n",
       "      <th>50947</th>\n",
       "      <td>2020-11-30 19:18:04</td>\n",
       "      <td>91.0603</td>\n",
       "      <td>1606763884743</td>\n",
       "    </tr>\n",
       "    <tr>\n",
       "      <th>50948</th>\n",
       "      <td>2020-11-30 19:18:08</td>\n",
       "      <td>91.0596</td>\n",
       "      <td>1606763888674</td>\n",
       "    </tr>\n",
       "    <tr>\n",
       "      <th>50949</th>\n",
       "      <td>2020-11-30 19:18:12</td>\n",
       "      <td>91.0602</td>\n",
       "      <td>1606763892380</td>\n",
       "    </tr>\n",
       "  </tbody>\n",
       "</table>\n",
       "<p>50950 rows × 3 columns</p>\n",
       "</div>"
      ],
      "text/plain": [
       "                     time      bid       time_msc\n",
       "0     2020-11-29 22:07:19  90.2162  1606687639410\n",
       "1     2020-11-29 22:07:21  90.2172  1606687641960\n",
       "2     2020-11-29 22:07:33  90.2179  1606687653915\n",
       "3     2020-11-29 22:07:52  90.2187  1606687672220\n",
       "4     2020-11-29 22:07:55  90.2333  1606687675873\n",
       "...                   ...      ...            ...\n",
       "50945 2020-11-30 19:18:00  91.0647  1606763880875\n",
       "50946 2020-11-30 19:18:02  91.0624  1606763882616\n",
       "50947 2020-11-30 19:18:04  91.0603  1606763884743\n",
       "50948 2020-11-30 19:18:08  91.0596  1606763888674\n",
       "50949 2020-11-30 19:18:12  91.0602  1606763892380\n",
       "\n",
       "[50950 rows x 3 columns]"
      ]
     },
     "execution_count": 35,
     "metadata": {},
     "output_type": "execute_result"
    }
   ],
   "source": [
    "eurrub_ticks_frame"
   ]
  },
  {
   "cell_type": "code",
   "execution_count": 36,
   "metadata": {},
   "outputs": [
    {
     "data": {
      "text/html": [
       "<div>\n",
       "<style scoped>\n",
       "    .dataframe tbody tr th:only-of-type {\n",
       "        vertical-align: middle;\n",
       "    }\n",
       "\n",
       "    .dataframe tbody tr th {\n",
       "        vertical-align: top;\n",
       "    }\n",
       "\n",
       "    .dataframe thead th {\n",
       "        text-align: right;\n",
       "    }\n",
       "</style>\n",
       "<table border=\"1\" class=\"dataframe\">\n",
       "  <thead>\n",
       "    <tr style=\"text-align: right;\">\n",
       "      <th></th>\n",
       "      <th>time</th>\n",
       "      <th>ask</th>\n",
       "      <th>time_msc</th>\n",
       "    </tr>\n",
       "  </thead>\n",
       "  <tbody>\n",
       "    <tr>\n",
       "      <th>0</th>\n",
       "      <td>2020-11-29 22:00:00</td>\n",
       "      <td>76.5148</td>\n",
       "      <td>1606687200402</td>\n",
       "    </tr>\n",
       "    <tr>\n",
       "      <th>1</th>\n",
       "      <td>2020-11-29 22:01:49</td>\n",
       "      <td>76.3428</td>\n",
       "      <td>1606687309642</td>\n",
       "    </tr>\n",
       "    <tr>\n",
       "      <th>2</th>\n",
       "      <td>2020-11-29 22:02:14</td>\n",
       "      <td>76.2528</td>\n",
       "      <td>1606687334161</td>\n",
       "    </tr>\n",
       "    <tr>\n",
       "      <th>3</th>\n",
       "      <td>2020-11-29 22:02:15</td>\n",
       "      <td>76.2298</td>\n",
       "      <td>1606687335169</td>\n",
       "    </tr>\n",
       "    <tr>\n",
       "      <th>4</th>\n",
       "      <td>2020-11-29 22:03:03</td>\n",
       "      <td>76.2298</td>\n",
       "      <td>1606687383807</td>\n",
       "    </tr>\n",
       "    <tr>\n",
       "      <th>...</th>\n",
       "      <td>...</td>\n",
       "      <td>...</td>\n",
       "      <td>...</td>\n",
       "    </tr>\n",
       "    <tr>\n",
       "      <th>65562</th>\n",
       "      <td>2020-11-30 19:18:07</td>\n",
       "      <td>76.3608</td>\n",
       "      <td>1606763887365</td>\n",
       "    </tr>\n",
       "    <tr>\n",
       "      <th>65563</th>\n",
       "      <td>2020-11-30 19:18:07</td>\n",
       "      <td>76.3608</td>\n",
       "      <td>1606763887990</td>\n",
       "    </tr>\n",
       "    <tr>\n",
       "      <th>65564</th>\n",
       "      <td>2020-11-30 19:18:09</td>\n",
       "      <td>76.3608</td>\n",
       "      <td>1606763889617</td>\n",
       "    </tr>\n",
       "    <tr>\n",
       "      <th>65565</th>\n",
       "      <td>2020-11-30 19:18:12</td>\n",
       "      <td>76.3608</td>\n",
       "      <td>1606763892090</td>\n",
       "    </tr>\n",
       "    <tr>\n",
       "      <th>65566</th>\n",
       "      <td>2020-11-30 19:18:12</td>\n",
       "      <td>76.3608</td>\n",
       "      <td>1606763892393</td>\n",
       "    </tr>\n",
       "  </tbody>\n",
       "</table>\n",
       "<p>65567 rows × 3 columns</p>\n",
       "</div>"
      ],
      "text/plain": [
       "                     time      ask       time_msc\n",
       "0     2020-11-29 22:00:00  76.5148  1606687200402\n",
       "1     2020-11-29 22:01:49  76.3428  1606687309642\n",
       "2     2020-11-29 22:02:14  76.2528  1606687334161\n",
       "3     2020-11-29 22:02:15  76.2298  1606687335169\n",
       "4     2020-11-29 22:03:03  76.2298  1606687383807\n",
       "...                   ...      ...            ...\n",
       "65562 2020-11-30 19:18:07  76.3608  1606763887365\n",
       "65563 2020-11-30 19:18:07  76.3608  1606763887990\n",
       "65564 2020-11-30 19:18:09  76.3608  1606763889617\n",
       "65565 2020-11-30 19:18:12  76.3608  1606763892090\n",
       "65566 2020-11-30 19:18:12  76.3608  1606763892393\n",
       "\n",
       "[65567 rows x 3 columns]"
      ]
     },
     "execution_count": 36,
     "metadata": {},
     "output_type": "execute_result"
    }
   ],
   "source": [
    "usdrub_ticks_frame"
   ]
  },
  {
   "cell_type": "code",
   "execution_count": 37,
   "metadata": {},
   "outputs": [],
   "source": [
    "position_euro = 0\n",
    "position_usd = 0\n",
    "old_euro = eurrub_ticks_frame['bid'][0]\n",
    "old_usd = usdrub_ticks_frame['ask'][0]\n",
    "current_usd = old_usd\n",
    "current_euro = old_euro\n",
    "\n",
    "correlation = []\n",
    "\n",
    "while(position_euro <= len(eurrub_ticks_frame['time'])):\n",
    "    \n",
    "    if(eurrub_ticks_frame['time_msc'][position_euro] >= usdrub_ticks_frame['time_msc'][position_usd]):\n",
    "        \n",
    "        current_usd = usdrub_ticks_frame['ask'][position_usd]\n",
    "        correlation.append(current_euro - current_usd)\n",
    "        old_usd = usdrub_ticks_frame['ask'][position_usd]\n",
    "        if position_usd >= len(usdrub_ticks_frame['time']) - 1:\n",
    "            break\n",
    "        position_usd += 1\n",
    "    else:\n",
    "        \n",
    "        current_euro = eurrub_ticks_frame['bid'][position_euro]\n",
    "        correlation.append(current_euro - old_usd)\n",
    "        if position_euro >= len(eurrub_ticks_frame['time']) - 1:\n",
    "            break\n",
    "        position_euro += 1\n",
    "    \n",
    "        "
   ]
  },
  {
   "cell_type": "code",
   "execution_count": 38,
   "metadata": {},
   "outputs": [
    {
     "data": {
      "text/plain": [
       "116516"
      ]
     },
     "execution_count": 38,
     "metadata": {},
     "output_type": "execute_result"
    }
   ],
   "source": [
    "len(correlation)"
   ]
  },
  {
   "cell_type": "code",
   "execution_count": 39,
   "metadata": {},
   "outputs": [],
   "source": [
    "#максимальное и минимальное значение\n",
    "max_correlation = max(correlation)\n",
    "min_correlation = min(correlation)"
   ]
  },
  {
   "cell_type": "code",
   "execution_count": 40,
   "metadata": {},
   "outputs": [
    {
     "data": {
      "text/plain": [
       "14.8934"
      ]
     },
     "execution_count": 40,
     "metadata": {},
     "output_type": "execute_result"
    }
   ],
   "source": [
    "#Найдём медиану\n",
    "correlation = np.array(correlation)\n",
    "type(correlation)\n",
    "median = np.median(correlation)\n",
    "median"
   ]
  },
  {
   "cell_type": "code",
   "execution_count": 41,
   "metadata": {},
   "outputs": [
    {
     "data": {
      "text/plain": [
       "15.100099999999998"
      ]
     },
     "execution_count": 41,
     "metadata": {},
     "output_type": "execute_result"
    }
   ],
   "source": [
    "max_correlation"
   ]
  },
  {
   "cell_type": "code",
   "execution_count": 42,
   "metadata": {},
   "outputs": [
    {
     "data": {
      "text/plain": [
       "13.701400000000007"
      ]
     },
     "execution_count": 42,
     "metadata": {},
     "output_type": "execute_result"
    }
   ],
   "source": [
    "min_correlation"
   ]
  },
  {
   "cell_type": "code",
   "execution_count": 43,
   "metadata": {},
   "outputs": [
    {
     "name": "stdout",
     "output_type": "stream",
     "text": [
      "15.058759999999998\n"
     ]
    }
   ],
   "source": [
    "Open = median + (max_correlation - median) * 0.8\n",
    "print(Open)\n",
    "Close = median + (min_correlation - median) * 0.8\n",
    "print(Open)"
   ]
  },
  {
   "cell_type": "code",
   "execution_count": null,
   "metadata": {},
   "outputs": [],
   "source": [
    "while(True):\n",
    "    last_tick_usdrub = mt5.symbol_info_tick(\"USDRUB\")\n",
    "    last_tick_eurrub = mt5.symbol_info_tick(\"EURRUB\")\n",
    "    last_correlation = last_tick_eurrub - last_tick_usdrub\n",
    "    if last_correlation > Open:\n",
    "        open_pos() # Написать Функции\n",
    "    elif last_correlation < Close:\n",
    "        close_pos() # Написать Функции\n",
    "    #time.sleep(1)"
   ]
  },
  {
   "cell_type": "markdown",
   "metadata": {},
   "source": [
    "###  bid - продать, ask - купить"
   ]
  },
  {
   "cell_type": "code",
   "execution_count": 45,
   "metadata": {},
   "outputs": [
    {
     "data": {
      "image/png": "[encoded data removed]",
      "text/plain": [
       "<Figure size 432x288 with 1 Axes>"
      ]
     },
     "metadata": {
      "needs_background": "light"
     },
     "output_type": "display_data"
    }
   ],
   "source": [
    "#Посмотрим на графике наши значения\n",
    "plt.plot(correlation, 'r-', label='Цена продажи евро в рублях')\n",
    "# выведем легенды \n",
    "plt.legend(loc='upper left')\n",
    " \n",
    "# добавим заголовок \n",
    "plt.title('correlation')\n",
    " \n",
    "# покажем график\n",
    "plt.show()"
   ]
  },
  {
   "cell_type": "code",
   "execution_count": null,
   "metadata": {},
   "outputs": [],
   "source": [
    "\n",
    "lasttick=mt5.symbol_info_tick(\"GBPUSD\")\n"
   ]
  }
 ],
 "metadata": {
  "kernelspec": {
   "display_name": "Python 3",
   "language": "python",
   "name": "python3"
  },
  "language_info": {
   "codemirror_mode": {
    "name": "ipython",
    "version": 3
   },
   "file_extension": ".py",
   "mimetype": "text/x-python",
   "name": "python",
   "nbconvert_exporter": "python",
   "pygments_lexer": "ipython3",
   "version": "3.8.3"
  }
 },
 "nbformat": 4,
 "nbformat_minor": 4
}
