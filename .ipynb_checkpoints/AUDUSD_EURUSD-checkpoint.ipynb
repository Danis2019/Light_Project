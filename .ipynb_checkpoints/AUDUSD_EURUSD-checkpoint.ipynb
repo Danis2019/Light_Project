{
 "cells": [
  {
   "cell_type": "code",
   "execution_count": 1,
   "metadata": {},
   "outputs": [],
   "source": [
    "from datetime import datetime, timedelta\n",
    "import matplotlib.pyplot as plt\n",
    "import pandas as pd\n",
    "import numpy as np\n",
    "from pandas.plotting import register_matplotlib_converters\n",
    "register_matplotlib_converters()\n",
    "import time\n",
    "import struct\n",
    "# import trinket\n",
    "# Модуль 1 подключение библиотек и зависимостей"
   ]
  },
  {
   "cell_type": "code",
   "execution_count": 2,
   "metadata": {},
   "outputs": [],
   "source": [
    "dataAUDUSD = pd.read_csv('ФГВUSD.csv', sep = ',')\n",
    "dataEURUSD = pd.read_csv('EURUSD.csv', sep = ',')"
   ]
  },
  {
   "cell_type": "code",
   "execution_count": 3,
   "metadata": {},
   "outputs": [],
   "source": [
    "def ticks_to_df(audusd_ticks,eurusd_ticks):\n",
    "    #Переведем имеющиеся у нас данные в DataFrame\n",
    "    gbprub_ticks_frame = pd.DataFrame(gbprub_ticks)\n",
    "    eurrub_ticks_frame = pd.DataFrame(eurrub_ticks)\n",
    "    #Время в MetaTrader 5 хранится в UTC таймзоне, поэтому переведем в привычный нам вид\n",
    "\n",
    "    #Удалим ненужные столбцы\n",
    "    gbprub_ticks_frame.drop('<TICKER>', axis = 1, inplace = True)\n",
    "    gbprub_ticks_frame.drop('<PER>', axis = 1, inplace = True)\n",
    "    gbprub_ticks_frame.drop('<VOL>', axis = 1, inplace = True)\n",
    "\n",
    "    eurrub_ticks_frame.drop('<TICKER>', axis = 1, inplace = True)\n",
    "    eurrub_ticks_frame.drop('<PER>', axis = 1, inplace = True)\n",
    "    eurrub_ticks_frame.drop('<VOL>', axis = 1, inplace = True)\n",
    "    \n",
    "    return gbprub_ticks_frame, eurrub_ticks_frame "
   ]
  },
  {
   "cell_type": "code",
   "execution_count": 4,
   "metadata": {},
   "outputs": [],
   "source": [
    "gbprub_ticks_frame,eurrub_ticks_frame = ticks_to_df(dataGBPUSD,dataEURUSD)\n",
    "spread = gbprub_ticks_frame['<CLOSE>'] - eurrub_ticks_frame['<CLOSE>']"
   ]
  },
  {
   "cell_type": "code",
   "execution_count": 5,
   "metadata": {},
   "outputs": [
    {
     "data": {
      "text/plain": [
       "0.13165000000000004"
      ]
     },
     "execution_count": 5,
     "metadata": {},
     "output_type": "execute_result"
    }
   ],
   "source": [
    "spread = np.array(spread)\n",
    "spread = spread[~np.isnan(spread)]\n",
    "median = np.median(spread)\n",
    "Open_up = list()\n",
    "Open_down = list()\n",
    "Open_UP =0\n",
    "Open_DOWN = 0\n",
    "median"
   ]
  },
  {
   "cell_type": "code",
   "execution_count": 6,
   "metadata": {},
   "outputs": [],
   "source": [
    "for i in range(0,len(spread)):\n",
    "    if spread[i] > median:\n",
    "        Open_up.append(spread[i])\n",
    "    if spread[i] < median:\n",
    "        Open_down.append(spread[i])\n",
    "Open_UP =np.median(Open_up)\n",
    "Open_DOWN = np.median(Open_down)\n",
    "Open_UP =str(Open_UP)\n",
    "Open_DOWN = str(Open_DOWN)\n",
    "median = str(median)\n",
    "#         spread.drop([i], inplace=True)"
   ]
  },
  {
   "cell_type": "code",
   "execution_count": 7,
   "metadata": {},
   "outputs": [],
   "source": [
    "file_obj = open('Open_Close_Values.txt', 'a') # Файл в который мы запишем результаты\n",
    "file_obj.write(Open_UP)\n",
    "file_obj.write('\\n')\n",
    "file_obj.write(Open_DOWN)\n",
    "file_obj.write('\\n')\n",
    "file_obj.write(median)\n",
    "file_obj.close()"
   ]
  },
  {
   "cell_type": "code",
   "execution_count": null,
   "metadata": {},
   "outputs": [],
   "source": []
  }
 ],
 "metadata": {
  "kernelspec": {
   "display_name": "Python 3",
   "language": "python",
   "name": "python3"
  },
  "language_info": {
   "codemirror_mode": {
    "name": "ipython",
    "version": 3
   },
   "file_extension": ".py",
   "mimetype": "text/x-python",
   "name": "python",
   "nbconvert_exporter": "python",
   "pygments_lexer": "ipython3",
   "version": "3.8.3"
  }
 },
 "nbformat": 4,
 "nbformat_minor": 4
}
