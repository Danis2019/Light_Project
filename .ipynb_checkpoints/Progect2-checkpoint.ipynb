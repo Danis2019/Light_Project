{
 "cells": [
  {
   "cell_type": "code",
   "execution_count": 2,
   "metadata": {},
   "outputs": [
    {
     "name": "stdout",
     "output_type": "stream",
     "text": [
      "Collecting MetaTrader5Note: you may need to restart the kernel to use updated packages.\n",
      "  Downloading MetaTrader5-5.0.33-cp38-cp38-win_amd64.whl (122 kB)\n",
      "Requirement already satisfied: numpy>=1.7 in c:\\users\\acer\\anaconda3\\lib\\site-packages (from MetaTrader5) (1.18.5)\n",
      "Installing collected packages: MetaTrader5\n",
      "Successfully installed MetaTrader5-5.0.33\n",
      "\n"
     ]
    }
   ],
   "source": [
    " pip install MetaTrader5"
   ]
  },
  {
   "cell_type": "code",
   "execution_count": 17,
   "metadata": {},
   "outputs": [],
   "source": [
    "from datetime import datetime\n",
    "import matplotlib.pyplot as plt\n",
    "import pandas as pd\n",
    "from pandas.plotting import register_matplotlib_converters\n",
    "register_matplotlib_converters()\n",
    "import MetaTrader5 as mt5"
   ]
  },
  {
   "cell_type": "code",
   "execution_count": 18,
   "metadata": {},
   "outputs": [],
   "source": [
    "# подключимся к MetaTrader 5\n",
    "if not mt5.initialize():\n",
    "    print(\"initialize() failed\")\n",
    "    mt5.shutdown()"
   ]
  },
  {
   "cell_type": "code",
   "execution_count": 19,
   "metadata": {},
   "outputs": [
    {
     "name": "stdout",
     "output_type": "stream",
     "text": [
      "TerminalInfo(community_account=False, community_connection=False, connected=True, dlls_allowed=False, trade_allowed=False, tradeapi_disabled=False, email_enabled=False, ftp_enabled=False, notifications_enabled=False, mqid=False, build=2698, maxbars=100000, codepage=1251, ping_last=48174, community_balance=0.0, retransmission=1.495067817509248, company='MetaQuotes Software Corp.', name='MetaTrader 5', language='Russian', path='C:\\\\Program Files\\\\MetaTrader 5', data_path='C:\\\\Users\\\\Acer\\\\AppData\\\\Roaming\\\\MetaQuotes\\\\Terminal\\\\D0E8209F77C8CF37AD8BF550E51FF075', commondata_path='C:\\\\Users\\\\Acer\\\\AppData\\\\Roaming\\\\MetaQuotes\\\\Terminal\\\\Common')\n",
      "(500, 2698, '24 Nov 2020')\n"
     ]
    }
   ],
   "source": [
    "# запросим статус и параметры подключения\n",
    "print(mt5.terminal_info())\n",
    "# получим информацию о версии MetaTrader 5\n",
    "print(mt5.version())"
   ]
  },
  {
   "cell_type": "code",
   "execution_count": 20,
   "metadata": {},
   "outputs": [
    {
     "name": "stdout",
     "output_type": "stream",
     "text": [
      "AccountInfo(login=3067880, trade_mode=0, leverage=100, limit_orders=0, margin_so_mode=0, trade_allowed=True, trade_expert=True, margin_mode=0, currency_digits=2, fifo_close=False, balance=100000.0, credit=0.0, profit=0.0, equity=100000.0, margin=0.0, margin_free=100000.0, margin_level=0.0, margin_so_call=100.0, margin_so_so=50.0, margin_initial=0.0, margin_maintenance=0.0, assets=0.0, liabilities=0.0, commission_blocked=0.0, name='Данис Батыршин', server='Just2Trade-MT5', currency='USD', company='Just2Trade Online Ltd')\n"
     ]
    }
   ],
   "source": [
    "print(mt5.account_info())"
   ]
  },
  {
   "cell_type": "code",
   "execution_count": 21,
   "metadata": {},
   "outputs": [],
   "source": [
    "# запросим 1000 тиков с EURRUB\n",
    "eurrub_ticks = mt5.copy_ticks_from(\"EURRUB\", datetime(2020,1,28,13), 1000, mt5.COPY_TICKS_ALL)\n",
    "# запросим 1000 тиков с USDRUB\n",
    "usdrub_ticks = mt5.copy_ticks_from(\"USDRUB\", datetime(2020,1,28,13), 1000, mt5.COPY_TICKS_ALL)"
   ]
  },
  {
   "cell_type": "code",
   "execution_count": 22,
   "metadata": {},
   "outputs": [],
   "source": [
    "eurrub_rates = mt5.copy_rates_from(\"EURRUB\", mt5.TIMEFRAME_M1, datetime(2020,1,28,13), 1000)\n",
    "usdrub_rates = mt5.copy_rates_from(\"USDRUB\", mt5.TIMEFRAME_M1, datetime(2020,1,28,13), 1000)"
   ]
  },
  {
   "cell_type": "code",
   "execution_count": 23,
   "metadata": {},
   "outputs": [
    {
     "data": {
      "text/plain": [
       "True"
      ]
     },
     "execution_count": 23,
     "metadata": {},
     "output_type": "execute_result"
    }
   ],
   "source": [
    "mt5.shutdown()"
   ]
  },
  {
   "cell_type": "code",
   "execution_count": 24,
   "metadata": {},
   "outputs": [
    {
     "name": "stdout",
     "output_type": "stream",
     "text": [
      "eurrub_ticks( 1000 )\n",
      "(1580198400, 68.9141, 69.5141, 68.9127, 1, 1580198400183, 6, 1.)\n",
      "(1580198400, 68.9141, 69.5141, 68.9133, 1, 1580198400218, 280, 1.)\n",
      "(1580198400, 68.9141, 69.5141, 68.9141, 1, 1580198400218, 280, 1.)\n",
      "(1580198400, 68.9141, 69.5141, 68.9133, 1, 1580198400452, 280, 1.)\n",
      "(1580198400, 68.9141, 69.5141, 68.9141, 1, 1580198400452, 280, 1.)\n",
      "(1580198400, 68.9151, 69.5151, 68.9141, 1, 1580198400809, 6, 1.)\n",
      "(1580198400, 68.9151, 69.5151, 68.9147, 1, 1580198400810, 280, 1.)\n",
      "(1580198400, 68.9151, 69.5151, 68.9151, 1, 1580198400810, 280, 1.)\n",
      "(1580198401, 68.9175, 69.5175, 68.9151, 1, 1580198401148, 6, 1.)\n",
      "(1580198401, 68.9175, 69.5175, 68.9175, 1, 1580198401149, 280, 1.)\n"
     ]
    }
   ],
   "source": [
    "print('eurrub_ticks(', len(eurrub_ticks), ')')\n",
    "for val in eurrub_ticks[:10]: print(val)"
   ]
  },
  {
   "cell_type": "code",
   "execution_count": 25,
   "metadata": {},
   "outputs": [
    {
     "name": "stdout",
     "output_type": "stream",
     "text": [
      "usdrub_ticks( 1000 )\n",
      "(1580198400, 62.5795, 63.0795, 62.5783, 1, 1580198400183, 6, 1.)\n",
      "(1580198400, 62.5795, 63.0795, 62.5797, 1, 1580198400218, 280, 1.)\n",
      "(1580198400, 62.5795, 63.0795, 62.5787, 1, 1580198400218, 280, 1.)\n",
      "(1580198400, 62.5795, 63.0795, 62.5795, 1, 1580198400218, 280, 1.)\n",
      "(1580198400, 62.5794, 63.0794, 62.5795, 1, 1580198400452, 6, 1.)\n",
      "(1580198400, 62.5794, 63.0794, 62.5794, 1, 1580198400452, 280, 1.)\n",
      "(1580198400, 62.5802, 63.0802, 62.5794, 1, 1580198400809, 6, 1.)\n",
      "(1580198400, 62.5802, 63.0802, 62.5802, 1, 1580198400810, 280, 1.)\n",
      "(1580198401, 62.5827, 63.0827, 62.5802, 1, 1580198401148, 6, 1.)\n",
      "(1580198401, 62.5827, 63.0827, 62.5827, 1, 1580198401149, 280, 1.)\n"
     ]
    }
   ],
   "source": [
    "print('usdrub_ticks(', len(usdrub_ticks), ')')\n",
    "for val in usdrub_ticks[:10]: print(val)"
   ]
  },
  {
   "cell_type": "code",
   "execution_count": 26,
   "metadata": {},
   "outputs": [
    {
     "data": {
      "text/plain": [
       "numpy.ndarray"
      ]
     },
     "execution_count": 26,
     "metadata": {},
     "output_type": "execute_result"
    }
   ],
   "source": [
    "type(usdrub_ticks)"
   ]
  },
  {
   "cell_type": "code",
   "execution_count": 27,
   "metadata": {},
   "outputs": [],
   "source": [
    "eurrub_ticks_frame = pd.DataFrame(eurrub_ticks)\n",
    "usdrub_ticks_frame = pd.DataFrame(usdrub_ticks)"
   ]
  },
  {
   "cell_type": "code",
   "execution_count": 28,
   "metadata": {},
   "outputs": [
    {
     "data": {
      "text/html": [
       "<div>\n",
       "<style scoped>\n",
       "    .dataframe tbody tr th:only-of-type {\n",
       "        vertical-align: middle;\n",
       "    }\n",
       "\n",
       "    .dataframe tbody tr th {\n",
       "        vertical-align: top;\n",
       "    }\n",
       "\n",
       "    .dataframe thead th {\n",
       "        text-align: right;\n",
       "    }\n",
       "</style>\n",
       "<table border=\"1\" class=\"dataframe\">\n",
       "  <thead>\n",
       "    <tr style=\"text-align: right;\">\n",
       "      <th></th>\n",
       "      <th>time</th>\n",
       "      <th>bid</th>\n",
       "      <th>ask</th>\n",
       "      <th>last</th>\n",
       "      <th>volume</th>\n",
       "      <th>time_msc</th>\n",
       "      <th>flags</th>\n",
       "      <th>volume_real</th>\n",
       "    </tr>\n",
       "  </thead>\n",
       "  <tbody>\n",
       "    <tr>\n",
       "      <th>0</th>\n",
       "      <td>1580198400</td>\n",
       "      <td>68.9141</td>\n",
       "      <td>69.5141</td>\n",
       "      <td>68.9127</td>\n",
       "      <td>1</td>\n",
       "      <td>1580198400183</td>\n",
       "      <td>6</td>\n",
       "      <td>1.0</td>\n",
       "    </tr>\n",
       "    <tr>\n",
       "      <th>1</th>\n",
       "      <td>1580198400</td>\n",
       "      <td>68.9141</td>\n",
       "      <td>69.5141</td>\n",
       "      <td>68.9133</td>\n",
       "      <td>1</td>\n",
       "      <td>1580198400218</td>\n",
       "      <td>280</td>\n",
       "      <td>1.0</td>\n",
       "    </tr>\n",
       "    <tr>\n",
       "      <th>2</th>\n",
       "      <td>1580198400</td>\n",
       "      <td>68.9141</td>\n",
       "      <td>69.5141</td>\n",
       "      <td>68.9141</td>\n",
       "      <td>1</td>\n",
       "      <td>1580198400218</td>\n",
       "      <td>280</td>\n",
       "      <td>1.0</td>\n",
       "    </tr>\n",
       "    <tr>\n",
       "      <th>3</th>\n",
       "      <td>1580198400</td>\n",
       "      <td>68.9141</td>\n",
       "      <td>69.5141</td>\n",
       "      <td>68.9133</td>\n",
       "      <td>1</td>\n",
       "      <td>1580198400452</td>\n",
       "      <td>280</td>\n",
       "      <td>1.0</td>\n",
       "    </tr>\n",
       "    <tr>\n",
       "      <th>4</th>\n",
       "      <td>1580198400</td>\n",
       "      <td>68.9141</td>\n",
       "      <td>69.5141</td>\n",
       "      <td>68.9141</td>\n",
       "      <td>1</td>\n",
       "      <td>1580198400452</td>\n",
       "      <td>280</td>\n",
       "      <td>1.0</td>\n",
       "    </tr>\n",
       "    <tr>\n",
       "      <th>...</th>\n",
       "      <td>...</td>\n",
       "      <td>...</td>\n",
       "      <td>...</td>\n",
       "      <td>...</td>\n",
       "      <td>...</td>\n",
       "      <td>...</td>\n",
       "      <td>...</td>\n",
       "      <td>...</td>\n",
       "    </tr>\n",
       "    <tr>\n",
       "      <th>995</th>\n",
       "      <td>1580198524</td>\n",
       "      <td>68.9729</td>\n",
       "      <td>69.5729</td>\n",
       "      <td>68.9729</td>\n",
       "      <td>1</td>\n",
       "      <td>1580198524557</td>\n",
       "      <td>280</td>\n",
       "      <td>1.0</td>\n",
       "    </tr>\n",
       "    <tr>\n",
       "      <th>996</th>\n",
       "      <td>1580198524</td>\n",
       "      <td>68.9737</td>\n",
       "      <td>69.5737</td>\n",
       "      <td>68.9729</td>\n",
       "      <td>1</td>\n",
       "      <td>1580198524922</td>\n",
       "      <td>6</td>\n",
       "      <td>1.0</td>\n",
       "    </tr>\n",
       "    <tr>\n",
       "      <th>997</th>\n",
       "      <td>1580198524</td>\n",
       "      <td>68.9737</td>\n",
       "      <td>69.5737</td>\n",
       "      <td>68.9737</td>\n",
       "      <td>1</td>\n",
       "      <td>1580198524923</td>\n",
       "      <td>280</td>\n",
       "      <td>1.0</td>\n",
       "    </tr>\n",
       "    <tr>\n",
       "      <th>998</th>\n",
       "      <td>1580198525</td>\n",
       "      <td>68.9738</td>\n",
       "      <td>69.5738</td>\n",
       "      <td>68.9737</td>\n",
       "      <td>1</td>\n",
       "      <td>1580198525261</td>\n",
       "      <td>6</td>\n",
       "      <td>1.0</td>\n",
       "    </tr>\n",
       "    <tr>\n",
       "      <th>999</th>\n",
       "      <td>1580198525</td>\n",
       "      <td>68.9738</td>\n",
       "      <td>69.5738</td>\n",
       "      <td>68.9738</td>\n",
       "      <td>1</td>\n",
       "      <td>1580198525262</td>\n",
       "      <td>280</td>\n",
       "      <td>1.0</td>\n",
       "    </tr>\n",
       "  </tbody>\n",
       "</table>\n",
       "<p>1000 rows × 8 columns</p>\n",
       "</div>"
      ],
      "text/plain": [
       "           time      bid      ask     last  volume       time_msc  flags  \\\n",
       "0    1580198400  68.9141  69.5141  68.9127       1  1580198400183      6   \n",
       "1    1580198400  68.9141  69.5141  68.9133       1  1580198400218    280   \n",
       "2    1580198400  68.9141  69.5141  68.9141       1  1580198400218    280   \n",
       "3    1580198400  68.9141  69.5141  68.9133       1  1580198400452    280   \n",
       "4    1580198400  68.9141  69.5141  68.9141       1  1580198400452    280   \n",
       "..          ...      ...      ...      ...     ...            ...    ...   \n",
       "995  1580198524  68.9729  69.5729  68.9729       1  1580198524557    280   \n",
       "996  1580198524  68.9737  69.5737  68.9729       1  1580198524922      6   \n",
       "997  1580198524  68.9737  69.5737  68.9737       1  1580198524923    280   \n",
       "998  1580198525  68.9738  69.5738  68.9737       1  1580198525261      6   \n",
       "999  1580198525  68.9738  69.5738  68.9738       1  1580198525262    280   \n",
       "\n",
       "     volume_real  \n",
       "0            1.0  \n",
       "1            1.0  \n",
       "2            1.0  \n",
       "3            1.0  \n",
       "4            1.0  \n",
       "..           ...  \n",
       "995          1.0  \n",
       "996          1.0  \n",
       "997          1.0  \n",
       "998          1.0  \n",
       "999          1.0  \n",
       "\n",
       "[1000 rows x 8 columns]"
      ]
     },
     "execution_count": 28,
     "metadata": {},
     "output_type": "execute_result"
    }
   ],
   "source": [
    "eurrub_ticks_frame"
   ]
  },
  {
   "cell_type": "code",
   "execution_count": 29,
   "metadata": {},
   "outputs": [
    {
     "data": {
      "text/html": [
       "<div>\n",
       "<style scoped>\n",
       "    .dataframe tbody tr th:only-of-type {\n",
       "        vertical-align: middle;\n",
       "    }\n",
       "\n",
       "    .dataframe tbody tr th {\n",
       "        vertical-align: top;\n",
       "    }\n",
       "\n",
       "    .dataframe thead th {\n",
       "        text-align: right;\n",
       "    }\n",
       "</style>\n",
       "<table border=\"1\" class=\"dataframe\">\n",
       "  <thead>\n",
       "    <tr style=\"text-align: right;\">\n",
       "      <th></th>\n",
       "      <th>time</th>\n",
       "      <th>bid</th>\n",
       "      <th>ask</th>\n",
       "      <th>last</th>\n",
       "      <th>volume</th>\n",
       "      <th>time_msc</th>\n",
       "      <th>flags</th>\n",
       "      <th>volume_real</th>\n",
       "    </tr>\n",
       "  </thead>\n",
       "  <tbody>\n",
       "    <tr>\n",
       "      <th>0</th>\n",
       "      <td>1580198400</td>\n",
       "      <td>62.5795</td>\n",
       "      <td>63.0795</td>\n",
       "      <td>62.5783</td>\n",
       "      <td>1</td>\n",
       "      <td>1580198400183</td>\n",
       "      <td>6</td>\n",
       "      <td>1.0</td>\n",
       "    </tr>\n",
       "    <tr>\n",
       "      <th>1</th>\n",
       "      <td>1580198400</td>\n",
       "      <td>62.5795</td>\n",
       "      <td>63.0795</td>\n",
       "      <td>62.5797</td>\n",
       "      <td>1</td>\n",
       "      <td>1580198400218</td>\n",
       "      <td>280</td>\n",
       "      <td>1.0</td>\n",
       "    </tr>\n",
       "    <tr>\n",
       "      <th>2</th>\n",
       "      <td>1580198400</td>\n",
       "      <td>62.5795</td>\n",
       "      <td>63.0795</td>\n",
       "      <td>62.5787</td>\n",
       "      <td>1</td>\n",
       "      <td>1580198400218</td>\n",
       "      <td>280</td>\n",
       "      <td>1.0</td>\n",
       "    </tr>\n",
       "    <tr>\n",
       "      <th>3</th>\n",
       "      <td>1580198400</td>\n",
       "      <td>62.5795</td>\n",
       "      <td>63.0795</td>\n",
       "      <td>62.5795</td>\n",
       "      <td>1</td>\n",
       "      <td>1580198400218</td>\n",
       "      <td>280</td>\n",
       "      <td>1.0</td>\n",
       "    </tr>\n",
       "    <tr>\n",
       "      <th>4</th>\n",
       "      <td>1580198400</td>\n",
       "      <td>62.5794</td>\n",
       "      <td>63.0794</td>\n",
       "      <td>62.5795</td>\n",
       "      <td>1</td>\n",
       "      <td>1580198400452</td>\n",
       "      <td>6</td>\n",
       "      <td>1.0</td>\n",
       "    </tr>\n",
       "    <tr>\n",
       "      <th>...</th>\n",
       "      <td>...</td>\n",
       "      <td>...</td>\n",
       "      <td>...</td>\n",
       "      <td>...</td>\n",
       "      <td>...</td>\n",
       "      <td>...</td>\n",
       "      <td>...</td>\n",
       "      <td>...</td>\n",
       "    </tr>\n",
       "    <tr>\n",
       "      <th>995</th>\n",
       "      <td>1580198574</td>\n",
       "      <td>62.6242</td>\n",
       "      <td>63.1242</td>\n",
       "      <td>62.6251</td>\n",
       "      <td>1</td>\n",
       "      <td>1580198574135</td>\n",
       "      <td>280</td>\n",
       "      <td>1.0</td>\n",
       "    </tr>\n",
       "    <tr>\n",
       "      <th>996</th>\n",
       "      <td>1580198574</td>\n",
       "      <td>62.6242</td>\n",
       "      <td>63.1242</td>\n",
       "      <td>62.6250</td>\n",
       "      <td>1</td>\n",
       "      <td>1580198574135</td>\n",
       "      <td>280</td>\n",
       "      <td>1.0</td>\n",
       "    </tr>\n",
       "    <tr>\n",
       "      <th>997</th>\n",
       "      <td>1580198574</td>\n",
       "      <td>62.6242</td>\n",
       "      <td>63.1242</td>\n",
       "      <td>62.6242</td>\n",
       "      <td>1</td>\n",
       "      <td>1580198574135</td>\n",
       "      <td>280</td>\n",
       "      <td>1.0</td>\n",
       "    </tr>\n",
       "    <tr>\n",
       "      <th>998</th>\n",
       "      <td>1580198575</td>\n",
       "      <td>62.6235</td>\n",
       "      <td>63.1235</td>\n",
       "      <td>62.6242</td>\n",
       "      <td>1</td>\n",
       "      <td>1580198575119</td>\n",
       "      <td>6</td>\n",
       "      <td>1.0</td>\n",
       "    </tr>\n",
       "    <tr>\n",
       "      <th>999</th>\n",
       "      <td>1580198575</td>\n",
       "      <td>62.6235</td>\n",
       "      <td>63.1235</td>\n",
       "      <td>62.6239</td>\n",
       "      <td>1</td>\n",
       "      <td>1580198575119</td>\n",
       "      <td>280</td>\n",
       "      <td>1.0</td>\n",
       "    </tr>\n",
       "  </tbody>\n",
       "</table>\n",
       "<p>1000 rows × 8 columns</p>\n",
       "</div>"
      ],
      "text/plain": [
       "           time      bid      ask     last  volume       time_msc  flags  \\\n",
       "0    1580198400  62.5795  63.0795  62.5783       1  1580198400183      6   \n",
       "1    1580198400  62.5795  63.0795  62.5797       1  1580198400218    280   \n",
       "2    1580198400  62.5795  63.0795  62.5787       1  1580198400218    280   \n",
       "3    1580198400  62.5795  63.0795  62.5795       1  1580198400218    280   \n",
       "4    1580198400  62.5794  63.0794  62.5795       1  1580198400452      6   \n",
       "..          ...      ...      ...      ...     ...            ...    ...   \n",
       "995  1580198574  62.6242  63.1242  62.6251       1  1580198574135    280   \n",
       "996  1580198574  62.6242  63.1242  62.6250       1  1580198574135    280   \n",
       "997  1580198574  62.6242  63.1242  62.6242       1  1580198574135    280   \n",
       "998  1580198575  62.6235  63.1235  62.6242       1  1580198575119      6   \n",
       "999  1580198575  62.6235  63.1235  62.6239       1  1580198575119    280   \n",
       "\n",
       "     volume_real  \n",
       "0            1.0  \n",
       "1            1.0  \n",
       "2            1.0  \n",
       "3            1.0  \n",
       "4            1.0  \n",
       "..           ...  \n",
       "995          1.0  \n",
       "996          1.0  \n",
       "997          1.0  \n",
       "998          1.0  \n",
       "999          1.0  \n",
       "\n",
       "[1000 rows x 8 columns]"
      ]
     },
     "execution_count": 29,
     "metadata": {},
     "output_type": "execute_result"
    }
   ],
   "source": [
    "usdrub_ticks_frame"
   ]
  },
  {
   "cell_type": "code",
   "execution_count": null,
   "metadata": {},
   "outputs": [],
   "source": [
    "#  bid - продать, ask - купить"
   ]
  },
  {
   "cell_type": "code",
   "execution_count": null,
   "metadata": {},
   "outputs": [],
   "source": [
    "plt.plot(ticks_frame['time'], eurrub_ticks_frame['ask'], 'r-', label='ask')"
   ]
  }
 ],
 "metadata": {
  "kernelspec": {
   "display_name": "Python 3",
   "language": "python",
   "name": "python3"
  },
  "language_info": {
   "codemirror_mode": {
    "name": "ipython",
    "version": 3
   },
   "file_extension": ".py",
   "mimetype": "text/x-python",
   "name": "python",
   "nbconvert_exporter": "python",
   "pygments_lexer": "ipython3",
   "version": "3.8.3"
  }
 },
 "nbformat": 4,
 "nbformat_minor": 4
}
